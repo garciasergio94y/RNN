{
  "cells": [
    {
      "cell_type": "markdown",
      "metadata": {
        "id": "view-in-github",
        "colab_type": "text"
      },
      "source": [
        "<a href=\"https://colab.research.google.com/github/garciasergio94y/RNN/blob/LSTM_onehot_QC/LSTM_onehot_QC_R.ipynb\" target=\"_parent\"><img src=\"https://colab.research.google.com/assets/colab-badge.svg\" alt=\"Open In Colab\"/></a>"
      ]
    },
    {
      "cell_type": "code",
      "execution_count": 17,
      "metadata": {
        "id": "fcKncLefo322",
        "colab": {
          "base_uri": "https://localhost:8080/",
          "height": 1000
        },
        "outputId": "c10ccc1a-69e5-4f82-d26d-5034487a1b17"
      },
      "outputs": [
        {
          "output_type": "stream",
          "name": "stderr",
          "text": [
            "Loading required package: readxl\n",
            "\n",
            "Loading required package: purrr\n",
            "\n",
            "Loading required package: filesstrings\n",
            "\n",
            "Warning message in library(package, lib.loc = lib.loc, character.only = TRUE, logical.return = TRUE, :\n",
            "“there is no package called ‘filesstrings’”\n",
            "Installing package into ‘/usr/local/lib/R/site-library’\n",
            "(as ‘lib’ is unspecified)\n",
            "\n",
            "also installing the dependencies ‘checkmate’, ‘strex’\n",
            "\n",
            "\n",
            "Loading required package: stringr\n",
            "\n",
            "Loading required package: tidyr\n",
            "\n",
            "Loading required package: ggplot2\n",
            "\n",
            "Loading required package: tictoc\n",
            "\n",
            "Warning message in library(package, lib.loc = lib.loc, character.only = TRUE, logical.return = TRUE, :\n",
            "“there is no package called ‘tictoc’”\n",
            "Installing package into ‘/usr/local/lib/R/site-library’\n",
            "(as ‘lib’ is unspecified)\n",
            "\n",
            "Loading required package: wavelets\n",
            "\n",
            "Warning message in library(package, lib.loc = lib.loc, character.only = TRUE, logical.return = TRUE, :\n",
            "“there is no package called ‘wavelets’”\n",
            "Installing package into ‘/usr/local/lib/R/site-library’\n",
            "(as ‘lib’ is unspecified)\n",
            "\n",
            "Loading required package: reticulate\n",
            "\n"
          ]
        },
        {
          "output_type": "display_data",
          "data": {
            "text/html": [
              "<ol>\n",
              "\t<li>NULL</li>\n",
              "\t<li>NULL</li>\n",
              "\t<li>NULL</li>\n",
              "\t<li>NULL</li>\n",
              "\t<li>NULL</li>\n",
              "\t<li>NULL</li>\n",
              "\t<li>NULL</li>\n",
              "\t<li>NULL</li>\n",
              "\t<li>NULL</li>\n",
              "\t<li>NULL</li>\n",
              "\t<li>NULL</li>\n",
              "\t<li>NULL</li>\n",
              "\t<li>NULL</li>\n",
              "\t<li>NULL</li>\n",
              "\t<li>NULL</li>\n",
              "\t<li>NULL</li>\n",
              "</ol>\n"
            ],
            "text/markdown": "1. NULL\n2. NULL\n3. NULL\n4. NULL\n5. NULL\n6. NULL\n7. NULL\n8. NULL\n9. NULL\n10. NULL\n11. NULL\n12. NULL\n13. NULL\n14. NULL\n15. NULL\n16. NULL\n\n\n",
            "text/latex": "\\begin{enumerate}\n\\item NULL\n\\item NULL\n\\item NULL\n\\item NULL\n\\item NULL\n\\item NULL\n\\item NULL\n\\item NULL\n\\item NULL\n\\item NULL\n\\item NULL\n\\item NULL\n\\item NULL\n\\item NULL\n\\item NULL\n\\item NULL\n\\end{enumerate}\n",
            "text/plain": [
              "[[1]]\n",
              "NULL\n",
              "\n",
              "[[2]]\n",
              "NULL\n",
              "\n",
              "[[3]]\n",
              "NULL\n",
              "\n",
              "[[4]]\n",
              "NULL\n",
              "\n",
              "[[5]]\n",
              "NULL\n",
              "\n",
              "[[6]]\n",
              "NULL\n",
              "\n",
              "[[7]]\n",
              "NULL\n",
              "\n",
              "[[8]]\n",
              "NULL\n",
              "\n",
              "[[9]]\n",
              "NULL\n",
              "\n",
              "[[10]]\n",
              "NULL\n",
              "\n",
              "[[11]]\n",
              "NULL\n",
              "\n",
              "[[12]]\n",
              "NULL\n",
              "\n",
              "[[13]]\n",
              "NULL\n",
              "\n",
              "[[14]]\n",
              "NULL\n",
              "\n",
              "[[15]]\n",
              "NULL\n",
              "\n",
              "[[16]]\n",
              "NULL\n"
            ]
          },
          "metadata": {}
        },
        {
          "output_type": "stream",
          "name": "stderr",
          "text": [
            "Loading required package: filesstrings\n",
            "\n",
            "\n",
            "Attaching package: ‘filesstrings’\n",
            "\n",
            "\n",
            "The following object is masked from ‘package:dplyr’:\n",
            "\n",
            "    all_equal\n",
            "\n",
            "\n",
            "Loading required package: caret\n",
            "\n",
            "Warning message in library(package, lib.loc = lib.loc, character.only = TRUE, logical.return = TRUE, :\n",
            "“there is no package called ‘caret’”\n",
            "Loading required package: wavelets\n",
            "\n",
            "Loading required package: tictoc\n",
            "\n"
          ]
        }
      ],
      "source": [
        "# Instalación y carga de librerías:\n",
        "\n",
        "packages <- c(\"readr\", \"readxl\", \"purrr\", \"dplyr\", \"filesstrings\",\n",
        "              \"stringr\", \"tidyr\", \"lubridate\", \"ggplot2\", #\"caret\",\n",
        "              \"tictoc\", \"wavelets\", \"reticulate\", \"abind\",\n",
        "              \"tensorflow\", \"tfdatasets\", \"keras\")\n",
        "\n",
        "# Función para instalar paquetes si no están ya instalados\n",
        "install_packages <- function(package) {\n",
        "  if (!require(package, character.only = TRUE)) {\n",
        "    install.packages(package)\n",
        "    }\n",
        "}\n",
        "\n",
        "# Aplicar la función para cada uno de los paquetes\n",
        "lapply(packages, install_packages)\n",
        "\n",
        "require(readr)\n",
        "require(readxl)\n",
        "require(purrr)\n",
        "require(dplyr)\n",
        "require(filesstrings)\n",
        "require(stringr)\n",
        "require(tidyr)\n",
        "require(lubridate)\n",
        "require(ggplot2)\n",
        "require(caret)\n",
        "require(wavelets)\n",
        "require(tictoc)\n",
        "require(reticulate)\n",
        "require(abind)\n",
        "require(tensorflow)\n",
        "require(tfdatasets)\n",
        "require(keras)\n"
      ]
    },
    {
      "cell_type": "code",
      "source": [
        "workingdir <- getwd()\n",
        "datadir <- file.path(workingdir, \"Datos/daily_s\")\n",
        "eventdir <- file.path(workingdir, \"Datos/daily_s/Event\")\n",
        "eventdir_old <- file.path(workingdir, \"Datos/daily_s/Event/old\")\n",
        "lotdir <- file.path(workingdir, \"Datos/daily_s/Lot\")\n",
        "lotdir_old <- file.path(workingdir, \"Datos/daily_s/Lot/old\")\n",
        "qcdir <- file.path(workingdir, \"Datos/daily_s/qc\")\n",
        "qcdir_old <- file.path(workingdir, \"Datos/daily_s/qc/old\")\n",
        "resultsdir <- file.path(workingdir, \"Resultados\")"
      ],
      "metadata": {
        "id": "CmX65urDjO83"
      },
      "execution_count": 2,
      "outputs": []
    },
    {
      "cell_type": "code",
      "execution_count": 3,
      "metadata": {
        "id": "XM3iSvsm8ZNO",
        "colab": {
          "base_uri": "https://localhost:8080/",
          "height": 69
        },
        "outputId": "3b686a77-c8d9-4f82-e73d-95c979c945e9"
      },
      "outputs": [
        {
          "output_type": "stream",
          "name": "stdout",
          "text": [
            "TensorFlow built with CUDA:  TRUE \n",
            "GPU device name:  /device:GPU:0"
          ]
        },
        {
          "output_type": "display_data",
          "data": {
            "text/html": [
              "TRUE"
            ],
            "text/markdown": "TRUE",
            "text/latex": "TRUE",
            "text/plain": [
              "[1] TRUE"
            ]
          },
          "metadata": {}
        }
      ],
      "source": [
        "tensorflow::tf_gpu_configured()"
      ]
    },
    {
      "cell_type": "markdown",
      "source": [
        "Lectura de archivos de datos"
      ],
      "metadata": {
        "id": "iGT314P3vtdx"
      }
    },
    {
      "cell_type": "code",
      "execution_count": 6,
      "metadata": {
        "id": "8EhDKsGXewWe",
        "colab": {
          "base_uri": "https://localhost:8080/"
        },
        "outputId": "6bbb50b0-8b0f-40d8-d7bc-ac3dc17356dd"
      },
      "outputs": [
        {
          "output_type": "stream",
          "name": "stderr",
          "text": [
            "Warning message in write.csv(qc_data_sel_wl, file = \"qc_data_sel_wl\", row.names = F, :\n",
            "“attempt to set 'col.names' ignored”\n"
          ]
        }
      ],
      "source": [
        "# Leer archivo dataset desde Github:\n",
        "url <- \"https://raw.githubusercontent.com/garciasergio94y/RNN/LSTM_onehot_QC/Resultados/qc_data_sel_wl?token=GHSAT0AAAAAACDFXH5LJ7YOBL4BSAL5E4BKZDT5OMA\"\n",
        "qc_data_sel_wl <- read.csv(url)\n",
        "\n",
        "# Guardar una copia local:\n",
        "write.csv(qc_data_sel_wl, file = \"qc_data_sel_wl\", row.names = F, col.names = F) \n"
      ]
    },
    {
      "cell_type": "code",
      "execution_count": 30,
      "metadata": {
        "id": "ABzL8R-64mKf",
        "colab": {
          "base_uri": "https://localhost:8080/",
          "height": 514
        },
        "outputId": "dabf243a-5960-44dc-c2f0-70103f2c50b2"
      },
      "outputs": [
        {
          "output_type": "display_data",
          "data": {
            "text/html": [
              "<table class=\"dataframe\">\n",
              "<caption>A data.frame: 6 × 19</caption>\n",
              "<thead>\n",
              "\t<tr><th></th><th scope=col>TIEMPO_QC</th><th scope=col>QC_RESULT</th><th scope=col>W1</th><th scope=col>W2</th><th scope=col>W3</th><th scope=col>W4</th><th scope=col>W5</th><th scope=col>W6</th><th scope=col>W7</th><th scope=col>V1</th><th scope=col>V2</th><th scope=col>V3</th><th scope=col>V4</th><th scope=col>V5</th><th scope=col>V6</th><th scope=col>V7</th><th scope=col>ANALIZADOR</th><th scope=col>CODIGO_PRUEBA</th><th scope=col>NIVEL</th></tr>\n",
              "\t<tr><th></th><th scope=col>&lt;dttm&gt;</th><th scope=col>&lt;dbl&gt;</th><th scope=col>&lt;dbl&gt;</th><th scope=col>&lt;dbl&gt;</th><th scope=col>&lt;dbl&gt;</th><th scope=col>&lt;dbl&gt;</th><th scope=col>&lt;dbl&gt;</th><th scope=col>&lt;dbl&gt;</th><th scope=col>&lt;dbl&gt;</th><th scope=col>&lt;dbl&gt;</th><th scope=col>&lt;dbl&gt;</th><th scope=col>&lt;dbl&gt;</th><th scope=col>&lt;dbl&gt;</th><th scope=col>&lt;dbl&gt;</th><th scope=col>&lt;dbl&gt;</th><th scope=col>&lt;dbl&gt;</th><th scope=col>&lt;chr&gt;</th><th scope=col>&lt;chr&gt;</th><th scope=col>&lt;chr&gt;</th></tr>\n",
              "</thead>\n",
              "<tbody>\n",
              "\t<tr><th scope=row>1</th><td>2023-02-27 09:17:02</td><td>401.4</td><td> 10.815059</td><td>-10.034408</td><td>-6.682440</td><td> 4.332322</td><td>-2.0369932</td><td>-99999</td><td>-99999</td><td>373.8570</td><td>397.5725</td><td>372.7530</td><td>373.6333</td><td>96.13080</td><td>-99999</td><td>-99999</td><td>DXI800 num 1</td><td>CLC00815</td><td>3</td></tr>\n",
              "\t<tr><th scope=row>2</th><td>2023-02-27 09:14:55</td><td>141.3</td><td> -3.409083</td><td> 13.571425</td><td>-6.923823</td><td> 7.590752</td><td>-0.8203487</td><td>-99999</td><td>-99999</td><td>384.8846</td><td>392.7571</td><td>374.0874</td><td>373.1011</td><td>94.00418</td><td>-99999</td><td>-99999</td><td>DXI800 num 1</td><td>CLC00815</td><td>2</td></tr>\n",
              "\t<tr><th scope=row>3</th><td>2023-02-27 09:13:25</td><td> 52.0</td><td>-10.542906</td><td> 18.887730</td><td>-4.650879</td><td>10.071757</td><td> 0.3812189</td><td>-99999</td><td>-99999</td><td>393.7813</td><td>386.3050</td><td>376.5056</td><td>372.6347</td><td>91.70756</td><td>-99999</td><td>-99999</td><td>DXI800 num 1</td><td>CLC00815</td><td>1</td></tr>\n",
              "\t<tr><th scope=row>4</th><td>2023-02-24 09:18:42</td><td>421.7</td><td> 14.753653</td><td> -7.126668</td><td>-1.256403</td><td>11.449636</td><td> 1.5241625</td><td>-99999</td><td>-99999</td><td>384.6053</td><td>379.7896</td><td>379.7570</td><td>372.2544</td><td>89.24938</td><td>-99999</td><td>-99999</td><td>DXI800 num 1</td><td>CLC00815</td><td>3</td></tr>\n",
              "\t<tr><th scope=row>5</th><td>2023-02-24 09:16:27</td><td> 51.0</td><td>  2.802629</td><td>-18.145619</td><td> 0.978243</td><td>11.633733</td><td> 2.5831021</td><td>-99999</td><td>-99999</td><td>378.3141</td><td>375.3619</td><td>383.5886</td><td>371.9828</td><td>86.63833</td><td>-99999</td><td>-99999</td><td>DXI800 num 1</td><td>CLC00815</td><td>1</td></tr>\n",
              "\t<tr><th scope=row>6</th><td>2023-02-24 09:15:51</td><td>140.7</td><td>-18.803371</td><td> -1.326283</td><td> 1.751535</td><td>10.662158</td><td> 3.5343644</td><td>-99999</td><td>-99999</td><td>388.8738</td><td>374.5546</td><td>387.5806</td><td>371.8445</td><td>83.88591</td><td>-99999</td><td>-99999</td><td>DXI800 num 1</td><td>CLC00815</td><td>2</td></tr>\n",
              "</tbody>\n",
              "</table>\n"
            ],
            "text/markdown": "\nA data.frame: 6 × 19\n\n| <!--/--> | TIEMPO_QC &lt;dttm&gt; | QC_RESULT &lt;dbl&gt; | W1 &lt;dbl&gt; | W2 &lt;dbl&gt; | W3 &lt;dbl&gt; | W4 &lt;dbl&gt; | W5 &lt;dbl&gt; | W6 &lt;dbl&gt; | W7 &lt;dbl&gt; | V1 &lt;dbl&gt; | V2 &lt;dbl&gt; | V3 &lt;dbl&gt; | V4 &lt;dbl&gt; | V5 &lt;dbl&gt; | V6 &lt;dbl&gt; | V7 &lt;dbl&gt; | ANALIZADOR &lt;chr&gt; | CODIGO_PRUEBA &lt;chr&gt; | NIVEL &lt;chr&gt; |\n|---|---|---|---|---|---|---|---|---|---|---|---|---|---|---|---|---|---|---|---|\n| 1 | 2023-02-27 09:17:02 | 401.4 |  10.815059 | -10.034408 | -6.682440 |  4.332322 | -2.0369932 | -99999 | -99999 | 373.8570 | 397.5725 | 372.7530 | 373.6333 | 96.13080 | -99999 | -99999 | DXI800 num 1 | CLC00815 | 3 |\n| 2 | 2023-02-27 09:14:55 | 141.3 |  -3.409083 |  13.571425 | -6.923823 |  7.590752 | -0.8203487 | -99999 | -99999 | 384.8846 | 392.7571 | 374.0874 | 373.1011 | 94.00418 | -99999 | -99999 | DXI800 num 1 | CLC00815 | 2 |\n| 3 | 2023-02-27 09:13:25 |  52.0 | -10.542906 |  18.887730 | -4.650879 | 10.071757 |  0.3812189 | -99999 | -99999 | 393.7813 | 386.3050 | 376.5056 | 372.6347 | 91.70756 | -99999 | -99999 | DXI800 num 1 | CLC00815 | 1 |\n| 4 | 2023-02-24 09:18:42 | 421.7 |  14.753653 |  -7.126668 | -1.256403 | 11.449636 |  1.5241625 | -99999 | -99999 | 384.6053 | 379.7896 | 379.7570 | 372.2544 | 89.24938 | -99999 | -99999 | DXI800 num 1 | CLC00815 | 3 |\n| 5 | 2023-02-24 09:16:27 |  51.0 |   2.802629 | -18.145619 |  0.978243 | 11.633733 |  2.5831021 | -99999 | -99999 | 378.3141 | 375.3619 | 383.5886 | 371.9828 | 86.63833 | -99999 | -99999 | DXI800 num 1 | CLC00815 | 1 |\n| 6 | 2023-02-24 09:15:51 | 140.7 | -18.803371 |  -1.326283 |  1.751535 | 10.662158 |  3.5343644 | -99999 | -99999 | 388.8738 | 374.5546 | 387.5806 | 371.8445 | 83.88591 | -99999 | -99999 | DXI800 num 1 | CLC00815 | 2 |\n\n",
            "text/latex": "A data.frame: 6 × 19\n\\begin{tabular}{r|lllllllllllllllllll}\n  & TIEMPO\\_QC & QC\\_RESULT & W1 & W2 & W3 & W4 & W5 & W6 & W7 & V1 & V2 & V3 & V4 & V5 & V6 & V7 & ANALIZADOR & CODIGO\\_PRUEBA & NIVEL\\\\\n  & <dttm> & <dbl> & <dbl> & <dbl> & <dbl> & <dbl> & <dbl> & <dbl> & <dbl> & <dbl> & <dbl> & <dbl> & <dbl> & <dbl> & <dbl> & <dbl> & <chr> & <chr> & <chr>\\\\\n\\hline\n\t1 & 2023-02-27 09:17:02 & 401.4 &  10.815059 & -10.034408 & -6.682440 &  4.332322 & -2.0369932 & -99999 & -99999 & 373.8570 & 397.5725 & 372.7530 & 373.6333 & 96.13080 & -99999 & -99999 & DXI800 num 1 & CLC00815 & 3\\\\\n\t2 & 2023-02-27 09:14:55 & 141.3 &  -3.409083 &  13.571425 & -6.923823 &  7.590752 & -0.8203487 & -99999 & -99999 & 384.8846 & 392.7571 & 374.0874 & 373.1011 & 94.00418 & -99999 & -99999 & DXI800 num 1 & CLC00815 & 2\\\\\n\t3 & 2023-02-27 09:13:25 &  52.0 & -10.542906 &  18.887730 & -4.650879 & 10.071757 &  0.3812189 & -99999 & -99999 & 393.7813 & 386.3050 & 376.5056 & 372.6347 & 91.70756 & -99999 & -99999 & DXI800 num 1 & CLC00815 & 1\\\\\n\t4 & 2023-02-24 09:18:42 & 421.7 &  14.753653 &  -7.126668 & -1.256403 & 11.449636 &  1.5241625 & -99999 & -99999 & 384.6053 & 379.7896 & 379.7570 & 372.2544 & 89.24938 & -99999 & -99999 & DXI800 num 1 & CLC00815 & 3\\\\\n\t5 & 2023-02-24 09:16:27 &  51.0 &   2.802629 & -18.145619 &  0.978243 & 11.633733 &  2.5831021 & -99999 & -99999 & 378.3141 & 375.3619 & 383.5886 & 371.9828 & 86.63833 & -99999 & -99999 & DXI800 num 1 & CLC00815 & 1\\\\\n\t6 & 2023-02-24 09:15:51 & 140.7 & -18.803371 &  -1.326283 &  1.751535 & 10.662158 &  3.5343644 & -99999 & -99999 & 388.8738 & 374.5546 & 387.5806 & 371.8445 & 83.88591 & -99999 & -99999 & DXI800 num 1 & CLC00815 & 2\\\\\n\\end{tabular}\n",
            "text/plain": [
              "  TIEMPO_QC           QC_RESULT W1         W2         W3        W4       \n",
              "1 2023-02-27 09:17:02 401.4      10.815059 -10.034408 -6.682440  4.332322\n",
              "2 2023-02-27 09:14:55 141.3      -3.409083  13.571425 -6.923823  7.590752\n",
              "3 2023-02-27 09:13:25  52.0     -10.542906  18.887730 -4.650879 10.071757\n",
              "4 2023-02-24 09:18:42 421.7      14.753653  -7.126668 -1.256403 11.449636\n",
              "5 2023-02-24 09:16:27  51.0       2.802629 -18.145619  0.978243 11.633733\n",
              "6 2023-02-24 09:15:51 140.7     -18.803371  -1.326283  1.751535 10.662158\n",
              "  W5         W6     W7     V1       V2       V3       V4       V5       V6    \n",
              "1 -2.0369932 -99999 -99999 373.8570 397.5725 372.7530 373.6333 96.13080 -99999\n",
              "2 -0.8203487 -99999 -99999 384.8846 392.7571 374.0874 373.1011 94.00418 -99999\n",
              "3  0.3812189 -99999 -99999 393.7813 386.3050 376.5056 372.6347 91.70756 -99999\n",
              "4  1.5241625 -99999 -99999 384.6053 379.7896 379.7570 372.2544 89.24938 -99999\n",
              "5  2.5831021 -99999 -99999 378.3141 375.3619 383.5886 371.9828 86.63833 -99999\n",
              "6  3.5343644 -99999 -99999 388.8738 374.5546 387.5806 371.8445 83.88591 -99999\n",
              "  V7     ANALIZADOR   CODIGO_PRUEBA NIVEL\n",
              "1 -99999 DXI800 num 1 CLC00815      3    \n",
              "2 -99999 DXI800 num 1 CLC00815      2    \n",
              "3 -99999 DXI800 num 1 CLC00815      1    \n",
              "4 -99999 DXI800 num 1 CLC00815      3    \n",
              "5 -99999 DXI800 num 1 CLC00815      1    \n",
              "6 -99999 DXI800 num 1 CLC00815      2    "
            ]
          },
          "metadata": {}
        }
      ],
      "source": [
        "# Convertir fechas en formato POSIXct y niveles de QC en chr:\n",
        "\n",
        "qc_data_sel_wl[,1] %<>% as.POSIXct(tz = \"Europe/Madrid\")\n",
        "qc_data_sel_wl$NIVEL %<>% as.character()\n",
        "head(qc_data_sel_wl)"
      ]
    },
    {
      "cell_type": "markdown",
      "source": [
        "Definición de funciones para transformación de variables, normalización y secuenciación de series de datos:"
      ],
      "metadata": {
        "id": "mMi3X0OGv3k7"
      }
    },
    {
      "cell_type": "code",
      "source": [
        "# Función de normalización de las variables continuas y eliminación de coeficientes wavelet con valores NA. Se definen dos funciones, una para el set de training y otra para los sets de test y validación. La diferencia es que la de train devuelve vectores de medias y de desviaciones estándar que luego se usan como argumentos en las otras. De esta forma, el escalado y normalización se realiza con la misma media y desviación del set de entrenamiento para los otros dos datasets:\n",
        "\n",
        "normalize_train <- function(data) {\n",
        "   \n",
        "  # Identificar las columnas que empiezan por W y la columna 'RESULTADO'\n",
        "  wavelet_cols <- grep(\"^[WV]\", colnames(data), value = TRUE)\n",
        "  result_col <- \"QC_RESULT\"\n",
        "  \n",
        "  # Calcular medias y desviaciones estándar por grupos de pruebas y   analizador:\n",
        "  means <- data %>%\n",
        "    group_by(ANALIZADOR, CODIGO_PRUEBA) %>%\n",
        "    summarise(across(c(result_col, wavelet_cols),\n",
        "                     ~mean(., na.rm = T))) \n",
        "  \n",
        "  std_devs <- data %>% \n",
        "    group_by(ANALIZADOR, CODIGO_PRUEBA) %>% \n",
        "    summarise(across(c(result_col, wavelet_cols),\n",
        "                     ~sd(., na.rm = T)))\n",
        "  \n",
        "  # Normalizar las columnas de resultado y coeficientes wavelet\n",
        "  norm_data <- data %>%\n",
        "    group_by(ANALIZADOR, CODIGO_PRUEBA) %>%\n",
        "    mutate(across(c(result_col, wavelet_cols), scale))%>%\n",
        "    mutate(across(wavelet_cols,\n",
        "                           ~ifelse(is.na(.), -99999, .))) %>%\n",
        "    ungroup()\n",
        "  \n",
        "  # Devolver el dataframe escalado y las medias y desviaciones estándar:\n",
        "  \n",
        "  return(list(scaled_data = as.data.frame(norm_data), \n",
        "              means = means, stdev = std_devs))\n",
        "}"
      ],
      "metadata": {
        "id": "o0ZlcpJTv4M0"
      },
      "execution_count": 8,
      "outputs": []
    },
    {
      "cell_type": "code",
      "source": [
        "# Función de normalización para los datos de validación y test, con eliminación de valores NA en los wavelets:\n",
        "\n",
        "norm_test_val <- function(data, means, stds) {\n",
        "  \n",
        "  # Identificar las columnas numéricas y seleccionarlas\n",
        "  wavelet_cols <- grep(\"^[WV]\", colnames(data), value = TRUE)\n",
        "  result_col <- \"QC_RESULT\"\n",
        "  test_cols <- \"CODIGO_PRUEBA\"\n",
        "  \n",
        "  cols <- c(result_col, wavelet_cols, test_cols)\n",
        "  \n",
        "  # Seleccionar medias y desviaciones de resultados y coeficientes   wavelet:\n",
        "  means_r <- train_n$means\n",
        "  stds_r <- train_n$stdev\n",
        "  means_wl <- train_n$means[wavelet_cols]\n",
        "  stds_wl <- train_n$stdev[wavelet_cols]\n",
        "  \n",
        "  # Normalizar por cada prueba las columnas de resultado y coeficientes wavelet usando las medias y desviaciones estándar de train suministradas:\n",
        "  means <- data %>%\n",
        "    group_by(ANALIZADOR, CODIGO_PRUEBA) %>%\n",
        "    left_join(means_r, by = c(\"ANALIZADOR\", \"CODIGO_PRUEBA\"), \n",
        "              suffix = c(\".val\", \".means\")) %>%\n",
        "     ungroup()\n",
        "   \n",
        "  stds <- data %>%\n",
        "    group_by(ANALIZADOR, CODIGO_PRUEBA) %>%\n",
        "     left_join(stds_r, by = c(\"ANALIZADOR\", \"CODIGO_PRUEBA\"),\n",
        "               suffix = c(\".val\", \".sd\")) %>%\n",
        "    ungroup()\n",
        "     \n",
        "    \n",
        "  norm_data <- data %>%\n",
        "    mutate(., RESULTADO.st =\n",
        "             (.[,result_col]-\n",
        "                select(means,\n",
        "                       starts_with(result_col) &\n",
        "                       ends_with(\".means\"))) /\n",
        "                select(stds,\n",
        "                       starts_with(result_col) &\n",
        "                       ends_with(\".sd\"))\n",
        "           ) %>%\n",
        "    mutate(WAVELETS.st =\n",
        "             across(all_of(wavelet_cols),\n",
        "                    ~ (. - select(means, \n",
        "                                  starts_with(cur_column()) &\n",
        "                                    ends_with(\".means\"))[[1]]) /\n",
        "                      select(stds,\n",
        "                             starts_with(cur_column()) &\n",
        "                               ends_with(\".sd\"))[[1]])\n",
        "           ) %>%\n",
        "    select(-c(result_col, wavelet_cols)) %>%\n",
        "    unnest(c(WAVELETS.st, RESULTADO.st)) %>%\n",
        "    relocate(starts_with(\"QC_\"), .after = 1) %>%\n",
        "    relocate(starts_with(\"W\"), .after = 2) %>%\n",
        "    relocate(starts_with(\"V\"), .before = ANALIZADOR) \n",
        "    \n",
        "  names(norm_data)[2]<-result_col\n",
        "  \n",
        "  return(as.data.frame(norm_data))\n",
        "}\n",
        "\n"
      ],
      "metadata": {
        "id": "nLqSx55RwUDM"
      },
      "execution_count": 9,
      "outputs": []
    },
    {
      "cell_type": "markdown",
      "source": [
        "## Función ```code_cat_var```.\n",
        "\n",
        "Función para convertir las variables categóricas tipo string en vectores numéricos y codificarlas (one hot), así como normalizar los valores de las variables continuas, creando una lista que retiene en un vector la información de los niveles de los factores"
      ],
      "metadata": {
        "id": "Gjbp70bou5RV"
      }
    },
    {
      "cell_type": "code",
      "source": [
        "code_cat_var <- function(data) {\n",
        "  # Eliminación de la columna CODIGO_PRUEBA si solo tiene una          categoría:\n",
        "  if(length(unique(data$CODIGO_PRUEBA))==1){\n",
        "    data %<>% select(., -CODIGO_PRUEBA)\n",
        "    }\n",
        "  \n",
        "  \n",
        "  # Detección de strings:\n",
        "  cat_vars <- which(sapply(data, is.character))\n",
        "  # Conversión a factores:\n",
        "  data_cat <- lapply(data[,cat_vars], as.factor)\n",
        "  # Extracción de niveles:\n",
        "  levels <- lapply(data_cat, levels)\n",
        "  \n",
        "  # Codificar one-hot todas las variables factor:\n",
        "  encoded_cols <- lapply(seq_along(data_cat), function(i) {\n",
        "    cols <- model.matrix(~ factor(data_cat[[i]]) - 1)\n",
        "    colnames(cols) <- paste0(names(data)[cat_vars[i]], \"_\",\n",
        "                             levels[[i]])\n",
        "    cols\n",
        "    })\n",
        "  \n",
        "  # Unir columnas codificadas con conjunto de datos original:\n",
        "  if (!\"CODIGO_PRUEBA\" %in% names(data)) {\n",
        "    data_encoded <- bind_cols(data %>% \n",
        "                                select(-all_of(cat_vars)),\n",
        "                                encoded_cols)\n",
        "    } else {\n",
        "      data_encoded <-  bind_cols(data %>%\n",
        "                                   select(c(-all_of(cat_vars),\n",
        "                                            -\"CODIGO_PRUEBA\")),\n",
        "                                 encoded_cols)\n",
        "      }\n",
        "  \n",
        "  return(list(data = data_encoded, levels = levels))\n",
        "}"
      ],
      "metadata": {
        "id": "DVazEu9Ouyfq"
      },
      "execution_count": 10,
      "outputs": []
    },
    {
      "cell_type": "code",
      "source": [
        "# Función para crear un índice de casos únicos de combinaciones de ANALIZADOR, CÓDIGO_PRUEBA y NIVEL:\n",
        "\n",
        "unique_lab_cases <- function(df, categorical_vars) {\n",
        "  unique_groups <- unique(df[categorical_vars])\n",
        "  \n",
        "  code <- apply(unique_groups, 1, function(row) {\n",
        "    paste0(ifelse(row == 1, 1, 0), collapse = \"\")\n",
        "  })\n",
        "  unique_groups %<>% mutate(., code)\n",
        "  coded_df <- df %>%\n",
        "    merge(unique_groups, ., by = colnames(unique_groups)\n",
        "          [-length(colnames(unique_groups))])\n",
        "  coded_df <- coded_df[, c(colnames(df), \"code\")]\n",
        "  \n",
        "  return(coded_df)\n",
        "}\n"
      ],
      "metadata": {
        "id": "OIa4QAmLn5DF"
      },
      "execution_count": 11,
      "outputs": []
    },
    {
      "cell_type": "code",
      "execution_count": 12,
      "metadata": {
        "id": "83NtXb2ht_h3"
      },
      "outputs": [],
      "source": [
        "# Función para creación de lotes de series temporales de longitud k (lookback)\n",
        "\n",
        "create_lstm_data.2 <- \n",
        "  function(data, lookback, delay, min_index, max_index,\n",
        "           shuffle = FALSE, batch_size, step = 1,\n",
        "           predseries) {\n",
        "  \n",
        "  if (is.null(max_index)) max_index <- nrow(data) - delay - 1\n",
        "  i <- min_index + lookback\n",
        "  function() {\n",
        "    if (shuffle) {\n",
        "      rows <- sample(c((min_index+lookback):max_index), \n",
        "                     size = batch_size)\n",
        "    } else {\n",
        "      if (i + batch_size >= max_index)\n",
        "        i <<- min_index + lookback\n",
        "      rows <- c(i:min(i+batch_size, max_index))\n",
        "      i <<- i + length(rows)\n",
        "}\n",
        "    samples <- array(0, dim = c(length(rows),\n",
        "                                lookback / step,\n",
        "                                dim(data)[[-1]]))\n",
        "    targets <- array(0, dim = c(length(rows)))\n",
        "    for (j in 1:length(rows)) {\n",
        "      indices <- seq(rows[[j]] - lookback, rows[[j]],\n",
        "                     length.out = dim(samples)[[2]])\n",
        "      samples[j,,] <- data[indices, ]\n",
        "      targets[[j]] <- data[rows[[j]] + delay,predseries]\n",
        "    }\n",
        "    list(samples, targets)\n",
        "  }\n",
        "}\n"
      ]
    },
    {
      "cell_type": "code",
      "source": [
        "index_train <- 1\n",
        "\n",
        "train_gen <- function() {\n",
        "  if (index_train > length(train_k)) {\n",
        "    index_train <<- 1\n",
        "  }\n",
        "  \n",
        "  sequence <- NULL\n",
        "  counter <- 0\n",
        "  \n",
        "  while (is.null(sequence) && counter < length(train_k)) {\n",
        "    sequence <- tryCatch(\n",
        "      train_k[[index_train]](),\n",
        "      error = function(e) {\n",
        "        warning(\"Empty sequence error occurred in the generator.\n",
        "                Trying the next one.\")\n",
        "        return(NULL)  # Devuelve NULL si ocurre un error en la función generadora\n",
        "      }\n",
        "    )\n",
        "    \n",
        "    index_train <<- index_train + 1\n",
        "    counter <<- counter + 1\n",
        "  }\n",
        "  \n",
        "  return(sequence)\n",
        "}\n",
        "\n",
        "\n",
        "index_val <- 1\n",
        "\n",
        "val_gen <- function() {\n",
        "  if (index_val > length(val_k)) {\n",
        "    index_val <<- 1\n",
        "  }\n",
        "  \n",
        "  sequence <- NULL\n",
        "  counter <- 0\n",
        "  \n",
        "  while (is.null(sequence) && counter < length(val_k)) {\n",
        "    sequence <- tryCatch(\n",
        "      val_k[[index_val]](),\n",
        "      error = function(e) {\n",
        "        warning(\"Empty sequence error occurred in the generator.\n",
        "                Trying the next one.\")\n",
        "        return(NULL)  # Devuelve NULL si ocurre un error en la función generadora\n",
        "      }\n",
        "    )\n",
        "    \n",
        "    index_val <<- index_val + 1\n",
        "    counter <<- counter + 1\n",
        "  }\n",
        "  \n",
        "  return(sequence)\n",
        "}"
      ],
      "metadata": {
        "id": "oJUKNB2dvcDt"
      },
      "execution_count": 13,
      "outputs": []
    },
    {
      "cell_type": "code",
      "execution_count": 31,
      "metadata": {
        "id": "eZwFzC3RuRoS",
        "outputId": "0207928d-bc03-40ef-b794-896d82cffb6b",
        "colab": {
          "base_uri": "https://localhost:8080/",
          "height": 86
        }
      },
      "outputs": [
        {
          "output_type": "display_data",
          "data": {
            "text/plain": [
              "             50% \n",
              "\"2022-09-02 UTC\" "
            ]
          },
          "metadata": {}
        },
        {
          "output_type": "display_data",
          "data": {
            "text/plain": [
              "             75% \n",
              "\"2022-12-02 UTC\" "
            ]
          },
          "metadata": {}
        }
      ],
      "source": [
        "# Se divide el dataset en 50% de datos para entrenamiento, 25% para test y 25% para validación.\n",
        "# Para evitar fraccionar las unidades temporales diarias usamos percentiles de la secuencia temporal en días: \n",
        "\n",
        "time_point_50 <- as.POSIXct(as.Date(\n",
        "  quantile(qc_data_sel_wl[[1]], 0.5)))\n",
        "\n",
        "time_point_75 <- as.POSIXct(as.Date(\n",
        "  quantile(qc_data_sel_wl[[1]], 0.75)))\n",
        "\n",
        "time_point_50\n",
        "time_point_75"
      ]
    },
    {
      "cell_type": "code",
      "source": [
        "# Muestra de entrenamiento:\n",
        "train_n <- qc_data_sel_wl %>%\n",
        "  subset(.[[1]] <= time_point_75) %>%\n",
        "  # Normalización del dataset y eliminación de coeficientes\n",
        "  # wavelet con valor NA:\n",
        "  normalize_train()"
      ],
      "metadata": {
        "colab": {
          "base_uri": "https://localhost:8080/"
        },
        "id": "_mfYLtiEQ8Mx",
        "outputId": "38e2d359-367c-4706-949d-30a2dc754f3a"
      },
      "execution_count": 32,
      "outputs": [
        {
          "output_type": "stream",
          "name": "stderr",
          "text": [
            "\u001b[1m\u001b[22m`summarise()` has grouped output by 'ANALIZADOR'. You can override using the\n",
            "`.groups` argument.\n",
            "\u001b[1m\u001b[22m`summarise()` has grouped output by 'ANALIZADOR'. You can override using the\n",
            "`.groups` argument.\n"
          ]
        }
      ]
    },
    {
      "cell_type": "code",
      "source": [
        "# Muestra de validación:\n",
        "val_n <- qc_data_sel_wl %>%\n",
        "  subset(\n",
        "    #.[[1]] > time_point_50 &\n",
        "    .[[1]] > time_point_75) %>%\n",
        "  # Normalización del dataset y eliminación de coeficientes\n",
        "  # wavelet con valor NA:\n",
        "  norm_test_val(means = train$means, stds = train$stdev)"
      ],
      "metadata": {
        "id": "wpZHpUfERR-g"
      },
      "execution_count": 33,
      "outputs": []
    },
    {
      "cell_type": "code",
      "source": [
        "# Codificación onehot:\n",
        "\n",
        "train_code <- code_cat_var(train_n$scaled_data)\n",
        "\n",
        "val_code <- code_cat_var(val_n)"
      ],
      "metadata": {
        "id": "Uslvv9N9yIB0"
      },
      "execution_count": 34,
      "outputs": []
    },
    {
      "cell_type": "code",
      "source": [
        "# Creación de series temporales de tamaño k con los datos de training:\n",
        "\n",
        "# Creación de los códigos identificativos únicos de combinaciones de variables categóricas para el set de training usando la función unique_lab_cases e indicando las posiciones de las variables categóricas en train_code$data que se deseen incluir (en este caso el analizador): \n",
        "\n",
        "train_indx <- unique_lab_cases(train_code$data,\n",
        "                               categorical_vars = c(17:48))[,-1]\n",
        "\n",
        "# Extraemos los códigos para realizar un diccionario de traducción de códigos únicos a índices numéricos:\n",
        "code_values <- unique(train_indx[,\"code\"])\n",
        "code_dictionary <- data.frame(code = code_values)\n",
        "code_dictionary %<>%  \n",
        "  mutate(., index = as.numeric(factor(code_values, \n",
        "                                      levels = code_values)))\n",
        "\n",
        "# Sustituimos los códigos de train_indx por sus índices numéricos:\n",
        "train_indx$index <- code_dictionary$index[match(train_indx$code, code_dictionary$code)]\n",
        "index_values <- unique(train_indx[,\"index\"])\n",
        "train_indx$code <- NULL\n",
        "\n",
        "# Hiperparámetros para generar las series temporales:\n",
        "lookback <- 30 # Longitud de la secuencia previa al target.\n",
        "delay <- 1 # Escoge como target el valor k+1 en el futuro.\n",
        "batch_size <- 100 # Tamaño de batch.\n",
        "min_index <- 1 # Indice de partida de la serie temporal.\n",
        "predseries <- 1 # Posición en el dataset de la variable a predecir (QC_RESULT)\n",
        "\n",
        "# Creación de las series temporales de longitud k por categorías de combinaciones únicas de analizador, código de prueba y nivel de QC:\n",
        " \n",
        "train_k <- lapply(index_values, function(idx) {\n",
        "  create_lstm_data.2(\n",
        "    data = as.matrix(train_indx[train_indx[,\"index\"] == idx,\n",
        "                                - length(train_indx)]),\n",
        "    lookback = lookback,\n",
        "    delay = delay,\n",
        "    batch_size = batch_size,\n",
        "    min_index = min_index,\n",
        "    max_index = \n",
        "      nrow(as.matrix(\n",
        "        train_indx[train_indx[,\"index\"] == idx,]))-delay-1,\n",
        "    predseries = predseries)\n",
        "})\n",
        "\n",
        "# Cálculo del número de steps de training:\n",
        "train_steps <- round((nrow(train_code$data)-lookback) / batch_size)"
      ],
      "metadata": {
        "id": "qTFedinkfgJ7"
      },
      "execution_count": 35,
      "outputs": []
    },
    {
      "cell_type": "code",
      "source": [
        "val_indx <- unique_lab_cases(val_code$data, \n",
        "                             categorical_vars = c(17:48))[,-1]\n",
        "\n",
        "# Usamos el diccionario de códigos creado anteriormente: \n",
        "\n",
        "val_indx$index <- code_dictionary$index[match(val_indx$code, code_dictionary$code)]\n",
        "index_values <- unique(val_indx[,\"index\"])\n",
        "val_indx$code <- NULL\n",
        "\n",
        "val_k <- lapply(index_values, function(idx) {\n",
        "  create_lstm_data.2(\n",
        "    data = as.matrix(val_indx[val_indx[,\"index\"] == idx,\n",
        "                              - length(val_indx)]),\n",
        "    lookback = lookback,\n",
        "    delay = delay,\n",
        "    batch_size = batch_size,\n",
        "    min_index = min_index,\n",
        "    max_index = \n",
        "      nrow(as.matrix(val_indx[val_indx[,\"index\"] == idx,]))-delay-1,\n",
        "    predseries = predseries)\n",
        "})\n",
        "\n",
        "# Cálculo del número de steps de validación:\n",
        "val_steps <- round((nrow(val_code$data)-lookback) / batch_size)"
      ],
      "metadata": {
        "id": "cEhSgHHdfhrZ"
      },
      "execution_count": 36,
      "outputs": []
    },
    {
      "cell_type": "code",
      "execution_count": 37,
      "metadata": {
        "id": "MaMmjDpDfbzE"
      },
      "outputs": [],
      "source": [
        "# Funciones generadoras de series para train y validation, Estas funciones generan \n",
        "# de manera indefinida series con los datos de entrenamiento y validación, usando \n",
        "# de manera consecutiva las funciones generadoras almacenadas junto a los subconjuntos \n",
        "# de datos con las 160 posibles combinaciones de ANALIZADOR, CÓDIGO_PRUEBA y NIVEL de QC\n",
        "# sobre los que cada una tiene que actuar. Si se llega a la generación número 160 \n",
        "# se repite el proceso desde la primera.  \n",
        "\n",
        "index_train <- 1\n",
        "\n",
        "train_gen <- function() {\n",
        "  if (index_train > length(train_k)) {\n",
        "      index_train <<- 1\n",
        "  }\n",
        "    \n",
        "  sequence <- train_k[[index_train]]()\n",
        "  index_train <<- index_train + 1\n",
        "  \n",
        "  return(sequence)\n",
        "}\n",
        "\n",
        "index_val <- 1\n",
        "\n",
        "val_gen <- function() {\n",
        "  if (index_val > length(val_k)) {\n",
        "    index_val <<- 1\n",
        "  }\n",
        "\n",
        "  sequence <- val_k[[index_val]]()\n",
        "  index_val <<- index_val + 1\n",
        "  \n",
        "  return(sequence)\n",
        "}"
      ]
    },
    {
      "cell_type": "code",
      "source": [
        "# Función para calcular el MAE promedio para un modelo basado en predecir los targets \n",
        "# del set de validación con las mismas muestras de validación, mediante la iteración \n",
        "# de lotes de muestras. Esto sería equivalente a un modelo que predice el resultado \n",
        "# futuro del QC con el actual y constituye el punto de partida para mejorar (common sense baseline).\n",
        "\n",
        "evaluate_naive_method <- function() {\n",
        "  batch_maes <- c()\n",
        "  for (step in 1:val_steps) {\n",
        "    c(samples, targets) %<-% val_gen()\n",
        "    preds <- samples[,dim(samples)[[2]],2]\n",
        "    mae <- mean(abs(preds - targets))\n",
        "    batch_maes <- c(batch_maes, mae)\n",
        "  }\n",
        "  print(mean(batch_maes))\n",
        "}\n",
        "\n",
        "maes <- evaluate_naive_method()\n",
        "cbind(train_n$stdev[[3]], maes*train_n$stdev[[3]])\n"
      ],
      "metadata": {
        "colab": {
          "base_uri": "https://localhost:8080/",
          "height": 898
        },
        "id": "J5ErUajWacQZ",
        "outputId": "cf7e09ea-5734-4a87-d601-34d16de8dfcc"
      },
      "execution_count": null,
      "outputs": [
        {
          "output_type": "stream",
          "name": "stdout",
          "text": [
            "[1] 3.975875\n"
          ]
        },
        {
          "output_type": "display_data",
          "data": {
            "text/html": [
              "<table class=\"dataframe\">\n",
              "<caption>A matrix: 27 × 2 of type chr</caption>\n",
              "<tbody>\n",
              "\t<tr><td>CLC00033</td><td>53.5918894310736</td></tr>\n",
              "\t<tr><td>CLC00034</td><td>5.57748042439256</td></tr>\n",
              "\t<tr><td>CLC00061</td><td>183.733326859503</td></tr>\n",
              "\t<tr><td>CLC00415</td><td>381.81579837991 </td></tr>\n",
              "\t<tr><td>CLC00544</td><td>88.998850198785 </td></tr>\n",
              "\t<tr><td>CLC00638</td><td>28.4827195332944</td></tr>\n",
              "\t<tr><td>CLC00805</td><td>681.912102074728</td></tr>\n",
              "\t<tr><td>CLC00807</td><td>222.808695650046</td></tr>\n",
              "\t<tr><td>CLC00811</td><td>17.7739267983337</td></tr>\n",
              "\t<tr><td>CLC00813</td><td>319.102338561277</td></tr>\n",
              "\t<tr><td>CLC00814</td><td>66.3543590252383</td></tr>\n",
              "\t<tr><td>CLC00815</td><td>582.951863769239</td></tr>\n",
              "\t<tr><td>CLC00816</td><td>94.4343603667952</td></tr>\n",
              "\t<tr><td>CLC00817</td><td>449.007218513136</td></tr>\n",
              "\t<tr><td>CLC00820</td><td>37.7321999751137</td></tr>\n",
              "\t<tr><td>CLC00821</td><td>22.485595580168 </td></tr>\n",
              "\t<tr><td>CLC02816</td><td>3199.81149987307</td></tr>\n",
              "\t<tr><td>CLC11007</td><td>8.83680970763184</td></tr>\n",
              "\t<tr><td>CLC11015</td><td>1267.3564714164 </td></tr>\n",
              "\t<tr><td>CLC11768</td><td>765.42687337453 </td></tr>\n",
              "\t<tr><td>CLC11775</td><td>59.6921801592516</td></tr>\n",
              "\t<tr><td>CLC11797</td><td>65.3666980530549</td></tr>\n",
              "\t<tr><td>CLC11816</td><td>101.281762574514</td></tr>\n",
              "\t<tr><td>CLC11837</td><td>4095.65321893736</td></tr>\n",
              "\t<tr><td>CLC11846</td><td>41.7139517172329</td></tr>\n",
              "\t<tr><td>CLC11854</td><td>36.8116956325357</td></tr>\n",
              "\t<tr><td>CLC11977</td><td>45.7535380333056</td></tr>\n",
              "</tbody>\n",
              "</table>\n"
            ],
            "text/markdown": "\nA matrix: 27 × 2 of type chr\n\n| CLC00033 | 53.5918894310736 |\n| CLC00034 | 5.57748042439256 |\n| CLC00061 | 183.733326859503 |\n| CLC00415 | 381.81579837991  |\n| CLC00544 | 88.998850198785  |\n| CLC00638 | 28.4827195332944 |\n| CLC00805 | 681.912102074728 |\n| CLC00807 | 222.808695650046 |\n| CLC00811 | 17.7739267983337 |\n| CLC00813 | 319.102338561277 |\n| CLC00814 | 66.3543590252383 |\n| CLC00815 | 582.951863769239 |\n| CLC00816 | 94.4343603667952 |\n| CLC00817 | 449.007218513136 |\n| CLC00820 | 37.7321999751137 |\n| CLC00821 | 22.485595580168  |\n| CLC02816 | 3199.81149987307 |\n| CLC11007 | 8.83680970763184 |\n| CLC11015 | 1267.3564714164  |\n| CLC11768 | 765.42687337453  |\n| CLC11775 | 59.6921801592516 |\n| CLC11797 | 65.3666980530549 |\n| CLC11816 | 101.281762574514 |\n| CLC11837 | 4095.65321893736 |\n| CLC11846 | 41.7139517172329 |\n| CLC11854 | 36.8116956325357 |\n| CLC11977 | 45.7535380333056 |\n\n",
            "text/latex": "A matrix: 27 × 2 of type chr\n\\begin{tabular}{ll}\n\t CLC00033 & 53.5918894310736\\\\\n\t CLC00034 & 5.57748042439256\\\\\n\t CLC00061 & 183.733326859503\\\\\n\t CLC00415 & 381.81579837991 \\\\\n\t CLC00544 & 88.998850198785 \\\\\n\t CLC00638 & 28.4827195332944\\\\\n\t CLC00805 & 681.912102074728\\\\\n\t CLC00807 & 222.808695650046\\\\\n\t CLC00811 & 17.7739267983337\\\\\n\t CLC00813 & 319.102338561277\\\\\n\t CLC00814 & 66.3543590252383\\\\\n\t CLC00815 & 582.951863769239\\\\\n\t CLC00816 & 94.4343603667952\\\\\n\t CLC00817 & 449.007218513136\\\\\n\t CLC00820 & 37.7321999751137\\\\\n\t CLC00821 & 22.485595580168 \\\\\n\t CLC02816 & 3199.81149987307\\\\\n\t CLC11007 & 8.83680970763184\\\\\n\t CLC11015 & 1267.3564714164 \\\\\n\t CLC11768 & 765.42687337453 \\\\\n\t CLC11775 & 59.6921801592516\\\\\n\t CLC11797 & 65.3666980530549\\\\\n\t CLC11816 & 101.281762574514\\\\\n\t CLC11837 & 4095.65321893736\\\\\n\t CLC11846 & 41.7139517172329\\\\\n\t CLC11854 & 36.8116956325357\\\\\n\t CLC11977 & 45.7535380333056\\\\\n\\end{tabular}\n",
            "text/plain": [
              "      [,1]     [,2]            \n",
              " [1,] CLC00033 53.5918894310736\n",
              " [2,] CLC00034 5.57748042439256\n",
              " [3,] CLC00061 183.733326859503\n",
              " [4,] CLC00415 381.81579837991 \n",
              " [5,] CLC00544 88.998850198785 \n",
              " [6,] CLC00638 28.4827195332944\n",
              " [7,] CLC00805 681.912102074728\n",
              " [8,] CLC00807 222.808695650046\n",
              " [9,] CLC00811 17.7739267983337\n",
              "[10,] CLC00813 319.102338561277\n",
              "[11,] CLC00814 66.3543590252383\n",
              "[12,] CLC00815 582.951863769239\n",
              "[13,] CLC00816 94.4343603667952\n",
              "[14,] CLC00817 449.007218513136\n",
              "[15,] CLC00820 37.7321999751137\n",
              "[16,] CLC00821 22.485595580168 \n",
              "[17,] CLC02816 3199.81149987307\n",
              "[18,] CLC11007 8.83680970763184\n",
              "[19,] CLC11015 1267.3564714164 \n",
              "[20,] CLC11768 765.42687337453 \n",
              "[21,] CLC11775 59.6921801592516\n",
              "[22,] CLC11797 65.3666980530549\n",
              "[23,] CLC11816 101.281762574514\n",
              "[24,] CLC11837 4095.65321893736\n",
              "[25,] CLC11846 41.7139517172329\n",
              "[26,] CLC11854 36.8116956325357\n",
              "[27,] CLC11977 45.7535380333056"
            ]
          },
          "metadata": {}
        }
      ]
    },
    {
      "cell_type": "code",
      "execution_count": 39,
      "metadata": {
        "id": "Qpumk6DQKTcZ"
      },
      "outputs": [],
      "source": [
        "set.seed(123)\n",
        "\n",
        "model_2 <- keras_model_sequential() %>%\n",
        "    layer_lstm(units = 32, dropout=0.1, recurrent_dropout=0.5,\n",
        "              #return_sequences = TRUE,\n",
        "              input_shape = list(NULL, dim(train_code$data[,-1])[[-1]])) %>%\n",
        "    #layer_lstm(units = 64, activation=\"relu\", \n",
        "               #dropout=0.1, recurrent_dropout=0.5) %>%\n",
        "    layer_dense(units = 1)"
      ]
    },
    {
      "cell_type": "code",
      "source": [
        "rmse <- function(y_pred, y_true) {\n",
        "  backend <- keras::backend()\n",
        "  sq_diff <- backend$square(y_pred - y_true)\n",
        "  mean_sq_diff <- backend$mean(sq_diff, axis = -1)\n",
        "  rmse_value <- backend$sqrt(mean_sq_diff)\n",
        "  rmse_value <- backend$cast(rmse_value, dtype = \"float32\")\n",
        "  rmse_value\n",
        "}\n"
      ],
      "metadata": {
        "id": "c3xH6Z3SiqcJ"
      },
      "execution_count": 40,
      "outputs": []
    },
    {
      "cell_type": "code",
      "source": [
        "model_2 %>% compile(\n",
        "    optimizer = \"rmsprop\",\n",
        "    loss=\"mse\", \n",
        "    metrics = list(\"mse\", \"mae\")\n",
        ")\n",
        "\n",
        "callbacks <- list(\n",
        "  callback_model_checkpoint(file.path(resultsdir, \"lstm_2.keras\",\n",
        "                                     save_best_only = TRUE)))"
      ],
      "metadata": {
        "id": "cfcPLr_zisli"
      },
      "execution_count": 41,
      "outputs": []
    },
    {
      "cell_type": "code",
      "source": [
        "# Entrenar el modelo:\n",
        "history_2 <- model_2 %>% fit_generator(\n",
        "  generator = train_gen,\n",
        "  steps_per_epoch = train_steps,\n",
        "  epochs = 20,\n",
        "  validation_data = val_gen,\n",
        "  validation_steps = val_steps,\n",
        "  callbacks = callbacks\n",
        ")"
      ],
      "metadata": {
        "id": "bI_xxLhHi2lx",
        "colab": {
          "base_uri": "https://localhost:8080/"
        },
        "outputId": "cbdbbfba-199d-45d6-9a3b-cc8f89c24652"
      },
      "execution_count": 42,
      "outputs": [
        {
          "metadata": {
            "tags": null
          },
          "name": "stderr",
          "output_type": "stream",
          "text": [
            "Warning message in fit_generator(., generator = train_gen, steps_per_epoch = train_steps, :\n",
            "“`fit_generator` is deprecated. Use `fit` instead, it now accept generators.”\n"
          ]
        }
      ]
    },
    {
      "cell_type": "code",
      "source": [
        "plot(history_2)"
      ],
      "metadata": {
        "colab": {
          "base_uri": "https://localhost:8080/",
          "height": 130
        },
        "id": "7g6glA6-poUO",
        "outputId": "cfc8e6ba-1da8-4db1-9997-b4e38e58beda"
      },
      "execution_count": 1,
      "outputs": [
        {
          "output_type": "error",
          "ename": "ERROR",
          "evalue": "ignored",
          "traceback": [
            "Error in eval(expr, envir, enclos): object 'history_2' not found\nTraceback:\n",
            "1. plot(history_2)"
          ]
        }
      ]
    }
  ],
  "metadata": {
    "colab": {
      "provenance": [],
      "gpuType": "T4",
      "authorship_tag": "ABX9TyNJEvSVWSOYCQx0qe7g8ynZ",
      "include_colab_link": true
    },
    "gpuClass": "standard",
    "kernelspec": {
      "display_name": "R",
      "name": "ir"
    },
    "language_info": {
      "name": "R"
    },
    "accelerator": "GPU"
  },
  "nbformat": 4,
  "nbformat_minor": 0
}