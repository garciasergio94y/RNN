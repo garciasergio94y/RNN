{
  "cells": [
    {
      "cell_type": "markdown",
      "metadata": {
        "id": "view-in-github",
        "colab_type": "text"
      },
      "source": [
        "<a href=\"https://colab.research.google.com/github/garciasergio94y/TFM/blob/LSTM_onehot_QC/LSTM_RNN_R.ipynb\" target=\"_parent\"><img src=\"https://colab.research.google.com/assets/colab-badge.svg\" alt=\"Open In Colab\"/></a>"
      ]
    },
    {
      "cell_type": "code",
      "execution_count": null,
      "metadata": {
        "id": "fcKncLefo322",
        "colab": {
          "base_uri": "https://localhost:8080/",
          "height": 1000
        },
        "outputId": "2937aa3b-9950-4da9-c49a-6cc55ca45f4f"
      },
      "outputs": [
        {
          "output_type": "stream",
          "name": "stderr",
          "text": [
            "Loading required package: readr\n",
            "\n",
            "Loading required package: dplyr\n",
            "\n",
            "\n",
            "Attaching package: ‘dplyr’\n",
            "\n",
            "\n",
            "The following objects are masked from ‘package:stats’:\n",
            "\n",
            "    filter, lag\n",
            "\n",
            "\n",
            "The following objects are masked from ‘package:base’:\n",
            "\n",
            "    intersect, setdiff, setequal, union\n",
            "\n",
            "\n",
            "Loading required package: lubridate\n",
            "\n",
            "\n",
            "Attaching package: ‘lubridate’\n",
            "\n",
            "\n",
            "The following objects are masked from ‘package:base’:\n",
            "\n",
            "    date, intersect, setdiff, union\n",
            "\n",
            "\n",
            "Loading required package: abind\n",
            "\n",
            "Warning message in library(package, lib.loc = lib.loc, character.only = TRUE, logical.return = TRUE, :\n",
            "“there is no package called ‘abind’”\n",
            "Installing package into ‘/usr/local/lib/R/site-library’\n",
            "(as ‘lib’ is unspecified)\n",
            "\n",
            "Loading required package: tensorflow\n",
            "\n",
            "Warning message in library(package, lib.loc = lib.loc, character.only = TRUE, logical.return = TRUE, :\n",
            "“there is no package called ‘tensorflow’”\n",
            "Installing package into ‘/usr/local/lib/R/site-library’\n",
            "(as ‘lib’ is unspecified)\n",
            "\n",
            "also installing the dependencies ‘Rcpp’, ‘RcppTOML’, ‘here’, ‘png’, ‘config’, ‘reticulate’, ‘tfruns’, ‘tfautograph’\n",
            "\n",
            "\n",
            "Loading required package: tfdatasets\n",
            "\n",
            "Warning message in library(package, lib.loc = lib.loc, character.only = TRUE, logical.return = TRUE, :\n",
            "“there is no package called ‘tfdatasets’”\n",
            "Installing package into ‘/usr/local/lib/R/site-library’\n",
            "(as ‘lib’ is unspecified)\n",
            "\n",
            "Loading required package: keras\n",
            "\n",
            "Warning message in library(package, lib.loc = lib.loc, character.only = TRUE, logical.return = TRUE, :\n",
            "“there is no package called ‘keras’”\n",
            "Installing package into ‘/usr/local/lib/R/site-library’\n",
            "(as ‘lib’ is unspecified)\n",
            "\n",
            "also installing the dependency ‘zeallot’\n",
            "\n",
            "\n"
          ]
        },
        {
          "output_type": "display_data",
          "data": {
            "text/html": [
              "<ol>\n",
              "\t<li>NULL</li>\n",
              "\t<li>NULL</li>\n",
              "\t<li>NULL</li>\n",
              "\t<li>NULL</li>\n",
              "\t<li>NULL</li>\n",
              "\t<li>NULL</li>\n",
              "\t<li>NULL</li>\n",
              "</ol>\n"
            ],
            "text/markdown": "1. NULL\n2. NULL\n3. NULL\n4. NULL\n5. NULL\n6. NULL\n7. NULL\n\n\n",
            "text/latex": "\\begin{enumerate}\n\\item NULL\n\\item NULL\n\\item NULL\n\\item NULL\n\\item NULL\n\\item NULL\n\\item NULL\n\\end{enumerate}\n",
            "text/plain": [
              "[[1]]\n",
              "NULL\n",
              "\n",
              "[[2]]\n",
              "NULL\n",
              "\n",
              "[[3]]\n",
              "NULL\n",
              "\n",
              "[[4]]\n",
              "NULL\n",
              "\n",
              "[[5]]\n",
              "NULL\n",
              "\n",
              "[[6]]\n",
              "NULL\n",
              "\n",
              "[[7]]\n",
              "NULL\n"
            ]
          },
          "metadata": {}
        },
        {
          "output_type": "stream",
          "name": "stderr",
          "text": [
            "Loading required package: abind\n",
            "\n",
            "Loading required package: tensorflow\n",
            "\n",
            "Loading required package: tfdatasets\n",
            "\n",
            "Loading required package: keras\n",
            "\n"
          ]
        }
      ],
      "source": [
        "# Instalación y carga de librerías:\n",
        "\n",
        "packages <- c(\"readr\", \"dplyr\", \"lubridate\", \"abind\", \"tensorflow\", \n",
        "            \"tfdatasets\", \"keras\")\n",
        "\n",
        "# Función para instalar paquetes si no están ya instalados\n",
        "install_packages <- function(package) {\n",
        "  if (!require(package, character.only = TRUE)) {\n",
        "    install.packages(package)\n",
        "    }\n",
        "}\n",
        "\n",
        "# Aplicar la función para cada uno de los paquetes\n",
        "lapply(packages, install_packages)\n",
        "\n",
        "require(readr)\n",
        "require(dplyr)\n",
        "require(lubridate)\n",
        "require(abind)\n",
        "require(tensorflow)\n",
        "require(tfdatasets)\n",
        "require(keras)\n"
      ]
    },
    {
      "cell_type": "code",
      "source": [
        "workingdir <- getwd()\n",
        "datadir <- file.path(workingdir, \"Datos/daily_s\")\n",
        "eventdir <- file.path(workingdir, \"Datos/daily_s/Event\")\n",
        "eventdir_old <- file.path(workingdir, \"Datos/daily_s/Event/old\")\n",
        "lotdir <- file.path(workingdir, \"Datos/daily_s/Lot\")\n",
        "lotdir_old <- file.path(workingdir, \"Datos/daily_s/Lot/old\")\n",
        "qcdir <- file.path(workingdir, \"Datos/daily_s/qc\")\n",
        "qcdir_old <- file.path(workingdir, \"Datos/daily_s/qc/old\")\n",
        "resultsdir <- file.path(workingdir, \"Resultados\")"
      ],
      "metadata": {
        "id": "CmX65urDjO83"
      },
      "execution_count": null,
      "outputs": []
    },
    {
      "cell_type": "code",
      "execution_count": null,
      "metadata": {
        "id": "XM3iSvsm8ZNO",
        "colab": {
          "base_uri": "https://localhost:8080/",
          "height": 69
        },
        "outputId": "b14a742a-d9bd-471f-8850-c23b008357dc"
      },
      "outputs": [
        {
          "output_type": "stream",
          "name": "stdout",
          "text": [
            "TensorFlow built with CUDA:  TRUE \n",
            "GPU device name:  /device:GPU:0"
          ]
        },
        {
          "output_type": "display_data",
          "data": {
            "text/html": [
              "TRUE"
            ],
            "text/markdown": "TRUE",
            "text/latex": "TRUE",
            "text/plain": [
              "[1] TRUE"
            ]
          },
          "metadata": {}
        }
      ],
      "source": [
        "tensorflow::tf_gpu_configured()"
      ]
    },
    {
      "cell_type": "markdown",
      "source": [
        "Lectura de archivos de datos"
      ],
      "metadata": {
        "id": "iGT314P3vtdx"
      }
    },
    {
      "cell_type": "code",
      "execution_count": null,
      "metadata": {
        "id": "8EhDKsGXewWe",
        "colab": {
          "base_uri": "https://localhost:8080/"
        },
        "outputId": "8c507f8a-4905-4f20-a225-8daf98ce9dfc"
      },
      "outputs": [
        {
          "output_type": "stream",
          "name": "stderr",
          "text": [
            "Warning message in write.csv(dataset, file = \"dataset\", row.names = F, col.names = F):\n",
            "“attempt to set 'col.names' ignored”\n"
          ]
        }
      ],
      "source": [
        "# Leer archivo dataset desde Github:\n",
        "url <- \"https://raw.githubusercontent.com/garciasergio94y/TFM/LSTM_onehot_QC/Resultados/qc_data_sel_code?token=GHSAT0AAAAAACCRT74VJ2YKEZOTW42SNHUOZDJCPOA\"\n",
        "dataset <- read.csv(url)\n",
        "\n",
        "# Guardar una copia local:\n",
        "write.csv(dataset, file = \"dataset\", row.names = F, col.names = F) \n"
      ]
    },
    {
      "cell_type": "code",
      "execution_count": null,
      "metadata": {
        "id": "ABzL8R-64mKf",
        "colab": {
          "base_uri": "https://localhost:8080/",
          "height": 514
        },
        "outputId": "85d9c226-f44e-4621-e4f5-366a2a302af8"
      },
      "outputs": [
        {
          "output_type": "display_data",
          "data": {
            "text/html": [
              "<table class=\"dataframe\">\n",
              "<caption>A data.frame: 6 × 51</caption>\n",
              "<thead>\n",
              "\t<tr><th></th><th scope=col>TIEMPO_QC</th><th scope=col>QC_RESULT</th><th scope=col>W1</th><th scope=col>W2</th><th scope=col>W3</th><th scope=col>W4</th><th scope=col>W5</th><th scope=col>W6</th><th scope=col>W7</th><th scope=col>W8</th><th scope=col>⋯</th><th scope=col>CODIGO_PRUEBA_CLC11775</th><th scope=col>CODIGO_PRUEBA_CLC11797</th><th scope=col>CODIGO_PRUEBA_CLC11816</th><th scope=col>CODIGO_PRUEBA_CLC11837</th><th scope=col>CODIGO_PRUEBA_CLC11846</th><th scope=col>CODIGO_PRUEBA_CLC11854</th><th scope=col>CODIGO_PRUEBA_CLC11977</th><th scope=col>NIVEL_1</th><th scope=col>NIVEL_2</th><th scope=col>NIVEL_3</th></tr>\n",
              "\t<tr><th></th><th scope=col>&lt;dttm&gt;</th><th scope=col>&lt;dbl&gt;</th><th scope=col>&lt;dbl&gt;</th><th scope=col>&lt;dbl&gt;</th><th scope=col>&lt;dbl&gt;</th><th scope=col>&lt;dbl&gt;</th><th scope=col>&lt;dbl&gt;</th><th scope=col>&lt;dbl&gt;</th><th scope=col>&lt;dbl&gt;</th><th scope=col>&lt;dbl&gt;</th><th scope=col>⋯</th><th scope=col>&lt;int&gt;</th><th scope=col>&lt;int&gt;</th><th scope=col>&lt;int&gt;</th><th scope=col>&lt;int&gt;</th><th scope=col>&lt;int&gt;</th><th scope=col>&lt;int&gt;</th><th scope=col>&lt;int&gt;</th><th scope=col>&lt;int&gt;</th><th scope=col>&lt;int&gt;</th><th scope=col>&lt;int&gt;</th></tr>\n",
              "</thead>\n",
              "<tbody>\n",
              "\t<tr><th scope=row>1</th><td>2023-02-27 09:17:02</td><td>401.4</td><td>-0.8187106</td><td> 2.346507</td><td> 0.9610441</td><td>-0.3107763</td><td>-0.1775268</td><td>0.3255184</td><td>0.8167310</td><td>-6.142909</td><td>⋯</td><td>0</td><td>0</td><td>0</td><td>0</td><td>0</td><td>0</td><td>0</td><td>0</td><td>0</td><td>1</td></tr>\n",
              "\t<tr><th scope=row>2</th><td>2023-02-27 09:14:55</td><td>141.3</td><td>-4.5261548</td><td> 4.956461</td><td>-1.2164387</td><td> 0.3156106</td><td>-0.3187019</td><td>0.3403828</td><td>0.8025504</td><td>-6.197191</td><td>⋯</td><td>0</td><td>0</td><td>0</td><td>0</td><td>0</td><td>0</td><td>0</td><td>0</td><td>1</td><td>0</td></tr>\n",
              "\t<tr><th scope=row>3</th><td>2023-02-27 09:13:25</td><td> 52.0</td><td>13.6292573</td><td>-2.518665</td><td>-2.4838886</td><td> 0.9983201</td><td>-0.4562898</td><td>0.3537129</td><td>0.7871937</td><td>-6.249534</td><td>⋯</td><td>0</td><td>0</td><td>0</td><td>0</td><td>0</td><td>0</td><td>0</td><td>1</td><td>0</td><td>0</td></tr>\n",
              "\t<tr><th scope=row>4</th><td>2023-02-24 09:18:42</td><td>421.7</td><td>-7.7481720</td><td>-4.007593</td><td>-2.0528090</td><td> 1.6754877</td><td>-0.5853349</td><td>0.3652882</td><td>0.7706627</td><td>-6.299906</td><td>⋯</td><td>0</td><td>0</td><td>0</td><td>0</td><td>0</td><td>0</td><td>0</td><td>0</td><td>0</td><td>1</td></tr>\n",
              "\t<tr><th scope=row>5</th><td>2023-02-24 09:16:27</td><td> 51.0</td><td>-1.8348034</td><td> 1.044108</td><td>-0.8652081</td><td> 2.2508911</td><td>-0.7013276</td><td>0.3746887</td><td>0.7529580</td><td>-6.348276</td><td>⋯</td><td>0</td><td>0</td><td>0</td><td>0</td><td>0</td><td>0</td><td>0</td><td>1</td><td>0</td><td>0</td></tr>\n",
              "\t<tr><th scope=row>6</th><td>2023-02-24 09:15:51</td><td>140.7</td><td>-2.1822976</td><td> 4.332115</td><td> 0.3628108</td><td> 2.6589775</td><td>-0.8010154</td><td>0.3815874</td><td>0.7340782</td><td>-6.394616</td><td>⋯</td><td>0</td><td>0</td><td>0</td><td>0</td><td>0</td><td>0</td><td>0</td><td>0</td><td>1</td><td>0</td></tr>\n",
              "</tbody>\n",
              "</table>\n"
            ],
            "text/markdown": "\nA data.frame: 6 × 51\n\n| <!--/--> | TIEMPO_QC &lt;dttm&gt; | QC_RESULT &lt;dbl&gt; | W1 &lt;dbl&gt; | W2 &lt;dbl&gt; | W3 &lt;dbl&gt; | W4 &lt;dbl&gt; | W5 &lt;dbl&gt; | W6 &lt;dbl&gt; | W7 &lt;dbl&gt; | W8 &lt;dbl&gt; | ⋯ ⋯ | CODIGO_PRUEBA_CLC11775 &lt;int&gt; | CODIGO_PRUEBA_CLC11797 &lt;int&gt; | CODIGO_PRUEBA_CLC11816 &lt;int&gt; | CODIGO_PRUEBA_CLC11837 &lt;int&gt; | CODIGO_PRUEBA_CLC11846 &lt;int&gt; | CODIGO_PRUEBA_CLC11854 &lt;int&gt; | CODIGO_PRUEBA_CLC11977 &lt;int&gt; | NIVEL_1 &lt;int&gt; | NIVEL_2 &lt;int&gt; | NIVEL_3 &lt;int&gt; |\n|---|---|---|---|---|---|---|---|---|---|---|---|---|---|---|---|---|---|---|---|---|---|\n| 1 | 2023-02-27 09:17:02 | 401.4 | -0.8187106 |  2.346507 |  0.9610441 | -0.3107763 | -0.1775268 | 0.3255184 | 0.8167310 | -6.142909 | ⋯ | 0 | 0 | 0 | 0 | 0 | 0 | 0 | 0 | 0 | 1 |\n| 2 | 2023-02-27 09:14:55 | 141.3 | -4.5261548 |  4.956461 | -1.2164387 |  0.3156106 | -0.3187019 | 0.3403828 | 0.8025504 | -6.197191 | ⋯ | 0 | 0 | 0 | 0 | 0 | 0 | 0 | 0 | 1 | 0 |\n| 3 | 2023-02-27 09:13:25 |  52.0 | 13.6292573 | -2.518665 | -2.4838886 |  0.9983201 | -0.4562898 | 0.3537129 | 0.7871937 | -6.249534 | ⋯ | 0 | 0 | 0 | 0 | 0 | 0 | 0 | 1 | 0 | 0 |\n| 4 | 2023-02-24 09:18:42 | 421.7 | -7.7481720 | -4.007593 | -2.0528090 |  1.6754877 | -0.5853349 | 0.3652882 | 0.7706627 | -6.299906 | ⋯ | 0 | 0 | 0 | 0 | 0 | 0 | 0 | 0 | 0 | 1 |\n| 5 | 2023-02-24 09:16:27 |  51.0 | -1.8348034 |  1.044108 | -0.8652081 |  2.2508911 | -0.7013276 | 0.3746887 | 0.7529580 | -6.348276 | ⋯ | 0 | 0 | 0 | 0 | 0 | 0 | 0 | 1 | 0 | 0 |\n| 6 | 2023-02-24 09:15:51 | 140.7 | -2.1822976 |  4.332115 |  0.3628108 |  2.6589775 | -0.8010154 | 0.3815874 | 0.7340782 | -6.394616 | ⋯ | 0 | 0 | 0 | 0 | 0 | 0 | 0 | 0 | 1 | 0 |\n\n",
            "text/latex": "A data.frame: 6 × 51\n\\begin{tabular}{r|lllllllllllllllllllll}\n  & TIEMPO\\_QC & QC\\_RESULT & W1 & W2 & W3 & W4 & W5 & W6 & W7 & W8 & ⋯ & CODIGO\\_PRUEBA\\_CLC11775 & CODIGO\\_PRUEBA\\_CLC11797 & CODIGO\\_PRUEBA\\_CLC11816 & CODIGO\\_PRUEBA\\_CLC11837 & CODIGO\\_PRUEBA\\_CLC11846 & CODIGO\\_PRUEBA\\_CLC11854 & CODIGO\\_PRUEBA\\_CLC11977 & NIVEL\\_1 & NIVEL\\_2 & NIVEL\\_3\\\\\n  & <dttm> & <dbl> & <dbl> & <dbl> & <dbl> & <dbl> & <dbl> & <dbl> & <dbl> & <dbl> & ⋯ & <int> & <int> & <int> & <int> & <int> & <int> & <int> & <int> & <int> & <int>\\\\\n\\hline\n\t1 & 2023-02-27 09:17:02 & 401.4 & -0.8187106 &  2.346507 &  0.9610441 & -0.3107763 & -0.1775268 & 0.3255184 & 0.8167310 & -6.142909 & ⋯ & 0 & 0 & 0 & 0 & 0 & 0 & 0 & 0 & 0 & 1\\\\\n\t2 & 2023-02-27 09:14:55 & 141.3 & -4.5261548 &  4.956461 & -1.2164387 &  0.3156106 & -0.3187019 & 0.3403828 & 0.8025504 & -6.197191 & ⋯ & 0 & 0 & 0 & 0 & 0 & 0 & 0 & 0 & 1 & 0\\\\\n\t3 & 2023-02-27 09:13:25 &  52.0 & 13.6292573 & -2.518665 & -2.4838886 &  0.9983201 & -0.4562898 & 0.3537129 & 0.7871937 & -6.249534 & ⋯ & 0 & 0 & 0 & 0 & 0 & 0 & 0 & 1 & 0 & 0\\\\\n\t4 & 2023-02-24 09:18:42 & 421.7 & -7.7481720 & -4.007593 & -2.0528090 &  1.6754877 & -0.5853349 & 0.3652882 & 0.7706627 & -6.299906 & ⋯ & 0 & 0 & 0 & 0 & 0 & 0 & 0 & 0 & 0 & 1\\\\\n\t5 & 2023-02-24 09:16:27 &  51.0 & -1.8348034 &  1.044108 & -0.8652081 &  2.2508911 & -0.7013276 & 0.3746887 & 0.7529580 & -6.348276 & ⋯ & 0 & 0 & 0 & 0 & 0 & 0 & 0 & 1 & 0 & 0\\\\\n\t6 & 2023-02-24 09:15:51 & 140.7 & -2.1822976 &  4.332115 &  0.3628108 &  2.6589775 & -0.8010154 & 0.3815874 & 0.7340782 & -6.394616 & ⋯ & 0 & 0 & 0 & 0 & 0 & 0 & 0 & 0 & 1 & 0\\\\\n\\end{tabular}\n",
            "text/plain": [
              "  TIEMPO_QC           QC_RESULT W1         W2        W3         W4        \n",
              "1 2023-02-27 09:17:02 401.4     -0.8187106  2.346507  0.9610441 -0.3107763\n",
              "2 2023-02-27 09:14:55 141.3     -4.5261548  4.956461 -1.2164387  0.3156106\n",
              "3 2023-02-27 09:13:25  52.0     13.6292573 -2.518665 -2.4838886  0.9983201\n",
              "4 2023-02-24 09:18:42 421.7     -7.7481720 -4.007593 -2.0528090  1.6754877\n",
              "5 2023-02-24 09:16:27  51.0     -1.8348034  1.044108 -0.8652081  2.2508911\n",
              "6 2023-02-24 09:15:51 140.7     -2.1822976  4.332115  0.3628108  2.6589775\n",
              "  W5         W6        W7        W8        ⋯ CODIGO_PRUEBA_CLC11775\n",
              "1 -0.1775268 0.3255184 0.8167310 -6.142909 ⋯ 0                     \n",
              "2 -0.3187019 0.3403828 0.8025504 -6.197191 ⋯ 0                     \n",
              "3 -0.4562898 0.3537129 0.7871937 -6.249534 ⋯ 0                     \n",
              "4 -0.5853349 0.3652882 0.7706627 -6.299906 ⋯ 0                     \n",
              "5 -0.7013276 0.3746887 0.7529580 -6.348276 ⋯ 0                     \n",
              "6 -0.8010154 0.3815874 0.7340782 -6.394616 ⋯ 0                     \n",
              "  CODIGO_PRUEBA_CLC11797 CODIGO_PRUEBA_CLC11816 CODIGO_PRUEBA_CLC11837\n",
              "1 0                      0                      0                     \n",
              "2 0                      0                      0                     \n",
              "3 0                      0                      0                     \n",
              "4 0                      0                      0                     \n",
              "5 0                      0                      0                     \n",
              "6 0                      0                      0                     \n",
              "  CODIGO_PRUEBA_CLC11846 CODIGO_PRUEBA_CLC11854 CODIGO_PRUEBA_CLC11977 NIVEL_1\n",
              "1 0                      0                      0                      0      \n",
              "2 0                      0                      0                      0      \n",
              "3 0                      0                      0                      1      \n",
              "4 0                      0                      0                      0      \n",
              "5 0                      0                      0                      1      \n",
              "6 0                      0                      0                      0      \n",
              "  NIVEL_2 NIVEL_3\n",
              "1 0       1      \n",
              "2 1       0      \n",
              "3 0       0      \n",
              "4 0       1      \n",
              "5 0       0      \n",
              "6 1       0      "
            ]
          },
          "metadata": {}
        }
      ],
      "source": [
        "# Convertir fechas en formato POSIXct:\n",
        "dataset[,1] %<>% as.POSIXct(tz = \"Europe/Madrid\")\n",
        "head(dataset)"
      ]
    },
    {
      "cell_type": "markdown",
      "source": [
        "Definición de funciones para transformación de variables, normalización y secuenciación de series de datos:"
      ],
      "metadata": {
        "id": "mMi3X0OGv3k7"
      }
    },
    {
      "cell_type": "code",
      "source": [
        "# Función de normalización de las variables continuas y eliminación de coeficientes wavelet con valores NA. Se definen dos funciones, una para el set de training y otra para los sets de test y validación. La diferencia es que la de train devuelve vectores de medias y de desviaciones estándar que luego se usan como argumentos en las otras. De esta forma, el escalado y normalización se realiza con la misma media y desviación del set de entrenamiento para los otros dos datasets:\n",
        "\n",
        "normalize_train <- function(data) {\n",
        "   \n",
        "  # Identificar las columnas que empiezan por W y la columna 'RESULTADO'\n",
        "  wavelet_cols <- grep(\"^[WV]\", colnames(data), value = TRUE)\n",
        "  result_col <- \"RESULTADO\"\n",
        "  \n",
        "  if (!\"CODIGO_PRUEBA\" %in% names(data)) {\n",
        "    # Calcular medias y desviaciones estandar para cada variable:\n",
        "    means <- data %>%\n",
        "    summarise(across(c(result_col, wavelet_cols),\n",
        "                     ~mean(., na.rm = T)))\n",
        "  \n",
        "    std_devs <- data %>% \n",
        "    summarise(across(c(result_col, wavelet_cols),\n",
        "                     ~sd(., na.rm = T)))\n",
        "    \n",
        "    # Normalizar las columnas de resultados, coeficientes y\n",
        "    # escalas wavelet y hacer padding con 9999 en valores NA:\n",
        "    norm_data <- data %>%\n",
        "      mutate(across(c(result_col, wavelet_cols), scale)) %>%\n",
        "      mutate(across(wavelet_cols,\n",
        "                           ~ifelse(is.na(.), -99999, .)))\n",
        "  \n",
        "  } else {\n",
        "    \n",
        "    # Calcular medias y desviaciones estándar:\n",
        "    means <- data %>%\n",
        "      group_by(CODIGO_PRUEBA)\n",
        "      summarise(across(c(result_col, wavelet_cols),\n",
        "                     ~mean(., na.rm = T)))\n",
        "  \n",
        "  std_devs <- data %>% \n",
        "    group_by(CODIGO_PRUEBA) %>% \n",
        "    summarise(across(c(result_col, wavelet_cols),\n",
        "                     ~sd(., na.rm = T)))\n",
        "  \n",
        "  # Normalizar las columnas de resultado y coeficientes wavelet\n",
        "  norm_data <- data %>% \n",
        "  group_by(CODIGO_PRUEBA) %>% \n",
        "  mutate(across(c(result_col, wavelet_cols), scale))%>%\n",
        "    mutate(across(wavelet_cols,\n",
        "                           ~ifelse(is.na(.), -99999, .))) %>%\n",
        "    ungroup()\n",
        "  \n",
        "  # Eliminar columna CODIGO_PRUEBA:\n",
        "  norm_data <- norm_data[,-which(names(norm_data)==\n",
        "                                   \"CODIGO_PRUEBA\")]\n",
        "  }\n",
        "  \n",
        "  # Devolver el dataframe escalado y las medias y desviaciones estándar:\n",
        "  \n",
        "  return(list(scaled_data = as.data.frame(norm_data), \n",
        "              means = means, stdev = std_devs))\n",
        "}\n"
      ],
      "metadata": {
        "id": "o0ZlcpJTv4M0"
      },
      "execution_count": null,
      "outputs": []
    },
    {
      "cell_type": "code",
      "source": [
        "# Función de normalización para los datos de validación y test, con eliminación de valores NA en los wavelets:\n",
        "\n",
        "norm_onehot_test_val <- function(data, means, stds) {\n",
        "  \n",
        "  if (!\"CODIGO_PRUEBA\" %in% names(data)) {\n",
        "    \n",
        "  # Identificar las columnas numéricas y seleccionarlas\n",
        "  wavelet_cols <- grep(\"^[WV]\", colnames(data), value = TRUE)\n",
        "  result_col <- c(\"RESULTADO\")\n",
        "  \n",
        "  # Seleccionar medias y desviaciones de resultados y coeficientes   wavelet:\n",
        "  means_r <- unlist(means[result_col])\n",
        "  stds_r <- unlist(stds[result_col])\n",
        "  means_wl <- unlist(means[wavelet_cols])\n",
        "  stds_wl <- unlist(stds[wavelet_cols])\n",
        "  \n",
        "  # Normalizar las columnas de resultado y coeficientes wavelet usando las medias y desviaciones estándar de train suministradas:\n",
        "  \n",
        "  norm_data <- data %>% \n",
        "  mutate(result_col = (.[result_col] - means_r) / stds_r,\n",
        "         wavelet_cols = (.[wavelet_cols] - means_wl)/ stds_wl,\n",
        "         .keep = \"unused\") %>%\n",
        "    select(-c(grep(\"^[WV]\", colnames(data), value = TRUE), \"RESULTADO\")) %>%\n",
        "    unnest(cols = c(result_col, wavelet_cols)) %>%\n",
        "    relocate(RESULTADO, .after = 1) %>%\n",
        "    relocate(starts_with(\"V\"), .after = 2) %>%\n",
        "    relocate(starts_with(\"W\"), .after = 2) %>%\n",
        "    # Padding con 9999 en filas con valores NA:\n",
        "    mutate(across(wavelet_cols,\n",
        "                           ~ifelse(is.na(.), -99999, .)))\n",
        "  \n",
        "  } else {\n",
        "  \n",
        "  # Identificar las columnas numéricas y seleccionarlas\n",
        "  wavelet_cols <- grep(\"^[WV]\", colnames(data), value = TRUE)\n",
        "  result_col <- \"RESULTADO\"\n",
        "  test_cols <- \"CODIGO_PRUEBA\"\n",
        "  cols <- c(result_col, wavelet_cols, test_cols)\n",
        "  \n",
        "  # Normalizar por cada prueba las columnas de resultado y coeficientes wavelet\n",
        "  # usando las medias y desviaciones estándar de train suministradas:\n",
        "  \n",
        "  norm_data <- data %>% \n",
        "    merge(., \n",
        "          merge(means[, cols], stds[,cols], by = \"CODIGO_PRUEBA\"),\n",
        "          by = \"CODIGO_PRUEBA\") %>%\n",
        "    group_by(CODIGO_PRUEBA) %>%\n",
        "    mutate(across(c(result_col, wavelet_cols),\n",
        "                  ~ (. - get(paste0(cur_column(), \".x\"))) /\n",
        "                    get(paste0(cur_column(), \".y\"))),\n",
        "           .keep = \"unused\") %>%\n",
        "    # Padding con -99999 en filas con valores NA:\n",
        "    mutate(across(wavelet_cols,\n",
        "                           ~ifelse(is.na(.), -99999, .))) %>%\n",
        "    ungroup()\n",
        "  \n",
        "  norm_data <- norm_data[,-which(names(norm_data)==\n",
        "                                   \"CODIGO_PRUEBA\")]\n",
        "  }\n",
        "  \n",
        "  return(as.data.frame(norm_data))\n",
        "}\n",
        "\n"
      ],
      "metadata": {
        "id": "nLqSx55RwUDM"
      },
      "execution_count": null,
      "outputs": []
    },
    {
      "cell_type": "code",
      "source": [
        "# Función para crear un índice de casos únicos de combinaciones de ANALIZADOR, CÓDIGO_PRUEBA y NIVEL:\n",
        "\n",
        "unique_lab_cases <- function(df, categorical_vars) {\n",
        "  unique_groups <- unique(df[categorical_vars])\n",
        "  \n",
        "  index <- apply(unique_groups, 1, function(row) {\n",
        "    paste0(ifelse(row == 1, 1, 0), collapse = \"\")\n",
        "  })\n",
        "  unique_groups %<>% mutate(., index)\n",
        "  indexed_df <- df %>%\n",
        "    merge(unique_groups, ., by = colnames(unique_groups)\n",
        "          [-length(colnames(unique_groups))])\n",
        "  indexed_df <- indexed_df[, c(colnames(df), \"index\")]\n",
        "  \n",
        "  return(indexed_df)\n",
        "}\n"
      ],
      "metadata": {
        "id": "OIa4QAmLn5DF"
      },
      "execution_count": null,
      "outputs": []
    },
    {
      "cell_type": "code",
      "execution_count": null,
      "metadata": {
        "id": "83NtXb2ht_h3"
      },
      "outputs": [],
      "source": [
        "# Función para creación de lotes de series temporales de longitud k (lookback)\n",
        "\n",
        "create_lstm_data.2 <- \n",
        "  function(data, lookback, delay, min_index, max_index,\n",
        "           shuffle = FALSE, batch_size, step = 1,\n",
        "           predseries) {\n",
        "  \n",
        "  if (is.null(max_index)) max_index <- nrow(data) - delay - 1\n",
        "  i <- min_index + lookback\n",
        "  function() {\n",
        "    if (shuffle) {\n",
        "      rows <- sample(c((min_index+lookback):max_index), \n",
        "                     size = batch_size)\n",
        "    } else {\n",
        "      if (i + batch_size >= max_index)\n",
        "        i <<- min_index + lookback\n",
        "      rows <- c(i:min(i+batch_size, max_index))\n",
        "      i <<- i + length(rows)\n",
        "}\n",
        "    samples <- array(0, dim = c(length(rows),\n",
        "                                lookback / step,\n",
        "                                dim(data)[[-1]]))\n",
        "    targets <- array(0, dim = c(length(rows)))\n",
        "    for (j in 1:length(rows)) {\n",
        "      indices <- seq(rows[[j]] - lookback, rows[[j]],\n",
        "                     length.out = dim(samples)[[2]])\n",
        "      samples[j,,] <- data[indices, ]\n",
        "      targets[[j]] <- data[rows[[j]] + delay,predseries]\n",
        "    }\n",
        "    list(samples, targets)\n",
        "  }\n",
        "}\n"
      ]
    },
    {
      "cell_type": "code",
      "execution_count": null,
      "metadata": {
        "id": "eZwFzC3RuRoS",
        "outputId": "73d4cd24-9abb-4dd9-899c-01951cdefef3",
        "colab": {
          "base_uri": "https://localhost:8080/",
          "height": 86
        }
      },
      "outputs": [
        {
          "output_type": "display_data",
          "data": {
            "text/plain": [
              "             50% \n",
              "\"2022-09-02 UTC\" "
            ]
          },
          "metadata": {}
        },
        {
          "output_type": "display_data",
          "data": {
            "text/plain": [
              "             75% \n",
              "\"2022-12-02 UTC\" "
            ]
          },
          "metadata": {}
        }
      ],
      "source": [
        "# Se divide el dataset en 50% de datos para entrenamiento, 25% para test y 25% para validación.\n",
        "# Para evitar fraccionar las unidades temporales diarias usamos percentiles de la secuencia temporal en días: \n",
        "\n",
        "time_point_50 <- as.POSIXct(as.Date(\n",
        "  quantile(dataset[,1], 0.5)))\n",
        "\n",
        "time_point_75 <- as.POSIXct(as.Date(\n",
        "  quantile(dataset[,1], 0.75)))\n",
        "\n",
        "time_point_50\n",
        "time_point_75"
      ]
    },
    {
      "cell_type": "code",
      "source": [
        "# Muestra de entrenamiento:\n",
        "train <- dataset %>%\n",
        "  subset(dataset[,1] <= time_point_75) %>%\n",
        "  # Normalización del dataset y eliminación de coeficientes\n",
        "  # wavelet con valor NA:\n",
        "  normalize_train()"
      ],
      "metadata": {
        "colab": {
          "base_uri": "https://localhost:8080/"
        },
        "id": "_mfYLtiEQ8Mx",
        "outputId": "8786867b-ba34-4efb-82a2-df1df76aeae3"
      },
      "execution_count": null,
      "outputs": [
        {
          "output_type": "stream",
          "name": "stderr",
          "text": [
            "Warning message:\n",
            "“\u001b[1m\u001b[22mThere were 2 warnings in `summarise()`.\n",
            "The first warning was:\n",
            "\u001b[1m\u001b[22m\u001b[36mℹ\u001b[39m In argument: `across(c(result_col, wavelet_cols), ~mean(., na.rm = T))`.\n",
            "Caused by warning:\n",
            "\u001b[1m\u001b[22m\u001b[33m!\u001b[39m Using an external vector in selections was deprecated in tidyselect 1.1.0.\n",
            "\u001b[36mℹ\u001b[39m Please use `all_of()` or `any_of()` instead.\n",
            "  # Was:\n",
            "  data %>% select(result_col)\n",
            "\n",
            "  # Now:\n",
            "  data %>% select(all_of(result_col))\n",
            "\n",
            "See <https://tidyselect.r-lib.org/reference/faq-external-vector.html>.\n",
            "\u001b[1m\u001b[22m\u001b[36mℹ\u001b[39m Run `dplyr::last_dplyr_warnings()` to see the 1 remaining warning.”\n"
          ]
        }
      ]
    },
    {
      "cell_type": "code",
      "source": [
        "# Muestra de validación:\n",
        "val <- dataset %>%\n",
        "  subset(\n",
        "    #data_sel_code$data[,1] > time_point_50 &\n",
        "    dataset[,1] > time_point_75) %>%\n",
        "  # Normalización del dataset y eliminación de coeficientes\n",
        "  # wavelet con valor NA:\n",
        "  norm_onehot_test_val(means = train$means, stds = train$stdev)"
      ],
      "metadata": {
        "id": "wpZHpUfERR-g"
      },
      "execution_count": null,
      "outputs": []
    },
    {
      "cell_type": "code",
      "source": [
        "# Creación de series temporales de tamaño k con los datos de training:\n",
        "# Índices identificativos de analizador, código de reactivo y nivel:\n",
        "train_indx <- unique_lab_cases(train$scaled_data, categorical_vars = c(15:46))[,-1]\n",
        "\n",
        "# Extraemos lo índices para realizar un diccionario de traducción de índices a códigos únicos numéricos:\n",
        "index_values <- unique(train_indx[,\"index\"])\n",
        "index_dictionary <- data.frame(index = index_values)\n",
        "index_dictionary$code <- as.numeric(factor(index_values, levels = index_values))\n",
        "\n",
        "# Sustituimos los índices de train_indx por sus códigos:\n",
        "train_indx$index <- index_dictionary$code[match(train_indx$index, index_dictionary$index)]\n",
        "index_values <- unique(train_indx[,\"index\"])\n",
        "\n",
        "# Hiperparámetros para generar las series temporales:\n",
        "lookback <- 20 # Longitud de la secuencia previa al target.\n",
        "delay <- 1 # Escoge como target el valor k+1 en el futuro.\n",
        "batch_size <- 200 # Tamaño de batch.\n",
        "min_index <- 1 # Indice de partida de la serie temporal.\n",
        "predseries <- 1 # Posición en el dataset de la variable a predecir (QC_RESULT)\n",
        "\n",
        "# Creación de las series temporales de longitud k por categorías de combinaciones únicas de analizador, código de prueba y nivel de QC:\n",
        " \n",
        "train_k <- lapply(index_values, function(idx) {\n",
        "  create_lstm_data.2(\n",
        "    data = as.matrix(train_indx[train_indx[,\"index\"] == idx,\n",
        "                                - length(train_indx)]),\n",
        "    lookback = lookback,\n",
        "    delay = delay,\n",
        "    batch_size = batch_size,\n",
        "    min_index = min_index,\n",
        "    max_index = \n",
        "      nrow(as.matrix(train_indx[train_indx[,\"index\"] == idx,])),\n",
        "    predseries = predseries)\n",
        "})\n",
        "\n",
        "# Cálculo del número de steps de training:\n",
        "train_steps <- round((nrow(train$scaled_data) - lookback) / batch_size)"
      ],
      "metadata": {
        "id": "qTFedinkfgJ7"
      },
      "execution_count": null,
      "outputs": []
    },
    {
      "cell_type": "code",
      "source": [
        "val_indx <- unique_lab_cases(val, categorical_vars = c(15:46))[,-1]\n",
        "\n",
        "# Usamos el diccionario de códigos creado anteriormente: \n",
        "val_indx$index <- index_dictionary$code[match(val_indx$index, index_dictionary$index)]\n",
        "index_values <- unique(val_indx[,\"index\"]) \n",
        "\n",
        "val_k <- lapply(index_values, function(idx) {\n",
        "  create_lstm_data.2(\n",
        "    data = as.matrix(val_indx[val_indx[,\"index\"] == idx,\n",
        "                              - length(val_indx)]),\n",
        "    lookback = lookback,\n",
        "    delay = delay,\n",
        "    batch_size = batch_size,\n",
        "    min_index = min_index,\n",
        "    max_index = \n",
        "      nrow(as.matrix(val_indx[val_indx[,\"index\"] == idx,])),\n",
        "    predseries = predseries)\n",
        "})\n",
        "\n",
        "# Cálculo del número de steps de validación:\n",
        "val_steps <- val_steps <- ceiling(nrow(val) / batch_size)"
      ],
      "metadata": {
        "id": "cEhSgHHdfhrZ"
      },
      "execution_count": null,
      "outputs": []
    },
    {
      "cell_type": "code",
      "execution_count": null,
      "metadata": {
        "id": "MaMmjDpDfbzE"
      },
      "outputs": [],
      "source": [
        "# Funciones generadoras de series para train y validation, Estas funciones generan \n",
        "# de manera indefinida series con los datos de entrenamiento y validación, usando \n",
        "# de manera consecutiva las funciones generadoras almacenadas junto a los subconjuntos \n",
        "# de datos con las 160 posibles combinaciones de ANALIZADOR, CÓDIGO_PRUEBA y NIVEL de QC\n",
        "# sobre los que cada una tiene que actuar. Si se llega a la generación número 160 \n",
        "# se repite el proceso desde la primera.  \n",
        "\n",
        "index_train <- 1\n",
        "\n",
        "train_gen <- function() {\n",
        "  if (index_train > length(train_k)) {\n",
        "      index_train <<- 1\n",
        "  }\n",
        "    \n",
        "  sequence <- train_k[[index_train]]()\n",
        "  index_train <<- index_train + 1\n",
        "  \n",
        "  return(sequence)\n",
        "}\n",
        "\n",
        "index_val <- 1\n",
        "\n",
        "val_gen <- function() {\n",
        "  if (index_val > length(val_k)) {\n",
        "    index_val <<- 1\n",
        "  }\n",
        "\n",
        "  sequence <- val_k[[index_val]]()\n",
        "  index_val <<- index_val + 1\n",
        "  \n",
        "  return(sequence)\n",
        "}"
      ]
    },
    {
      "cell_type": "code",
      "source": [
        "# Función para calcular el MAE promedio para un modelo basado en predecir los targets \n",
        "# del set de validación con las mismas muestras de validación, mediante la iteración \n",
        "# de lotes de muestras. Esto sería equivalente a un modelo que predice el resultado \n",
        "# futuro del QC con el actual y constituye el punto de partida para mejorar (common sense baseline).\n",
        "\n",
        "evaluate_naive_method <- function() {\n",
        "  batch_maes <- c()\n",
        "  for (step in 1:val_steps) {\n",
        "    c(samples, targets) %<-% val_gen()\n",
        "    preds <- samples[,dim(samples)[[2]],2]\n",
        "    mae <- mean(abs(preds - targets))\n",
        "    batch_maes <- c(batch_maes, mae)\n",
        "  }\n",
        "  print(mean(batch_maes))\n",
        "}\n",
        "\n",
        "maes <- evaluate_naive_method()\n",
        "cbind(train$stdev[[1]], maes*train$stdev[[2]])"
      ],
      "metadata": {
        "colab": {
          "base_uri": "https://localhost:8080/",
          "height": 898
        },
        "id": "J5ErUajWacQZ",
        "outputId": "cf7e09ea-5734-4a87-d601-34d16de8dfcc"
      },
      "execution_count": null,
      "outputs": [
        {
          "output_type": "stream",
          "name": "stdout",
          "text": [
            "[1] 3.975875\n"
          ]
        },
        {
          "output_type": "display_data",
          "data": {
            "text/html": [
              "<table class=\"dataframe\">\n",
              "<caption>A matrix: 27 × 2 of type chr</caption>\n",
              "<tbody>\n",
              "\t<tr><td>CLC00033</td><td>53.5918894310736</td></tr>\n",
              "\t<tr><td>CLC00034</td><td>5.57748042439256</td></tr>\n",
              "\t<tr><td>CLC00061</td><td>183.733326859503</td></tr>\n",
              "\t<tr><td>CLC00415</td><td>381.81579837991 </td></tr>\n",
              "\t<tr><td>CLC00544</td><td>88.998850198785 </td></tr>\n",
              "\t<tr><td>CLC00638</td><td>28.4827195332944</td></tr>\n",
              "\t<tr><td>CLC00805</td><td>681.912102074728</td></tr>\n",
              "\t<tr><td>CLC00807</td><td>222.808695650046</td></tr>\n",
              "\t<tr><td>CLC00811</td><td>17.7739267983337</td></tr>\n",
              "\t<tr><td>CLC00813</td><td>319.102338561277</td></tr>\n",
              "\t<tr><td>CLC00814</td><td>66.3543590252383</td></tr>\n",
              "\t<tr><td>CLC00815</td><td>582.951863769239</td></tr>\n",
              "\t<tr><td>CLC00816</td><td>94.4343603667952</td></tr>\n",
              "\t<tr><td>CLC00817</td><td>449.007218513136</td></tr>\n",
              "\t<tr><td>CLC00820</td><td>37.7321999751137</td></tr>\n",
              "\t<tr><td>CLC00821</td><td>22.485595580168 </td></tr>\n",
              "\t<tr><td>CLC02816</td><td>3199.81149987307</td></tr>\n",
              "\t<tr><td>CLC11007</td><td>8.83680970763184</td></tr>\n",
              "\t<tr><td>CLC11015</td><td>1267.3564714164 </td></tr>\n",
              "\t<tr><td>CLC11768</td><td>765.42687337453 </td></tr>\n",
              "\t<tr><td>CLC11775</td><td>59.6921801592516</td></tr>\n",
              "\t<tr><td>CLC11797</td><td>65.3666980530549</td></tr>\n",
              "\t<tr><td>CLC11816</td><td>101.281762574514</td></tr>\n",
              "\t<tr><td>CLC11837</td><td>4095.65321893736</td></tr>\n",
              "\t<tr><td>CLC11846</td><td>41.7139517172329</td></tr>\n",
              "\t<tr><td>CLC11854</td><td>36.8116956325357</td></tr>\n",
              "\t<tr><td>CLC11977</td><td>45.7535380333056</td></tr>\n",
              "</tbody>\n",
              "</table>\n"
            ],
            "text/markdown": "\nA matrix: 27 × 2 of type chr\n\n| CLC00033 | 53.5918894310736 |\n| CLC00034 | 5.57748042439256 |\n| CLC00061 | 183.733326859503 |\n| CLC00415 | 381.81579837991  |\n| CLC00544 | 88.998850198785  |\n| CLC00638 | 28.4827195332944 |\n| CLC00805 | 681.912102074728 |\n| CLC00807 | 222.808695650046 |\n| CLC00811 | 17.7739267983337 |\n| CLC00813 | 319.102338561277 |\n| CLC00814 | 66.3543590252383 |\n| CLC00815 | 582.951863769239 |\n| CLC00816 | 94.4343603667952 |\n| CLC00817 | 449.007218513136 |\n| CLC00820 | 37.7321999751137 |\n| CLC00821 | 22.485595580168  |\n| CLC02816 | 3199.81149987307 |\n| CLC11007 | 8.83680970763184 |\n| CLC11015 | 1267.3564714164  |\n| CLC11768 | 765.42687337453  |\n| CLC11775 | 59.6921801592516 |\n| CLC11797 | 65.3666980530549 |\n| CLC11816 | 101.281762574514 |\n| CLC11837 | 4095.65321893736 |\n| CLC11846 | 41.7139517172329 |\n| CLC11854 | 36.8116956325357 |\n| CLC11977 | 45.7535380333056 |\n\n",
            "text/latex": "A matrix: 27 × 2 of type chr\n\\begin{tabular}{ll}\n\t CLC00033 & 53.5918894310736\\\\\n\t CLC00034 & 5.57748042439256\\\\\n\t CLC00061 & 183.733326859503\\\\\n\t CLC00415 & 381.81579837991 \\\\\n\t CLC00544 & 88.998850198785 \\\\\n\t CLC00638 & 28.4827195332944\\\\\n\t CLC00805 & 681.912102074728\\\\\n\t CLC00807 & 222.808695650046\\\\\n\t CLC00811 & 17.7739267983337\\\\\n\t CLC00813 & 319.102338561277\\\\\n\t CLC00814 & 66.3543590252383\\\\\n\t CLC00815 & 582.951863769239\\\\\n\t CLC00816 & 94.4343603667952\\\\\n\t CLC00817 & 449.007218513136\\\\\n\t CLC00820 & 37.7321999751137\\\\\n\t CLC00821 & 22.485595580168 \\\\\n\t CLC02816 & 3199.81149987307\\\\\n\t CLC11007 & 8.83680970763184\\\\\n\t CLC11015 & 1267.3564714164 \\\\\n\t CLC11768 & 765.42687337453 \\\\\n\t CLC11775 & 59.6921801592516\\\\\n\t CLC11797 & 65.3666980530549\\\\\n\t CLC11816 & 101.281762574514\\\\\n\t CLC11837 & 4095.65321893736\\\\\n\t CLC11846 & 41.7139517172329\\\\\n\t CLC11854 & 36.8116956325357\\\\\n\t CLC11977 & 45.7535380333056\\\\\n\\end{tabular}\n",
            "text/plain": [
              "      [,1]     [,2]            \n",
              " [1,] CLC00033 53.5918894310736\n",
              " [2,] CLC00034 5.57748042439256\n",
              " [3,] CLC00061 183.733326859503\n",
              " [4,] CLC00415 381.81579837991 \n",
              " [5,] CLC00544 88.998850198785 \n",
              " [6,] CLC00638 28.4827195332944\n",
              " [7,] CLC00805 681.912102074728\n",
              " [8,] CLC00807 222.808695650046\n",
              " [9,] CLC00811 17.7739267983337\n",
              "[10,] CLC00813 319.102338561277\n",
              "[11,] CLC00814 66.3543590252383\n",
              "[12,] CLC00815 582.951863769239\n",
              "[13,] CLC00816 94.4343603667952\n",
              "[14,] CLC00817 449.007218513136\n",
              "[15,] CLC00820 37.7321999751137\n",
              "[16,] CLC00821 22.485595580168 \n",
              "[17,] CLC02816 3199.81149987307\n",
              "[18,] CLC11007 8.83680970763184\n",
              "[19,] CLC11015 1267.3564714164 \n",
              "[20,] CLC11768 765.42687337453 \n",
              "[21,] CLC11775 59.6921801592516\n",
              "[22,] CLC11797 65.3666980530549\n",
              "[23,] CLC11816 101.281762574514\n",
              "[24,] CLC11837 4095.65321893736\n",
              "[25,] CLC11846 41.7139517172329\n",
              "[26,] CLC11854 36.8116956325357\n",
              "[27,] CLC11977 45.7535380333056"
            ]
          },
          "metadata": {}
        }
      ]
    },
    {
      "cell_type": "code",
      "execution_count": null,
      "metadata": {
        "id": "Qpumk6DQKTcZ"
      },
      "outputs": [],
      "source": [
        "set.seed(123)\n",
        "\n",
        "model_2 <- keras_model_sequential() %>%\n",
        "    layer_lstm(units = 32, dropout=0.1, recurrent_dropout=0.5,\n",
        "              #return_sequences = TRUE,\n",
        "              input_shape = list(NULL, dim(train$scaled_data[,-1])[[-1]])) %>%\n",
        "    #layer_lstm(units = 64, activation=\"relu\", \n",
        "               #dropout=0.1, recurrent_dropout=0.5) %>%\n",
        "    layer_dense(units = 1)"
      ]
    },
    {
      "cell_type": "code",
      "source": [
        "rmse <- function(y_pred, y_true) {\n",
        "  backend <- keras::backend()\n",
        "  sq_diff <- backend$square(y_pred - y_true)\n",
        "  mean_sq_diff <- backend$mean(sq_diff, axis = -1)\n",
        "  rmse_value <- backend$sqrt(mean_sq_diff)\n",
        "  rmse_value <- backend$cast(rmse_value, dtype = \"float32\")\n",
        "  rmse_value\n",
        "}\n"
      ],
      "metadata": {
        "id": "c3xH6Z3SiqcJ"
      },
      "execution_count": null,
      "outputs": []
    },
    {
      "cell_type": "code",
      "source": [
        "model_2 %>% compile(\n",
        "    optimizer = \"rmsprop\",\n",
        "    loss=\"mse\", \n",
        "    metrics = list(\"mse\", \"mae\")\n",
        ")\n",
        "\n",
        "callbacks <- list(\n",
        "  callback_model_checkpoint(file.path(resultsdir, \"lstm_2.keras\",\n",
        "                                     save_best_only = TRUE)))"
      ],
      "metadata": {
        "id": "cfcPLr_zisli"
      },
      "execution_count": null,
      "outputs": []
    },
    {
      "cell_type": "code",
      "source": [
        "# Entrenar el modelo:\n",
        "history_2 <- model_2 %>% fit_generator(\n",
        "  generator = train_gen,\n",
        "  steps_per_epoch = train_steps,\n",
        "  epochs = 20,\n",
        "  validation_data = val_gen,\n",
        "  validation_steps = val_steps,\n",
        "  callbacks = callbacks\n",
        ")"
      ],
      "metadata": {
        "id": "bI_xxLhHi2lx",
        "colab": {
          "base_uri": "https://localhost:8080/"
        },
        "outputId": "00f818cf-25b0-47e6-d663-bba15aa3f3a6"
      },
      "execution_count": null,
      "outputs": [
        {
          "output_type": "stream",
          "name": "stderr",
          "text": [
            "Warning message in fit_generator(., generator = train_gen, steps_per_epoch = train_steps, :\n",
            "“`fit_generator` is deprecated. Use `fit` instead, it now accept generators.”\n"
          ]
        }
      ]
    },
    {
      "cell_type": "code",
      "source": [
        "plot(history_2)"
      ],
      "metadata": {
        "colab": {
          "base_uri": "https://localhost:8080/",
          "height": 437
        },
        "id": "7g6glA6-poUO",
        "outputId": "d5564e34-334e-4cb9-d27e-ff5ead82fa8f"
      },
      "execution_count": null,
      "outputs": [
        {
          "output_type": "display_data",
          "data": {
            "text/plain": [
              "plot without title"
            ],
            "image/png": "[encoded data removed]"
          },
          "metadata": {
            "image/png": {
              "width": 420,
              "height": 420
            }
          }
        }
      ]
    }
  ],
  "metadata": {
    "colab": {
      "provenance": [],
      "gpuType": "T4",
      "authorship_tag": "ABX9TyOUDvEHWO3KqYSxico4Ro8I",
      "include_colab_link": true
    },
    "gpuClass": "standard",
    "kernelspec": {
      "display_name": "R",
      "name": "ir"
    },
    "language_info": {
      "name": "R"
    },
    "accelerator": "GPU"
  },
  "nbformat": 4,
  "nbformat_minor": 0
}
