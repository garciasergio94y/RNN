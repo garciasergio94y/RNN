{
  "cells": [
    {
      "cell_type": "markdown",
      "metadata": {
        "id": "view-in-github",
        "colab_type": "text"
      },
      "source": [
        "<a href=\"https://colab.research.google.com/github/garciasergio94y/TFM/blob/LSTM_embed_RNN/LSTM_RNN_R.ipynb\" target=\"_parent\"><img src=\"https://colab.research.google.com/assets/colab-badge.svg\" alt=\"Open In Colab\"/></a>"
      ]
    },
    {
      "cell_type": "code",
      "execution_count": 1,
      "metadata": {
        "id": "fcKncLefo322",
        "colab": {
          "base_uri": "https://localhost:8080/",
          "height": 1000
        },
        "outputId": "b5a4a9aa-b541-45ed-a9bc-1b793984252e"
      },
      "outputs": [
        {
          "output_type": "stream",
          "name": "stderr",
          "text": [
            "Loading required package: readr\n",
            "\n",
            "Loading required package: dplyr\n",
            "\n",
            "\n",
            "Attaching package: ‘dplyr’\n",
            "\n",
            "\n",
            "The following objects are masked from ‘package:stats’:\n",
            "\n",
            "    filter, lag\n",
            "\n",
            "\n",
            "The following objects are masked from ‘package:base’:\n",
            "\n",
            "    intersect, setdiff, setequal, union\n",
            "\n",
            "\n",
            "Loading required package: caret\n",
            "\n",
            "Warning message in library(package, lib.loc = lib.loc, character.only = TRUE, logical.return = TRUE, :\n",
            "“there is no package called ‘caret’”\n",
            "Installing package into ‘/usr/local/lib/R/site-library’\n",
            "(as ‘lib’ is unspecified)\n",
            "\n",
            "also installing the dependencies ‘listenv’, ‘parallelly’, ‘future’, ‘globals’, ‘shape’, ‘future.apply’, ‘numDeriv’, ‘progressr’, ‘SQUAREM’, ‘diagram’, ‘lava’, ‘prodlim’, ‘proxy’, ‘iterators’, ‘Rcpp’, ‘clock’, ‘gower’, ‘hardhat’, ‘ipred’, ‘timeDate’, ‘e1071’, ‘foreach’, ‘ModelMetrics’, ‘plyr’, ‘pROC’, ‘recipes’, ‘reshape2’\n",
            "\n",
            "\n",
            "Loading required package: lubridate\n",
            "\n",
            "\n",
            "Attaching package: ‘lubridate’\n",
            "\n",
            "\n",
            "The following objects are masked from ‘package:base’:\n",
            "\n",
            "    date, intersect, setdiff, union\n",
            "\n",
            "\n",
            "Loading required package: abind\n",
            "\n",
            "Warning message in library(package, lib.loc = lib.loc, character.only = TRUE, logical.return = TRUE, :\n",
            "“there is no package called ‘abind’”\n",
            "Installing package into ‘/usr/local/lib/R/site-library’\n",
            "(as ‘lib’ is unspecified)\n",
            "\n",
            "Loading required package: tensorflow\n",
            "\n",
            "Warning message in library(package, lib.loc = lib.loc, character.only = TRUE, logical.return = TRUE, :\n",
            "“there is no package called ‘tensorflow’”\n",
            "Installing package into ‘/usr/local/lib/R/site-library’\n",
            "(as ‘lib’ is unspecified)\n",
            "\n",
            "also installing the dependencies ‘RcppTOML’, ‘here’, ‘png’, ‘config’, ‘reticulate’, ‘tfruns’, ‘tfautograph’\n",
            "\n",
            "\n",
            "Loading required package: tfdatasets\n",
            "\n",
            "Warning message in library(package, lib.loc = lib.loc, character.only = TRUE, logical.return = TRUE, :\n",
            "“there is no package called ‘tfdatasets’”\n",
            "Installing package into ‘/usr/local/lib/R/site-library’\n",
            "(as ‘lib’ is unspecified)\n",
            "\n",
            "Loading required package: keras\n",
            "\n",
            "Warning message in library(package, lib.loc = lib.loc, character.only = TRUE, logical.return = TRUE, :\n",
            "“there is no package called ‘keras’”\n",
            "Installing package into ‘/usr/local/lib/R/site-library’\n",
            "(as ‘lib’ is unspecified)\n",
            "\n",
            "also installing the dependency ‘zeallot’\n",
            "\n",
            "\n"
          ]
        },
        {
          "output_type": "display_data",
          "data": {
            "text/html": [
              "<ol>\n",
              "\t<li>NULL</li>\n",
              "\t<li>NULL</li>\n",
              "\t<li>NULL</li>\n",
              "\t<li>NULL</li>\n",
              "\t<li>NULL</li>\n",
              "\t<li>NULL</li>\n",
              "\t<li>NULL</li>\n",
              "\t<li>NULL</li>\n",
              "</ol>\n"
            ],
            "text/markdown": "1. NULL\n2. NULL\n3. NULL\n4. NULL\n5. NULL\n6. NULL\n7. NULL\n8. NULL\n\n\n",
            "text/latex": "\\begin{enumerate}\n\\item NULL\n\\item NULL\n\\item NULL\n\\item NULL\n\\item NULL\n\\item NULL\n\\item NULL\n\\item NULL\n\\end{enumerate}\n",
            "text/plain": [
              "[[1]]\n",
              "NULL\n",
              "\n",
              "[[2]]\n",
              "NULL\n",
              "\n",
              "[[3]]\n",
              "NULL\n",
              "\n",
              "[[4]]\n",
              "NULL\n",
              "\n",
              "[[5]]\n",
              "NULL\n",
              "\n",
              "[[6]]\n",
              "NULL\n",
              "\n",
              "[[7]]\n",
              "NULL\n",
              "\n",
              "[[8]]\n",
              "NULL\n"
            ]
          },
          "metadata": {}
        },
        {
          "output_type": "stream",
          "name": "stderr",
          "text": [
            "Loading required package: caret\n",
            "\n",
            "Loading required package: ggplot2\n",
            "\n",
            "Loading required package: lattice\n",
            "\n",
            "Loading required package: abind\n",
            "\n",
            "Loading required package: tensorflow\n",
            "\n",
            "\n",
            "Attaching package: ‘tensorflow’\n",
            "\n",
            "\n",
            "The following object is masked from ‘package:caret’:\n",
            "\n",
            "    train\n",
            "\n",
            "\n",
            "Loading required package: tfdatasets\n",
            "\n",
            "Loading required package: keras\n",
            "\n"
          ]
        }
      ],
      "source": [
        "# Instalación y carga de librerías:\n",
        "\n",
        "packages <- c(\"readr\", \"dplyr\", \"caret\", \"lubridate\", \"abind\", \"tensorflow\", \"tfdatasets\", \"keras\")\n",
        "\n",
        "# Función para instalar paquetes si no están ya instalados\n",
        "install_packages <- function(package) {\n",
        "  if (!require(package, character.only = TRUE)) {\n",
        "    install.packages(package)\n",
        "    }\n",
        "}\n",
        "\n",
        "# Aplicar la función para cada uno de los paquetes\n",
        "lapply(packages, install_packages)\n",
        "\n",
        "require(readr)\n",
        "require(dplyr)\n",
        "require(caret)\n",
        "require(lubridate)\n",
        "require(abind)\n",
        "require(tensorflow)\n",
        "require(tfdatasets)\n",
        "require(keras)\n"
      ]
    },
    {
      "cell_type": "code",
      "source": [
        "workingdir <- getwd()\n",
        "datadir <- file.path(workingdir, \"Datos/daily_s\")\n",
        "eventdir <- file.path(workingdir, \"Datos/daily_s/Event\")\n",
        "eventdir_old <- file.path(workingdir, \"Datos/daily_s/Event/old\")\n",
        "lotdir <- file.path(workingdir, \"Datos/daily_s/Lot\")\n",
        "lotdir_old <- file.path(workingdir, \"Datos/daily_s/Lot/old\")\n",
        "qcdir <- file.path(workingdir, \"Datos/daily_s/qc\")\n",
        "qcdir_old <- file.path(workingdir, \"Datos/daily_s/qc/old\")\n",
        "resultsdir <- file.path(workingdir, \"Resultados\")"
      ],
      "metadata": {
        "id": "CmX65urDjO83"
      },
      "execution_count": 2,
      "outputs": []
    },
    {
      "cell_type": "code",
      "execution_count": 3,
      "metadata": {
        "id": "XM3iSvsm8ZNO",
        "colab": {
          "base_uri": "https://localhost:8080/",
          "height": 69
        },
        "outputId": "d71566e5-174e-44eb-9111-896c52887061"
      },
      "outputs": [
        {
          "output_type": "stream",
          "name": "stdout",
          "text": [
            "TensorFlow built with CUDA:  TRUE \n",
            "GPU device name:  /device:GPU:0"
          ]
        },
        {
          "output_type": "display_data",
          "data": {
            "text/html": [
              "TRUE"
            ],
            "text/markdown": "TRUE",
            "text/latex": "TRUE",
            "text/plain": [
              "[1] TRUE"
            ]
          },
          "metadata": {}
        }
      ],
      "source": [
        "tensorflow::tf_gpu_configured()"
      ]
    },
    {
      "cell_type": "markdown",
      "source": [
        "Lectura de archivos de datos"
      ],
      "metadata": {
        "id": "iGT314P3vtdx"
      }
    },
    {
      "cell_type": "code",
      "execution_count": 4,
      "metadata": {
        "id": "8EhDKsGXewWe",
        "colab": {
          "base_uri": "https://localhost:8080/"
        },
        "outputId": "62ecb5a9-f305-491a-aa9d-1e7556e9959d"
      },
      "outputs": [
        {
          "output_type": "stream",
          "name": "stderr",
          "text": [
            "Warning message in write.csv(dataset, file = \"dataset\", row.names = F, col.names = F):\n",
            "“attempt to set 'col.names' ignored”\n"
          ]
        }
      ],
      "source": [
        "# Leer archivo dataset desde Github:\n",
        "url <- \"https://raw.githubusercontent.com/garciasergio94y/TFM/LSTM_embed_RNN/Resultados/data_sel_tr?token=GHSAT0AAAAAACCRT74V6LICA5MMH66DUU64ZDBYTAA\"\n",
        "dataset <- read.csv(url)\n",
        "\n",
        "# Guardar una copia local:\n",
        "write.csv(dataset, file = \"dataset\", row.names = F, col.names = F) \n"
      ]
    },
    {
      "cell_type": "code",
      "execution_count": 5,
      "metadata": {
        "id": "ABzL8R-64mKf",
        "colab": {
          "base_uri": "https://localhost:8080/",
          "height": 410
        },
        "outputId": "e91c79f9-28d5-4bf4-f22c-f6e725a41424"
      },
      "outputs": [
        {
          "output_type": "display_data",
          "data": {
            "text/html": [
              "<table class=\"dataframe\">\n",
              "<caption>A data.frame: 6 × 16</caption>\n",
              "<thead>\n",
              "\t<tr><th></th><th scope=col>TIEMPO_MUESTRA</th><th scope=col>PACIENTE_SEXO</th><th scope=col>EDAD_BIN</th><th scope=col>RESULTADO</th><th scope=col>W1</th><th scope=col>W2</th><th scope=col>W3</th><th scope=col>W4</th><th scope=col>W5</th><th scope=col>W6</th><th scope=col>W7</th><th scope=col>W8</th><th scope=col>W9</th><th scope=col>W10</th><th scope=col>CODIGO_PRUEBA</th><th scope=col>CTRL</th></tr>\n",
              "\t<tr><th></th><th scope=col>&lt;dttm&gt;</th><th scope=col>&lt;chr&gt;</th><th scope=col>&lt;chr&gt;</th><th scope=col>&lt;dbl&gt;</th><th scope=col>&lt;dbl&gt;</th><th scope=col>&lt;dbl&gt;</th><th scope=col>&lt;dbl&gt;</th><th scope=col>&lt;dbl&gt;</th><th scope=col>&lt;dbl&gt;</th><th scope=col>&lt;dbl&gt;</th><th scope=col>&lt;dbl&gt;</th><th scope=col>&lt;dbl&gt;</th><th scope=col>&lt;dbl&gt;</th><th scope=col>&lt;dbl&gt;</th><th scope=col>&lt;chr&gt;</th><th scope=col>&lt;int&gt;</th></tr>\n",
              "</thead>\n",
              "<tbody>\n",
              "\t<tr><th scope=row>1</th><td>2022-07-01 23:43:01</td><td>M</td><td>Adulto </td><td>0.128</td><td> 0.58264176</td><td> 0.6050844</td><td>-1.5660230</td><td> 1.0604576</td><td>-0.7021162</td><td>-0.2805386</td><td>-5.420053</td><td>0.3365865</td><td>0.6933781</td><td>0.09346160</td><td>CLC00638</td><td>0</td></tr>\n",
              "\t<tr><th scope=row>2</th><td>2022-07-01 23:34:01</td><td>F</td><td>Anciano</td><td>0.045</td><td>-0.58634149</td><td> 0.3413245</td><td>-3.1215598</td><td> 0.3966051</td><td>-0.6716712</td><td>-0.3140215</td><td>-5.374613</td><td>0.3373944</td><td>0.6904255</td><td>0.09412916</td><td>CLC00638</td><td>0</td></tr>\n",
              "\t<tr><th scope=row>3</th><td>2022-07-01 02:16:09</td><td>M</td><td>Anciano</td><td>2.400</td><td> 0.28211450</td><td>-0.6313592</td><td>-3.9215202</td><td>-0.1905341</td><td>-0.6267345</td><td>-0.3476968</td><td>-5.318061</td><td>0.3379912</td><td>0.6874266</td><td>0.09479339</td><td>CLC00544</td><td>0</td></tr>\n",
              "\t<tr><th scope=row>4</th><td>2022-07-01 23:43:01</td><td>M</td><td>Adulto </td><td>0.128</td><td>-0.24640580</td><td>-0.4093304</td><td>-3.1907590</td><td>-0.6536618</td><td>-0.5695838</td><td>-0.3812613</td><td>-5.250193</td><td>0.3383756</td><td>0.6843820</td><td>0.09545428</td><td>CLC00638</td><td>0</td></tr>\n",
              "\t<tr><th scope=row>5</th><td>2022-07-01 23:34:01</td><td>F</td><td>Anciano</td><td>0.045</td><td>-0.08102089</td><td> 0.5947319</td><td>-0.7510063</td><td>-0.9750343</td><td>-0.5021351</td><td>-0.4142868</td><td>-5.170858</td><td>0.3385454</td><td>0.6812922</td><td>0.09611183</td><td>CLC00638</td><td>0</td></tr>\n",
              "\t<tr><th scope=row>6</th><td>2022-07-01 02:16:09</td><td>M</td><td>Anciano</td><td>2.400</td><td> 0.83130471</td><td> 0.7826385</td><td> 2.3662672</td><td>-1.1178856</td><td>-0.4263409</td><td>-0.4463627</td><td>-5.079951</td><td>0.3384975</td><td>0.6781576</td><td>0.09676602</td><td>CLC00544</td><td>0</td></tr>\n",
              "</tbody>\n",
              "</table>\n"
            ],
            "text/markdown": "\nA data.frame: 6 × 16\n\n| <!--/--> | TIEMPO_MUESTRA &lt;dttm&gt; | PACIENTE_SEXO &lt;chr&gt; | EDAD_BIN &lt;chr&gt; | RESULTADO &lt;dbl&gt; | W1 &lt;dbl&gt; | W2 &lt;dbl&gt; | W3 &lt;dbl&gt; | W4 &lt;dbl&gt; | W5 &lt;dbl&gt; | W6 &lt;dbl&gt; | W7 &lt;dbl&gt; | W8 &lt;dbl&gt; | W9 &lt;dbl&gt; | W10 &lt;dbl&gt; | CODIGO_PRUEBA &lt;chr&gt; | CTRL &lt;int&gt; |\n|---|---|---|---|---|---|---|---|---|---|---|---|---|---|---|---|---|\n| 1 | 2022-07-01 23:43:01 | M | Adulto  | 0.128 |  0.58264176 |  0.6050844 | -1.5660230 |  1.0604576 | -0.7021162 | -0.2805386 | -5.420053 | 0.3365865 | 0.6933781 | 0.09346160 | CLC00638 | 0 |\n| 2 | 2022-07-01 23:34:01 | F | Anciano | 0.045 | -0.58634149 |  0.3413245 | -3.1215598 |  0.3966051 | -0.6716712 | -0.3140215 | -5.374613 | 0.3373944 | 0.6904255 | 0.09412916 | CLC00638 | 0 |\n| 3 | 2022-07-01 02:16:09 | M | Anciano | 2.400 |  0.28211450 | -0.6313592 | -3.9215202 | -0.1905341 | -0.6267345 | -0.3476968 | -5.318061 | 0.3379912 | 0.6874266 | 0.09479339 | CLC00544 | 0 |\n| 4 | 2022-07-01 23:43:01 | M | Adulto  | 0.128 | -0.24640580 | -0.4093304 | -3.1907590 | -0.6536618 | -0.5695838 | -0.3812613 | -5.250193 | 0.3383756 | 0.6843820 | 0.09545428 | CLC00638 | 0 |\n| 5 | 2022-07-01 23:34:01 | F | Anciano | 0.045 | -0.08102089 |  0.5947319 | -0.7510063 | -0.9750343 | -0.5021351 | -0.4142868 | -5.170858 | 0.3385454 | 0.6812922 | 0.09611183 | CLC00638 | 0 |\n| 6 | 2022-07-01 02:16:09 | M | Anciano | 2.400 |  0.83130471 |  0.7826385 |  2.3662672 | -1.1178856 | -0.4263409 | -0.4463627 | -5.079951 | 0.3384975 | 0.6781576 | 0.09676602 | CLC00544 | 0 |\n\n",
            "text/latex": "A data.frame: 6 × 16\n\\begin{tabular}{r|llllllllllllllll}\n  & TIEMPO\\_MUESTRA & PACIENTE\\_SEXO & EDAD\\_BIN & RESULTADO & W1 & W2 & W3 & W4 & W5 & W6 & W7 & W8 & W9 & W10 & CODIGO\\_PRUEBA & CTRL\\\\\n  & <dttm> & <chr> & <chr> & <dbl> & <dbl> & <dbl> & <dbl> & <dbl> & <dbl> & <dbl> & <dbl> & <dbl> & <dbl> & <dbl> & <chr> & <int>\\\\\n\\hline\n\t1 & 2022-07-01 23:43:01 & M & Adulto  & 0.128 &  0.58264176 &  0.6050844 & -1.5660230 &  1.0604576 & -0.7021162 & -0.2805386 & -5.420053 & 0.3365865 & 0.6933781 & 0.09346160 & CLC00638 & 0\\\\\n\t2 & 2022-07-01 23:34:01 & F & Anciano & 0.045 & -0.58634149 &  0.3413245 & -3.1215598 &  0.3966051 & -0.6716712 & -0.3140215 & -5.374613 & 0.3373944 & 0.6904255 & 0.09412916 & CLC00638 & 0\\\\\n\t3 & 2022-07-01 02:16:09 & M & Anciano & 2.400 &  0.28211450 & -0.6313592 & -3.9215202 & -0.1905341 & -0.6267345 & -0.3476968 & -5.318061 & 0.3379912 & 0.6874266 & 0.09479339 & CLC00544 & 0\\\\\n\t4 & 2022-07-01 23:43:01 & M & Adulto  & 0.128 & -0.24640580 & -0.4093304 & -3.1907590 & -0.6536618 & -0.5695838 & -0.3812613 & -5.250193 & 0.3383756 & 0.6843820 & 0.09545428 & CLC00638 & 0\\\\\n\t5 & 2022-07-01 23:34:01 & F & Anciano & 0.045 & -0.08102089 &  0.5947319 & -0.7510063 & -0.9750343 & -0.5021351 & -0.4142868 & -5.170858 & 0.3385454 & 0.6812922 & 0.09611183 & CLC00638 & 0\\\\\n\t6 & 2022-07-01 02:16:09 & M & Anciano & 2.400 &  0.83130471 &  0.7826385 &  2.3662672 & -1.1178856 & -0.4263409 & -0.4463627 & -5.079951 & 0.3384975 & 0.6781576 & 0.09676602 & CLC00544 & 0\\\\\n\\end{tabular}\n",
            "text/plain": [
              "  TIEMPO_MUESTRA      PACIENTE_SEXO EDAD_BIN RESULTADO W1          W2        \n",
              "1 2022-07-01 23:43:01 M             Adulto   0.128      0.58264176  0.6050844\n",
              "2 2022-07-01 23:34:01 F             Anciano  0.045     -0.58634149  0.3413245\n",
              "3 2022-07-01 02:16:09 M             Anciano  2.400      0.28211450 -0.6313592\n",
              "4 2022-07-01 23:43:01 M             Adulto   0.128     -0.24640580 -0.4093304\n",
              "5 2022-07-01 23:34:01 F             Anciano  0.045     -0.08102089  0.5947319\n",
              "6 2022-07-01 02:16:09 M             Anciano  2.400      0.83130471  0.7826385\n",
              "  W3         W4         W5         W6         W7        W8        W9       \n",
              "1 -1.5660230  1.0604576 -0.7021162 -0.2805386 -5.420053 0.3365865 0.6933781\n",
              "2 -3.1215598  0.3966051 -0.6716712 -0.3140215 -5.374613 0.3373944 0.6904255\n",
              "3 -3.9215202 -0.1905341 -0.6267345 -0.3476968 -5.318061 0.3379912 0.6874266\n",
              "4 -3.1907590 -0.6536618 -0.5695838 -0.3812613 -5.250193 0.3383756 0.6843820\n",
              "5 -0.7510063 -0.9750343 -0.5021351 -0.4142868 -5.170858 0.3385454 0.6812922\n",
              "6  2.3662672 -1.1178856 -0.4263409 -0.4463627 -5.079951 0.3384975 0.6781576\n",
              "  W10        CODIGO_PRUEBA CTRL\n",
              "1 0.09346160 CLC00638      0   \n",
              "2 0.09412916 CLC00638      0   \n",
              "3 0.09479339 CLC00544      0   \n",
              "4 0.09545428 CLC00638      0   \n",
              "5 0.09611183 CLC00638      0   \n",
              "6 0.09676602 CLC00544      0   "
            ]
          },
          "metadata": {}
        }
      ],
      "source": [
        "# Convertir fechas en formato POSIXct:\n",
        "dataset[,1] %<>% as.POSIXct(tz = \"Europe/Madrid\")\n",
        "head(dataset)"
      ]
    },
    {
      "cell_type": "markdown",
      "source": [
        "Definición de funciones para transformación de variables, normalización y secuenciación de series de datos:"
      ],
      "metadata": {
        "id": "mMi3X0OGv3k7"
      }
    },
    {
      "cell_type": "code",
      "source": [
        "# Función para convertir las variables categóricas tipo string en factores y éstos a números enteros:\n",
        "\n",
        "factor_cat_var <- function(data) {\n",
        "  # Detección de variables categóricas:\n",
        "  cat_vars <- which(sapply(data, is.character))\n",
        "\n",
        "  # Conversión a factores y de factores a enteros:\n",
        "  data[,cat_vars] <- lapply(data[,cat_vars], function(x) {\n",
        "    levels_x <- unique(x)\n",
        "    factor_x <- factor(x, levels = levels_x)\n",
        "    as.integer(factor_x)\n",
        "  })\n",
        "\n",
        "  return(data)\n",
        "}\n",
        "\n"
      ],
      "metadata": {
        "id": "o0ZlcpJTv4M0"
      },
      "execution_count": 6,
      "outputs": []
    },
    {
      "cell_type": "code",
      "source": [
        "# Función de normalización de las variables continuas y eliminación de coeficientes\n",
        "# wavelet con valores NA. Se definen dos funciones, una para el set de training \n",
        "# y otra para los sets de test y validación. La diferencia es que la de train devuelve\n",
        "# vectores de medias y de desviaciones estándar que luego se usan como argumentos en las otras.\n",
        "#  De esta forma, el escalado y normalización se realiza con la misma media y \n",
        "# desviación del set de entrenamiento para los otros dos datasets:\n",
        "\n",
        "normalize_train <- function(data) {\n",
        "  \n",
        "  # Identificar las columnas que empiezan por W y la columna 'RESULTADO'\n",
        "  wavelet_cols <- grep(\"^W\", colnames(data), value = TRUE)\n",
        "  result_col <- \"RESULTADO\"\n",
        "  \n",
        "  # Calcular medias y desviaciones estandar por cada categoria de CODIGO_PRUEBA\n",
        "  means <- data %>%\n",
        "    group_by(CODIGO_PRUEBA) %>% \n",
        "    summarise(across(c(result_col, wavelet_cols),\n",
        "                     ~mean(., na.rm = T)))\n",
        "  \n",
        "  std_devs <- data %>% \n",
        "    group_by(CODIGO_PRUEBA) %>% \n",
        "    summarise(across(c(result_col, wavelet_cols),\n",
        "                     ~sd(., na.rm = T)))\n",
        "  \n",
        "  # Normalizar las columnas de resultado y coeficientes wavelet\n",
        "  norm_data <- data %>% \n",
        "  group_by(CODIGO_PRUEBA) %>% \n",
        "  mutate(across(c(result_col, wavelet_cols), scale))\n",
        "  \n",
        "  # Eliminar columnas con NAs\n",
        "  complete_cols <- colnames(norm_data)[apply(norm_data, 2,\n",
        "                                             function(x)\n",
        "                                               !any(is.na(x)))]\n",
        "  norm_data <- norm_data[, complete_cols]\n",
        "  \n",
        "  # Devolver el dataframe escalado y las medias y desviaciones estándar:\n",
        "  \n",
        "  return(list(scaled_data = as.data.frame(norm_data), \n",
        "              means = means, stdev = std_devs))\n",
        "}\n"
      ],
      "metadata": {
        "id": "nLqSx55RwUDM"
      },
      "execution_count": 7,
      "outputs": []
    },
    {
      "cell_type": "code",
      "source": [
        "normalize_test_val <- function(data, means, stds) {\n",
        "  \n",
        "  # Eliminar columnas con NAs\n",
        "  complete_cols <- colnames(data)[apply(data, 2, function(x) !any(is.na(x)))]\n",
        "  data <- data[, complete_cols]\n",
        "  \n",
        "  # Identificar las columnas numéricas: las que empiezan por W y la columna 'RESULTADO'\n",
        "  wavelet_cols <- grep(\"^W\", complete_cols, value = TRUE)\n",
        "  result_col <- \"RESULTADO\"\n",
        "  cols <- c(result_col, wavelet_cols)\n",
        "  \n",
        "  # Normalizar por cada prueba las columnas de resultado y coeficientes wavelet \n",
        "  # usando las medias y desviaciones estándar de train suministradas:\n",
        "  means_sel <- as.data.frame(bind_cols(means[, result_col], means[, wavelet_cols]))\n",
        "  stds_sel <- as.data.frame(bind_cols(stds[, result_col], stds[, wavelet_cols]))\n",
        "  \n",
        "  norm_data <- data %>% \n",
        "    group_by(CODIGO_PRUEBA) %>% \n",
        "    mutate(across(c(result_col, wavelet_cols), \n",
        "                   ~ (. - means_sel[as.character(CODIGO_PRUEBA),\n",
        "                                    cur_column()]) / \n",
        "                    stds_sel[as.character(CODIGO_PRUEBA),\n",
        "                             cur_column()]), .keep = \"unused\") %>%\n",
        "    ungroup()\n",
        "    \n",
        "  return(as.data.frame(norm_data))\n",
        "}"
      ],
      "metadata": {
        "id": "OIa4QAmLn5DF"
      },
      "execution_count": 8,
      "outputs": []
    },
    {
      "cell_type": "code",
      "execution_count": 9,
      "metadata": {
        "id": "Jx8y5h9SSnsg"
      },
      "outputs": [],
      "source": [
        "  # Función para crear un tensor de entrada para una red neuronal LSTM, a partir \n",
        "  # de data (un dataframe con dimensiones (n, p+1), donde n es el número de filas,\n",
        "  # p+1 es el número de predictores p más 1 columna de la variable target) y k \n",
        "  # (longitud de las secuencias temporales que queremos usar para predecir el target).\n",
        "\n",
        "create_lstm_data <- function(data, k) {\n",
        "  \n",
        "  # Convertimos las fechas y horas de TIEMPO_MUESTRA en solo fechas:\n",
        "  data$TIEMPO_MUESTRA <- as.Date(data$TIEMPO_MUESTRA)\n",
        "\n",
        "  # Inicializamos una lista vacía para almacenar las secuencias de cada variable:\n",
        "  x_data_list <- list()\n",
        "  y_data_list <- list()\n",
        "\n",
        "  # Loop que recorre cada fecha única en la columna de fechas del dataset\n",
        "  index <- 1\n",
        "  for (date in unique(data$TIEMPO_MUESTRA)) {\n",
        "    # Seleccionamos los datos correspondientes a la fecha actual\n",
        "    temp_df <- data[data$TIEMPO_MUESTRA == date,]\n",
        "\n",
        "    # Descartamos las observaciones si su número es inferior a k:\n",
        "    if (nrow(temp_df) < k){\n",
        "      warning(\"secuencia < k para la fecha: \", date)\n",
        "      next\n",
        "    } else {\n",
        "      excess <- nrow(temp_df) %% k\n",
        "      if (excess == 0) {\n",
        "        temp_seq <- temp_df\n",
        "      } else {\n",
        "        # Descartamos las primeras observaciones si el número de muestras no es un múltiplo de k\n",
        "        temp_seq <- temp_df[(excess + 1):nrow(temp_df), ]\n",
        "      }\n",
        "      \n",
        "      # Inicializamos un tensor vacío de dimensiones (n, k, p) para almacenar las n secuencias \n",
        "      # de longitud k para cada fecha con los datos de cada variable predictora, \n",
        "      # y un tensor de dimensiones (n, k, 1) para almacenar la variable resultado o target:\n",
        "\n",
        "n <- nrow(temp_seq) - k + 1\n",
        "p <- ncol(temp_seq) - 2\n",
        "\n",
        "x_data <- array(NA, dim = c(n, k, p))\n",
        "y_data <- array(NA, dim = c(n, k, 1))\n",
        "\n",
        "# Sliding window aplicada a x_data e y_data\n",
        "for (i in 2:(ncol(temp_seq) - 1)) {\n",
        "  for (j in 1:n) {\n",
        "    x_data[j,, i-1] <- temp_seq[j:(j+k-1),i]\n",
        "    y_data[j,,] <- temp_seq[j:(j+k-1), ncol(temp_seq)]\n",
        "    }\n",
        "  }      \n",
        "      x_data_list[[index]] <- x_data\n",
        "      y_data_list[[index]] <- y_data\n",
        "      \n",
        "      index <- index + 1\n",
        "  }\n",
        "  \n",
        "  }\n",
        " \n",
        "# Concatenar los elementos de las listas x_data_list e y_data_list\n",
        "x_data_tensor <- do.call(abind, c(x_data_list, along = 1))\n",
        "y_data_tensor <- do.call(abind, c(y_data_list, along = 1))\n",
        "\n",
        "return(list(x_data_tensor, y_data_tensor))\n",
        "}"
      ]
    },
    {
      "cell_type": "markdown",
      "source": [
        "División del dataset en training, val y test:"
      ],
      "metadata": {
        "id": "CgLYbhv9whC2"
      }
    },
    {
      "cell_type": "code",
      "execution_count": 10,
      "metadata": {
        "id": "83NtXb2ht_h3",
        "colab": {
          "base_uri": "https://localhost:8080/",
          "height": 86
        },
        "outputId": "a38b02dc-fb19-45f1-a909-f805b2a55f08"
      },
      "outputs": [
        {
          "output_type": "display_data",
          "data": {
            "text/plain": [
              "             50% \n",
              "\"2022-11-08 UTC\" "
            ]
          },
          "metadata": {}
        },
        {
          "output_type": "display_data",
          "data": {
            "text/plain": [
              "             75% \n",
              "\"2022-12-23 UTC\" "
            ]
          },
          "metadata": {}
        }
      ],
      "source": [
        "# Establecer puntos de corte para training y validation sets:\n",
        "\n",
        "time_point_50 <- as.POSIXct(as.Date(quantile(dataset[,1], 0.5)))\n",
        "\n",
        "time_point_75 <- as.POSIXct(as.Date(quantile(dataset[,1], 0.75)))\n",
        "\n",
        "time_point_50\n",
        "time_point_75"
      ]
    },
    {
      "cell_type": "code",
      "execution_count": 11,
      "metadata": {
        "id": "eZwFzC3RuRoS",
        "colab": {
          "base_uri": "https://localhost:8080/"
        },
        "outputId": "8177f5c3-9328-4148-944f-3652ed51782a"
      },
      "outputs": [
        {
          "output_type": "stream",
          "name": "stderr",
          "text": [
            "Warning message:\n",
            "“\u001b[1m\u001b[22mThere were 2 warnings in `summarise()`.\n",
            "The first warning was:\n",
            "\u001b[1m\u001b[22m\u001b[36mℹ\u001b[39m In argument: `across(c(result_col, wavelet_cols), ~mean(., na.rm = T))`.\n",
            "Caused by warning:\n",
            "\u001b[1m\u001b[22m\u001b[33m!\u001b[39m Using an external vector in selections was deprecated in tidyselect 1.1.0.\n",
            "\u001b[36mℹ\u001b[39m Please use `all_of()` or `any_of()` instead.\n",
            "  # Was:\n",
            "  data %>% select(result_col)\n",
            "\n",
            "  # Now:\n",
            "  data %>% select(all_of(result_col))\n",
            "\n",
            "See <https://tidyselect.r-lib.org/reference/faq-external-vector.html>.\n",
            "\u001b[1m\u001b[22m\u001b[36mℹ\u001b[39m Run `dplyr::last_dplyr_warnings()` to see the 1 remaining warning.”\n"
          ]
        }
      ],
      "source": [
        "# Muestra de entrenamiento:\n",
        "train <- dataset %>%\n",
        "  subset(dataset[,1] <= time_point_50) %>%\n",
        "  # Conversión de strings a factores y codificación con enteros:\n",
        "  factor_cat_var() %>%\n",
        "  # Normalización del dataset y eliminación de coeficientes\n",
        "  # wavelet con valor NA:\n",
        "  normalize_train()\n"
      ]
    },
    {
      "cell_type": "code",
      "source": [
        "# Oversampling del dataset de training de la clase minoritaria\n",
        "\n",
        "up_train <- train$scaled_data\n",
        "# Convertir variable numérica CTRL a factor:\n",
        "up_train$CTRL %<>% as.factor()\n",
        "\n",
        "\"%ni%\" <- Negate(\"%in%\")\n",
        "train_bal <- caret::upSample(\n",
        "  x = up_train[,colnames(up_train) %ni% \"CTRL\"], \n",
        "  y = up_train$CTRL)\n",
        "names(train_bal)[ncol(train_bal)] <- \"CTRL\"\n",
        "\n",
        "# Devolver el factor a variable numérica: \n",
        "\n",
        "train_bal$CTRL %<>% as.numeric()\n",
        "\n",
        "train$scaled_data <- train_bal\n",
        "\n",
        "table(train$scaled_data$CTRL)"
      ],
      "metadata": {
        "id": "_mfYLtiEQ8Mx",
        "outputId": "6d9393c4-383f-4831-9ef2-007e4154e787",
        "colab": {
          "base_uri": "https://localhost:8080/",
          "height": 69
        }
      },
      "execution_count": 12,
      "outputs": [
        {
          "output_type": "display_data",
          "data": {
            "text/plain": [
              "\n",
              "    1     2 \n",
              "53928 53928 "
            ]
          },
          "metadata": {}
        }
      ]
    },
    {
      "cell_type": "code",
      "source": [
        "# Creación de sliding windows de tamaño k con los datos de training:\n",
        "k <- 30\n",
        "train_k <- create_lstm_data(train$scaled_data, k)\n",
        "names(train_k) <- c(\"features\", \"targets\")"
      ],
      "metadata": {
        "id": "wpZHpUfERR-g",
        "outputId": "46e2279b-aeec-4056-ef57-08dfe4a9fba9",
        "colab": {
          "base_uri": "https://localhost:8080/"
        }
      },
      "execution_count": 13,
      "outputs": [
        {
          "output_type": "stream",
          "name": "stderr",
          "text": [
            "Warning message in create_lstm_data(train$scaled_data, k):\n",
            "“secuencia < k para la fecha: 19188”\n",
            "Warning message in create_lstm_data(train$scaled_data, k):\n",
            "“secuencia < k para la fecha: 19232”\n"
          ]
        }
      ]
    },
    {
      "cell_type": "code",
      "source": [
        "# Muestra de validación:\n",
        "val <- dataset %>%\n",
        "  subset(dataset[,1] > time_point_50 &\n",
        "           dataset[,1] <= time_point_75) %>%\n",
        "  # Conversión de strings a factores y codificación con enteros:\n",
        "  factor_cat_var() %>%\n",
        "  # Normalización del dataset y eliminación de coeficientes\n",
        "  # wavelet con valor NA:\n",
        "  normalize_test_val(means = train$means, stds = train$stdev)\n",
        "\n",
        "val_k <- create_lstm_data(val, k)\n",
        "names(val_k) <- c(\"features\", \"targets\")"
      ],
      "metadata": {
        "colab": {
          "base_uri": "https://localhost:8080/"
        },
        "id": "qTFedinkfgJ7",
        "outputId": "461a9ef6-c86d-42d2-ade1-4edecbfdeb8f"
      },
      "execution_count": 14,
      "outputs": [
        {
          "output_type": "stream",
          "name": "stderr",
          "text": [
            "Warning message in create_lstm_data(val, k):\n",
            "“secuencia < k para la fecha: 19322”\n",
            "Warning message in create_lstm_data(val, k):\n",
            "“secuencia < k para la fecha: 19342”\n"
          ]
        }
      ]
    },
    {
      "cell_type": "code",
      "source": [
        "# Muestra de test:\n",
        "\n",
        "test <- dataset %>%\n",
        "  subset(dataset[,1] > time_point_75) %>%\n",
        "  # Conversión de strings a factores y codificación con enteros:\n",
        "  factor_cat_var() %>%\n",
        "  # Normalización del dataset y eliminación de coeficientes\n",
        "  # wavelet con valor NA:\n",
        "  normalize_test_val(means = train$means, stds = train$stdev)\n",
        "\n",
        "test_k <- create_lstm_data(test, k)\n",
        "names(test_k) <- c(\"features\", \"targets\")"
      ],
      "metadata": {
        "id": "cEhSgHHdfhrZ"
      },
      "execution_count": 15,
      "outputs": []
    },
    {
      "cell_type": "code",
      "execution_count": 34,
      "metadata": {
        "id": "eAOcJ4F8faIe"
      },
      "outputs": [],
      "source": [
        "# Dimensión tensor de entrada (train):\n",
        "x_train <- train_k$features\n",
        "n <- dim(x_train)[1]\n",
        "p <- dim(x_train)[3]\n",
        "input_shape <- c(k,p)\n",
        "\n",
        "# Embedding variables categóricas y creación de capas de inputs:\n",
        "cat_sex <- length(levels(as.factor(\n",
        "  train$scaled_data$PACIENTE_SEXO)))\n",
        "cat_age <- length(levels(as.factor(\n",
        "  train$scaled_data$EDAD_BIN)))\n",
        "cat_test <- length(levels(as.factor(\n",
        "  train$scaled_data$CODIGO_PRUEBA)))\n",
        "\n",
        "embedding_size_sex <- as.integer(min(50, cat_sex/2))\n",
        "embedding_size_age <- as.integer(min(50, cat_age/2))\n",
        "embedding_size_test <- as.integer(min(50, cat_test/2))\n",
        "sum_embeddings <- sum(embedding_size_age + embedding_size_sex +\n",
        "                        embedding_size_test)\n",
        "# Input layers:\n",
        "inp1 <- layer_input(batch_shape = c(512,k, 1),\n",
        "                    name = \"inp_sex\")\n",
        "inp2 <- layer_input(batch_shape = c(512,k, 1),\n",
        "                    name = \"inp_age\")\n",
        "inp3 <- layer_input(batch_shape = c(512, k, p-6),\n",
        "                    name = \"inp_otherVars\")\n",
        "inp4 <- layer_input(batch_shape = c(512, k, 1),\n",
        "                    name = \"inp_test\")\n",
        "# Embedding layers:\n",
        "embedding_out1 <- inp1 %>%\n",
        "  layer_embedding(input_dim = cat_sex + 1,\n",
        "                  output_dim = embedding_size_sex,\n",
        "                  input_length = k, name=\"embedding_sex\")\n",
        "\n",
        "embedding_out2 <- inp2 %>%\n",
        "  layer_embedding(input_dim = cat_age + 1, \n",
        "                  output_dim = embedding_size_age,\n",
        "                  input_length = k, name=\"embedding_age\")\n",
        "\n",
        "embedding_out4 <- inp4 %>%\n",
        "  layer_embedding(input_dim = cat_test + 1,\n",
        "                  output_dim = embedding_size_test,\n",
        "                  input_length = k, name=\"embedding_test\")\n",
        "\n",
        "# Ajustar la forma de la capa de entrada numérica inp3:\n",
        "inp3_reshape <- inp3 %>% \n",
        "  layer_reshape(target_shape = c(NULL, k, 1, p-6))"
      ]
    },
    {
      "cell_type": "code",
      "execution_count": 35,
      "metadata": {
        "id": "MaMmjDpDfbzE"
      },
      "outputs": [],
      "source": [
        "# Definir la capa de concatenación\n",
        "concat_layer <- layer_concatenate(list(embedding_out1, embedding_out2, inp3_reshape, embedding_out4)) %>%\n",
        "  layer_reshape(target_shape = c(NULL, k, p - 6 + sum_embeddings))\n",
        "\n",
        "# Definir la capa LSTM:\n",
        "lstm_layer <- concat_layer %>%\n",
        "  layer_lstm(units = 32, dropout = 0.4, return_sequences = T, stateful = T, name = \"lstm_layer_1\") %>%\n",
        "  layer_lstm(units = 32, dropout = 0.3, return_sequences = T, stateful = T, name = \"lstm_layer_2\") %>%\n",
        "  layer_lstm(units = 32, dropout = 0.2, return_sequences = T, stateful= T, name = \"lstm_layer_3\") %>%\n",
        "  layer_lstm(units = 32, dropout = 0.1, name = \"lstm_layer_4\")\n",
        "  \n",
        "# Output layer:\n",
        "output_layer <- lstm_layer %>%\n",
        "  layer_dense(units = 1, activation = \"sigmoid\", name = \"output_layer\")"
      ]
    },
    {
      "cell_type": "code",
      "execution_count": 21,
      "metadata": {
        "id": "Qpumk6DQKTcZ"
      },
      "outputs": [],
      "source": [
        "# Función para calcular F1 como métrica para el modelo:\n",
        "  f1_score <- function(y_true, y_pred) {\n",
        "  true_positives <- sum(backend()$round(backend()$clip(y_true * y_pred, 0, 1)))\n",
        "  possible_positives <- sum(backend()$round(backend()$clip(y_true, 0, 1)))\n",
        "  predicted_positives <- sum(backend()$round(backend()$clip(y_pred, 0, 1)))\n",
        "  precision <- true_positives / (predicted_positives + backend()$epsilon())\n",
        "  recall <- true_positives / (possible_positives + backend()$epsilon())\n",
        "  f1_score <- 2 * precision * recall / (precision + recall + backend()$epsilon())\n",
        "  return(f1_score)\n",
        "}"
      ]
    },
    {
      "cell_type": "code",
      "source": [
        "# Crear modelo\n",
        "model <- keras_model(inputs = list(inp1, inp2, inp3, inp4),\n",
        "                     outputs = output_layer)\n",
        "\n",
        "summary(model)\n",
        "\n",
        "# Compilar el modelo:\n",
        "comp_model <- model %>% compile(optimizer = optimizer_adam(learning_rate = 0.00001),\n",
        "                  loss = \"binary_crossentropy\",\n",
        "                  metrics = list(\"binary_accuracy\", f1_score)) \n",
        "\n",
        "\n",
        "# Definir callbacks para guardar el mejor modelo:\n",
        "callbacks <- list(\n",
        "  callback_model_checkpoint(file.path(resultsdir, \"lstm_1.keras\",\n",
        "                                     save_best_only = TRUE)))"
      ],
      "metadata": {
        "colab": {
          "base_uri": "https://localhost:8080/"
        },
        "id": "c3xH6Z3SiqcJ",
        "outputId": "22a72e95-bf26-4d4b-e1bf-22f70f77e092"
      },
      "execution_count": 36,
      "outputs": [
        {
          "output_type": "stream",
          "name": "stdout",
          "text": [
            "Model: \"model_3\"\n",
            "________________________________________________________________________________\n",
            " Layer (type)             Output Shape      Param #  Connected to               \n",
            "================================================================================\n",
            " inp_sex (InputLayer)     [(512, 30, 1)]    0        []                         \n",
            " inp_age (InputLayer)     [(512, 30, 1)]    0        []                         \n",
            " inp_otherVars (InputLaye  [(512, 30, 1)]   0        []                         \n",
            " r)                                                                             \n",
            " inp_test (InputLayer)    [(512, 30, 1)]    0        []                         \n",
            " embedding_sex (Embedding  (512, 30, 1, 1)  4        ['inp_sex[0][0]']          \n",
            " )                                                                              \n",
            " embedding_age (Embedding  (512, 30, 1, 2)  12       ['inp_age[0][0]']          \n",
            " )                                                                              \n",
            " reshape_6 (Reshape)      (512, 30, 1, 1)   0        ['inp_otherVars[0][0]']    \n",
            " embedding_test (Embeddin  (512, 30, 1, 13)  364     ['inp_test[0][0]']         \n",
            " g)                                                                             \n",
            " concatenate_4 (Concatena  (512, 30, 1, 17)  0       ['embedding_sex[0][0]',    \n",
            " te)                                                  'embedding_age[0][0]',    \n",
            "                                                      'reshape_6[0][0]',        \n",
            "                                                      'embedding_test[0][0]']   \n",
            " reshape_7 (Reshape)      (512, 30, 17)     0        ['concatenate_4[0][0]']    \n",
            " lstm_layer_1 (LSTM)      (512, 30, 32)     6400     ['reshape_7[0][0]']        \n",
            " lstm_layer_2 (LSTM)      (512, 30, 32)     8320     ['lstm_layer_1[0][0]']     \n",
            " lstm_layer_3 (LSTM)      (512, 30, 32)     8320     ['lstm_layer_2[0][0]']     \n",
            " lstm_layer_4 (LSTM)      (512, 32)         8320     ['lstm_layer_3[0][0]']     \n",
            " output_layer (Dense)     (512, 1)          33       ['lstm_layer_4[0][0]']     \n",
            "================================================================================\n",
            "Total params: 31,773\n",
            "Trainable params: 31,773\n",
            "Non-trainable params: 0\n",
            "________________________________________________________________________________\n"
          ]
        }
      ]
    },
    {
      "cell_type": "code",
      "source": [
        "# Preparar datasets de entrada:\n",
        "\n",
        "x_train <- list(train_k$features[,,1],\n",
        "                train_k$features[,,2],\n",
        "                train_k$features[,,3],\n",
        "                train_k$features[,,7])\n",
        "                \n",
        "y_train <- train_k$targets %>%\n",
        "  apply(., 1, function(x) x[1])\n",
        "\n",
        "x_val <- list(val_k$features[,,1],\n",
        "              val_k$features[,,2],\n",
        "              val_k$features[,,3],\n",
        "              val_k$features[,,10])\n",
        "y_val <- val_k$targets %>% \n",
        "  apply(., 1, function(x) x[1])"
      ],
      "metadata": {
        "id": "cfcPLr_zisli"
      },
      "execution_count": 19,
      "outputs": []
    },
    {
      "cell_type": "code",
      "source": [
        "# Entrenar el modelo:\n",
        "history_k30_os_batch512_lr0.00001_lstm4x32stf_ronly <- comp_model %>%\n",
        "  fit(x = x_train, y = y_train,\n",
        "      epochs = 20, batch_size = 512, shuffle = F,\n",
        "      validation_data = list(x_val, y_val),\n",
        "      callbacks = callbacks)\n"
      ],
      "metadata": {
        "id": "bI_xxLhHi2lx",
        "outputId": "485e4aa9-1b2f-417c-f9a7-7d7c11064993",
        "colab": {
          "base_uri": "https://localhost:8080/",
          "height": 772
        }
      },
      "execution_count": 37,
      "outputs": [
        {
          "output_type": "error",
          "ename": "ERROR",
          "evalue": "ignored",
          "traceback": [
            "Error in eval(expr, envir, enclos): ValueError: in user code:\n<... omitted ...>engine/training.py\", line 1268, in step_function  **\n        outputs = model.distribute_strategy.run(run_step, args=(data,))\n    File \"/usr/local/lib/python3.10/dist-packages/keras/engine/training.py\", line 1249, in run_step  **\n        outputs = model.train_step(data)\n    File \"/usr/local/lib/python3.10/dist-packages/keras/engine/training.py\", line 1050, in train_step\n        y_pred = self(x, training=True)\n    File \"/usr/local/lib/python3.10/dist-packages/keras/utils/traceback_utils.py\", line 70, in error_handler\n        raise e.with_traceback(filtered_tb) from None\n    File \"/usr/local/lib/python3.10/dist-packages/keras/engine/input_spec.py\", line 219, in assert_input_compatibility\n        raise ValueError(\n\n    ValueError: Layer \"model_3\" expects 4 input(s), but it received 1 input tensors. Inputs received: [<tf.Tensor 'IteratorGetNext:0' shape=(None, 30, 7) dtype=float32>]\n\nSee `reticulate::py_last_error()` for details\nTraceback:\n",
            "1. comp_model %>% fit(x = x_train, y = y_train, epochs = 20, batch_size = 512, \n .     shuffle = F, validation_data = list(x_val, y_val), callbacks = callbacks)",
            "2. fit(., x = x_train, y = y_train, epochs = 20, batch_size = 512, \n .     shuffle = F, validation_data = list(x_val, y_val), callbacks = callbacks)",
            "3. fit.keras.engine.training.Model(., x = x_train, y = y_train, \n .     epochs = 20, batch_size = 512, shuffle = F, validation_data = list(x_val, \n .         y_val), callbacks = callbacks)",
            "4. do.call(object$fit, args)",
            "5. (structure(function (...) \n . {\n .     dots <- py_resolve_dots(list(...))\n .     result <- py_call_impl(callable, dots$args, dots$keywords)\n .     if (convert) \n .         result <- py_to_r(result)\n .     if (is.null(result)) \n .         invisible(result)\n .     else result\n . }, class = c(\"python.builtin.method\", \"python.builtin.object\"\n . ), py_object = <environment>))(batch_size = 512L, epochs = 20L, \n .     verbose = \"auto\", validation_split = 0, shuffle = FALSE, \n .     class_weight = NULL, sample_weight = NULL, initial_epoch = 0L, \n .     x = <environment>, y = <environment>, validation_data = <environment>, \n .     callbacks = list(<environment>, <environment>))",
            "6. py_call_impl(callable, dots$args, dots$keywords)"
          ]
        }
      ]
    },
    {
      "cell_type": "code",
      "source": [
        "plot(history_k30_os_batch512_lr0.00001_lstm1x5121x2561x1281x32_ronly)"
      ],
      "metadata": {
        "colab": {
          "base_uri": "https://localhost:8080/",
          "height": 437
        },
        "id": "7g6glA6-poUO",
        "outputId": "40b4d424-d765-4111-9733-8254a70e58b7"
      },
      "execution_count": 28,
      "outputs": [
        {
          "output_type": "display_data",
          "data": {
            "text/plain": [
              "plot without title"
            ],
            "image/png": "[encoded data removed]"
          },
          "metadata": {
            "image/png": {
              "width": 420,
              "height": 420
            }
          }
        }
      ]
    },
    {
      "cell_type": "code",
      "source": [
        "col_select"
      ],
      "metadata": {
        "colab": {
          "base_uri": "https://localhost:8080/",
          "height": 34
        },
        "id": "czJ7Br8AzL30",
        "outputId": "d75743cf-c808-4d97-df7d-c316d756a4db"
      },
      "execution_count": null,
      "outputs": [
        {
          "output_type": "display_data",
          "data": {
            "text/html": [
              "<style>\n",
              ".list-inline {list-style: none; margin:0; padding: 0}\n",
              ".list-inline>li {display: inline-block}\n",
              ".list-inline>li:not(:last-child)::after {content: \"\\00b7\"; padding: 0 .5ex}\n",
              "</style>\n",
              "<ol class=list-inline><li>'scaled_data'</li><li>'means'</li><li>'stdev'</li></ol>\n"
            ],
            "text/markdown": "1. 'scaled_data'\n2. 'means'\n3. 'stdev'\n\n\n",
            "text/latex": "\\begin{enumerate*}\n\\item 'scaled\\_data'\n\\item 'means'\n\\item 'stdev'\n\\end{enumerate*}\n",
            "text/plain": [
              "[1] \"scaled_data\" \"means\"       \"stdev\"      "
            ]
          },
          "metadata": {}
        }
      ]
    }
  ],
  "metadata": {
    "colab": {
      "provenance": [],
      "gpuType": "T4",
      "authorship_tag": "ABX9TyOzlDd7Hz7gjN3JWcJZo6fi",
      "include_colab_link": true
    },
    "gpuClass": "standard",
    "kernelspec": {
      "display_name": "R",
      "name": "ir"
    },
    "language_info": {
      "name": "R"
    },
    "accelerator": "GPU"
  },
  "nbformat": 4,
  "nbformat_minor": 0
}
