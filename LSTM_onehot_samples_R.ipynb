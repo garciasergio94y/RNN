{
  "cells": [
    {
      "cell_type": "markdown",
      "metadata": {
        "id": "view-in-github",
        "colab_type": "text"
      },
      "source": [
        "<a href=\"https://colab.research.google.com/github/garciasergio94y/RNN/blob/LSTM_onehot_samples/LSTM_onehot_samples_R.ipynb\" target=\"_parent\"><img src=\"https://colab.research.google.com/assets/colab-badge.svg\" alt=\"Open In Colab\"/></a>"
      ]
    },
    {
      "cell_type": "code",
      "execution_count": 1,
      "metadata": {
        "id": "fcKncLefo322",
        "colab": {
          "base_uri": "https://localhost:8080/",
          "height": 1000
        },
        "outputId": "53e77c90-d833-4fce-f0d2-becdbba9120d"
      },
      "outputs": [
        {
          "output_type": "stream",
          "name": "stderr",
          "text": [
            "Loading required package: readxl\n",
            "\n",
            "Loading required package: purrr\n",
            "\n",
            "Loading required package: dplyr\n",
            "\n",
            "\n",
            "Attaching package: ‘dplyr’\n",
            "\n",
            "\n",
            "The following objects are masked from ‘package:stats’:\n",
            "\n",
            "    filter, lag\n",
            "\n",
            "\n",
            "The following objects are masked from ‘package:base’:\n",
            "\n",
            "    intersect, setdiff, setequal, union\n",
            "\n",
            "\n",
            "Loading required package: filesstrings\n",
            "\n",
            "Warning message in library(package, lib.loc = lib.loc, character.only = TRUE, logical.return = TRUE, :\n",
            "“there is no package called ‘filesstrings’”\n",
            "Installing package into ‘/usr/local/lib/R/site-library’\n",
            "(as ‘lib’ is unspecified)\n",
            "\n",
            "also installing the dependencies ‘checkmate’, ‘strex’\n",
            "\n",
            "\n",
            "Loading required package: stringr\n",
            "\n",
            "Loading required package: tidyr\n",
            "\n",
            "Loading required package: lubridate\n",
            "\n",
            "\n",
            "Attaching package: ‘lubridate’\n",
            "\n",
            "\n",
            "The following objects are masked from ‘package:base’:\n",
            "\n",
            "    date, intersect, setdiff, union\n",
            "\n",
            "\n",
            "Loading required package: ggplot2\n",
            "\n",
            "Loading required package: tictoc\n",
            "\n",
            "Warning message in library(package, lib.loc = lib.loc, character.only = TRUE, logical.return = TRUE, :\n",
            "“there is no package called ‘tictoc’”\n",
            "Installing package into ‘/usr/local/lib/R/site-library’\n",
            "(as ‘lib’ is unspecified)\n",
            "\n",
            "Loading required package: wavelets\n",
            "\n",
            "Warning message in library(package, lib.loc = lib.loc, character.only = TRUE, logical.return = TRUE, :\n",
            "“there is no package called ‘wavelets’”\n",
            "Installing package into ‘/usr/local/lib/R/site-library’\n",
            "(as ‘lib’ is unspecified)\n",
            "\n",
            "Loading required package: reticulate\n",
            "\n",
            "Warning message in library(package, lib.loc = lib.loc, character.only = TRUE, logical.return = TRUE, :\n",
            "“there is no package called ‘reticulate’”\n",
            "Installing package into ‘/usr/local/lib/R/site-library’\n",
            "(as ‘lib’ is unspecified)\n",
            "\n",
            "also installing the dependencies ‘Rcpp’, ‘RcppTOML’, ‘here’, ‘png’\n",
            "\n",
            "\n",
            "Loading required package: abind\n",
            "\n",
            "Warning message in library(package, lib.loc = lib.loc, character.only = TRUE, logical.return = TRUE, :\n",
            "“there is no package called ‘abind’”\n",
            "Installing package into ‘/usr/local/lib/R/site-library’\n",
            "(as ‘lib’ is unspecified)\n",
            "\n",
            "Loading required package: tensorflow\n",
            "\n",
            "Warning message in library(package, lib.loc = lib.loc, character.only = TRUE, logical.return = TRUE, :\n",
            "“there is no package called ‘tensorflow’”\n",
            "Installing package into ‘/usr/local/lib/R/site-library’\n",
            "(as ‘lib’ is unspecified)\n",
            "\n",
            "also installing the dependencies ‘config’, ‘tfruns’, ‘tfautograph’\n",
            "\n",
            "\n",
            "Loading required package: tfdatasets\n",
            "\n",
            "Warning message in library(package, lib.loc = lib.loc, character.only = TRUE, logical.return = TRUE, :\n",
            "“there is no package called ‘tfdatasets’”\n",
            "Installing package into ‘/usr/local/lib/R/site-library’\n",
            "(as ‘lib’ is unspecified)\n",
            "\n",
            "Loading required package: keras\n",
            "\n",
            "Warning message in library(package, lib.loc = lib.loc, character.only = TRUE, logical.return = TRUE, :\n",
            "“there is no package called ‘keras’”\n",
            "Installing package into ‘/usr/local/lib/R/site-library’\n",
            "(as ‘lib’ is unspecified)\n",
            "\n",
            "also installing the dependency ‘zeallot’\n",
            "\n",
            "\n"
          ]
        },
        {
          "output_type": "display_data",
          "data": {
            "text/html": [
              "<ol>\n",
              "\t<li>NULL</li>\n",
              "\t<li>NULL</li>\n",
              "\t<li>NULL</li>\n",
              "\t<li>NULL</li>\n",
              "\t<li>NULL</li>\n",
              "\t<li>NULL</li>\n",
              "\t<li>NULL</li>\n",
              "\t<li>NULL</li>\n",
              "\t<li>NULL</li>\n",
              "\t<li>NULL</li>\n",
              "\t<li>NULL</li>\n",
              "\t<li>NULL</li>\n",
              "\t<li>NULL</li>\n",
              "\t<li>NULL</li>\n",
              "\t<li>NULL</li>\n",
              "</ol>\n"
            ],
            "text/markdown": "1. NULL\n2. NULL\n3. NULL\n4. NULL\n5. NULL\n6. NULL\n7. NULL\n8. NULL\n9. NULL\n10. NULL\n11. NULL\n12. NULL\n13. NULL\n14. NULL\n15. NULL\n\n\n",
            "text/latex": "\\begin{enumerate}\n\\item NULL\n\\item NULL\n\\item NULL\n\\item NULL\n\\item NULL\n\\item NULL\n\\item NULL\n\\item NULL\n\\item NULL\n\\item NULL\n\\item NULL\n\\item NULL\n\\item NULL\n\\item NULL\n\\item NULL\n\\end{enumerate}\n",
            "text/plain": [
              "[[1]]\n",
              "NULL\n",
              "\n",
              "[[2]]\n",
              "NULL\n",
              "\n",
              "[[3]]\n",
              "NULL\n",
              "\n",
              "[[4]]\n",
              "NULL\n",
              "\n",
              "[[5]]\n",
              "NULL\n",
              "\n",
              "[[6]]\n",
              "NULL\n",
              "\n",
              "[[7]]\n",
              "NULL\n",
              "\n",
              "[[8]]\n",
              "NULL\n",
              "\n",
              "[[9]]\n",
              "NULL\n",
              "\n",
              "[[10]]\n",
              "NULL\n",
              "\n",
              "[[11]]\n",
              "NULL\n",
              "\n",
              "[[12]]\n",
              "NULL\n",
              "\n",
              "[[13]]\n",
              "NULL\n",
              "\n",
              "[[14]]\n",
              "NULL\n",
              "\n",
              "[[15]]\n",
              "NULL\n"
            ]
          },
          "metadata": {}
        },
        {
          "output_type": "stream",
          "name": "stderr",
          "text": [
            "Downloading GitHub repo henry090/tfaddons@HEAD\n",
            "\n"
          ]
        },
        {
          "output_type": "stream",
          "name": "stdout",
          "text": [
            "whisker  (0.4   -> 0.4.1) [CRAN]\n",
            "jsonlite (1.8.3 -> 1.8.5) [CRAN]\n"
          ]
        },
        {
          "output_type": "stream",
          "name": "stderr",
          "text": [
            "Installing 2 packages: whisker, jsonlite\n",
            "\n",
            "Installing packages into ‘/usr/local/lib/R/site-library’\n",
            "(as ‘lib’ is unspecified)\n",
            "\n"
          ]
        },
        {
          "output_type": "stream",
          "name": "stdout",
          "text": [
            "\u001b[36m──\u001b[39m \u001b[36mR CMD build\u001b[39m \u001b[36m─────────────────────────────────────────────────────────────────\u001b[39m\n",
            "* checking for file ‘/tmp/Rtmpcei0hX/remotes16f445f02a4/EagerAI-tfaddons-640e4c2/DESCRIPTION’ ... OK\n",
            "* preparing ‘tfaddons’:\n",
            "* checking DESCRIPTION meta-information ... OK\n",
            "* checking for LF line-endings in source and make files and shell scripts\n",
            "* checking for empty or unneeded directories\n",
            "Omitted ‘LazyData’ from DESCRIPTION\n",
            "* building ‘tfaddons_0.10.3.tar.gz’\n",
            "\n"
          ]
        },
        {
          "output_type": "stream",
          "name": "stderr",
          "text": [
            "Installing package into ‘/usr/local/lib/R/site-library’\n",
            "(as ‘lib’ is unspecified)\n",
            "\n",
            "Loading required package: filesstrings\n",
            "\n",
            "\n",
            "Attaching package: ‘filesstrings’\n",
            "\n",
            "\n",
            "The following object is masked from ‘package:dplyr’:\n",
            "\n",
            "    all_equal\n",
            "\n",
            "\n",
            "Loading required package: wavelets\n",
            "\n",
            "Loading required package: tictoc\n",
            "\n",
            "Loading required package: reticulate\n",
            "\n",
            "Loading required package: abind\n",
            "\n",
            "Loading required package: tensorflow\n",
            "\n",
            "Loading required package: tfaddons\n",
            "\n",
            "Loading required package: tfdatasets\n",
            "\n",
            "Loading required package: keras\n",
            "\n",
            "\n",
            "Attaching package: ‘keras’\n",
            "\n",
            "\n",
            "The following objects are masked from ‘package:tfaddons’:\n",
            "\n",
            "    activation_gelu, layer_multi_head_attention\n",
            "\n",
            "\n"
          ]
        }
      ],
      "source": [
        "# Instalación y carga de librerías:\n",
        "\n",
        "packages <- c(\"readxl\", \"purrr\", \"dplyr\", \"filesstrings\",\n",
        "              \"stringr\", \"tidyr\", \"lubridate\", \"ggplot2\",\n",
        "              \"tictoc\", \"wavelets\", \"reticulate\", \"abind\",\n",
        "              \"tensorflow\", \"tfdatasets\", \"keras\")\n",
        "\n",
        "# Función para instalar paquetes si no están ya instalados\n",
        "install_packages <- function(package) {\n",
        "  if (!require(package, character.only = TRUE)) {\n",
        "    install.packages(package)\n",
        "    }\n",
        "}\n",
        "\n",
        "# Aplicar la función para cada uno de los paquetes\n",
        "lapply(packages, install_packages)\n",
        "\n",
        "devtools::install_github('henry090/tfaddons')\n",
        "tfaddons::install_tfaddons()\n",
        "\n",
        "require(readxl)\n",
        "require(purrr)\n",
        "require(dplyr)\n",
        "require(filesstrings)\n",
        "require(stringr)\n",
        "require(tidyr)\n",
        "require(lubridate)\n",
        "require(ggplot2)\n",
        "#require(caret)\n",
        "require(wavelets)\n",
        "require(tictoc)\n",
        "require(reticulate)\n",
        "require(abind)\n",
        "require(tensorflow)\n",
        "require(tfaddons)\n",
        "require(tfdatasets)\n",
        "require(keras)\n"
      ]
    },
    {
      "cell_type": "code",
      "source": [
        "workingdir <- getwd()\n",
        "datadir <- file.path(workingdir, \"Datos/daily_s\")\n",
        "eventdir <- file.path(workingdir, \"Datos/daily_s/Event\")\n",
        "eventdir_old <- file.path(workingdir, \"Datos/daily_s/Event/old\")\n",
        "lotdir <- file.path(workingdir, \"Datos/daily_s/Lot\")\n",
        "lotdir_old <- file.path(workingdir, \"Datos/daily_s/Lot/old\")\n",
        "qcdir <- file.path(workingdir, \"Datos/daily_s/qc\")\n",
        "qcdir_old <- file.path(workingdir, \"Datos/daily_s/qc/old\")\n",
        "resultsdir <- file.path(workingdir, \"Resultados\")\n",
        "figuresdir <- file.path(workingdir, \"Resultados/Figuras\")"
      ],
      "metadata": {
        "id": "CmX65urDjO83"
      },
      "execution_count": 2,
      "outputs": []
    },
    {
      "cell_type": "code",
      "execution_count": 3,
      "metadata": {
        "id": "XM3iSvsm8ZNO",
        "colab": {
          "base_uri": "https://localhost:8080/",
          "height": 69
        },
        "outputId": "30cc360b-f701-4732-b37f-d33253030a8a"
      },
      "outputs": [
        {
          "output_type": "stream",
          "name": "stdout",
          "text": [
            "TensorFlow built with CUDA:  TRUE \n",
            "GPU device name:  /device:GPU:0"
          ]
        },
        {
          "output_type": "display_data",
          "data": {
            "text/html": [
              "TRUE"
            ],
            "text/markdown": "TRUE",
            "text/latex": "TRUE",
            "text/plain": [
              "[1] TRUE"
            ]
          },
          "metadata": {}
        }
      ],
      "source": [
        "tensorflow::tf_gpu_configured()"
      ]
    },
    {
      "cell_type": "markdown",
      "source": [
        "Lectura de archivos de datos"
      ],
      "metadata": {
        "id": "iGT314P3vtdx"
      }
    },
    {
      "cell_type": "code",
      "execution_count": 4,
      "metadata": {
        "id": "8EhDKsGXewWe"
      },
      "outputs": [],
      "source": [
        "# Leer archivo dataset desde Github:\n",
        "url <- \"https://raw.githubusercontent.com/garciasergio94y/RNN/4015e9d2b6ad64e8c2520a64c0f571c38bed0b7d/Resultados/data_sel_tr\"\n",
        "data_sel_tr <- read.csv(url)\n",
        "\n",
        "# Guardar una copia local:\n",
        "# write.csv(data_sel_tr, file = \"data_sel_tr\", row.names = F, col.names = F) \n"
      ]
    },
    {
      "cell_type": "code",
      "execution_count": 5,
      "metadata": {
        "id": "ABzL8R-64mKf",
        "colab": {
          "base_uri": "https://localhost:8080/",
          "height": 410
        },
        "outputId": "60735f06-b674-4024-d7b9-5641161bc303"
      },
      "outputs": [
        {
          "output_type": "display_data",
          "data": {
            "text/html": [
              "<table class=\"dataframe\">\n",
              "<caption>A data.frame: 6 × 24</caption>\n",
              "<thead>\n",
              "\t<tr><th></th><th scope=col>TIEMPO_MUESTRA</th><th scope=col>RESULTADO</th><th scope=col>W1</th><th scope=col>W2</th><th scope=col>W3</th><th scope=col>W4</th><th scope=col>W5</th><th scope=col>W6</th><th scope=col>W7</th><th scope=col>W8</th><th scope=col>⋯</th><th scope=col>V5</th><th scope=col>V6</th><th scope=col>V7</th><th scope=col>V8</th><th scope=col>PACIENTE_SEXO</th><th scope=col>EDAD_BIN</th><th scope=col>ANALIZADOR</th><th scope=col>CODIGO_PRUEBA</th><th scope=col>NOMBRE_PRUEBA.x</th><th scope=col>CTRL</th></tr>\n",
              "\t<tr><th></th><th scope=col>&lt;dttm&gt;</th><th scope=col>&lt;dbl&gt;</th><th scope=col>&lt;dbl&gt;</th><th scope=col>&lt;dbl&gt;</th><th scope=col>&lt;dbl&gt;</th><th scope=col>&lt;dbl&gt;</th><th scope=col>&lt;dbl&gt;</th><th scope=col>&lt;dbl&gt;</th><th scope=col>&lt;dbl&gt;</th><th scope=col>&lt;dbl&gt;</th><th scope=col>⋯</th><th scope=col>&lt;dbl&gt;</th><th scope=col>&lt;dbl&gt;</th><th scope=col>&lt;dbl&gt;</th><th scope=col>&lt;dbl&gt;</th><th scope=col>&lt;chr&gt;</th><th scope=col>&lt;chr&gt;</th><th scope=col>&lt;chr&gt;</th><th scope=col>&lt;chr&gt;</th><th scope=col>&lt;chr&gt;</th><th scope=col>&lt;int&gt;</th></tr>\n",
              "</thead>\n",
              "<tbody>\n",
              "\t<tr><th scope=row>1</th><td>2022-02-28 23:20:02</td><td>  4.200</td><td> -3.5615786</td><td> 7.256192</td><td>-1.48703841</td><td>        NA</td><td>       NA</td><td>        NA</td><td>       NA</td><td>NA</td><td>⋯</td><td>        NA</td><td>        NA</td><td>      NA</td><td>NA</td><td>M</td><td>Adulto </td><td>DXI800 num 2</td><td>CLC00544</td><td>Creatina quinasa MB (masa)</td><td>0</td></tr>\n",
              "\t<tr><th scope=row>2</th><td>2022-02-28 22:02:47</td><td>  9.800</td><td>  2.2805652</td><td> 1.332555</td><td>-1.43465727</td><td>        NA</td><td>       NA</td><td>        NA</td><td>       NA</td><td>NA</td><td>⋯</td><td>        NA</td><td>        NA</td><td>      NA</td><td>NA</td><td>F</td><td>Anciano</td><td>DXI800 num 2</td><td>CLC00544</td><td>Creatina quinasa MB (masa)</td><td>0</td></tr>\n",
              "\t<tr><th scope=row>3</th><td>2022-02-28 22:35:48</td><td>  4.300</td><td>  7.0986609</td><td>-4.108060</td><td>-1.39786129</td><td>        NA</td><td>       NA</td><td>        NA</td><td>       NA</td><td>NA</td><td>⋯</td><td>        NA</td><td>        NA</td><td>      NA</td><td>NA</td><td>M</td><td>Adulto </td><td>DXI800 num 2</td><td>CLC00544</td><td>Creatina quinasa MB (masa)</td><td>0</td></tr>\n",
              "\t<tr><th scope=row>4</th><td>2022-02-28 20:53:57</td><td>  0.042</td><td>  0.8285582</td><td>-1.567219</td><td>-0.09554851</td><td>-12.806090</td><td>-3.136542</td><td>-3.8431761</td><td>0.1227499</td><td>NA</td><td>⋯</td><td>  3.779275</td><td>  2.740326</td><td>1.801031</td><td>NA</td><td>M</td><td>Anciano</td><td>DXI800 num 2</td><td>CLC00638</td><td>Procalcitonina            </td><td>0</td></tr>\n",
              "\t<tr><th scope=row>5</th><td>2022-02-28 08:35:20</td><td>  7.100</td><td> 11.7137247</td><td> 4.220284</td><td>-1.88029062</td><td> -8.558415</td><td>-3.931813</td><td>-0.8030452</td><td>       NA</td><td>NA</td><td>⋯</td><td> 28.145486</td><td> 25.473809</td><td>      NA</td><td>NA</td><td>M</td><td>Adulto </td><td>DXI800 num 1</td><td>CLC00807</td><td>Vitamina D (25 OH)        </td><td>0</td></tr>\n",
              "\t<tr><th scope=row>6</th><td>2022-02-28 14:19:26</td><td>237.000</td><td>118.5453826</td><td>-7.087632</td><td>81.99015157</td><td> 74.434099</td><td>-5.675594</td><td>13.3709939</td><td>       NA</td><td>NA</td><td>⋯</td><td>349.937302</td><td>315.608966</td><td>      NA</td><td>NA</td><td>F</td><td>Anciano</td><td>DXI800 num 1</td><td>CLC00805</td><td>Vitamina B12              </td><td>0</td></tr>\n",
              "</tbody>\n",
              "</table>\n"
            ],
            "text/markdown": "\nA data.frame: 6 × 24\n\n| <!--/--> | TIEMPO_MUESTRA &lt;dttm&gt; | RESULTADO &lt;dbl&gt; | W1 &lt;dbl&gt; | W2 &lt;dbl&gt; | W3 &lt;dbl&gt; | W4 &lt;dbl&gt; | W5 &lt;dbl&gt; | W6 &lt;dbl&gt; | W7 &lt;dbl&gt; | W8 &lt;dbl&gt; | ⋯ ⋯ | V5 &lt;dbl&gt; | V6 &lt;dbl&gt; | V7 &lt;dbl&gt; | V8 &lt;dbl&gt; | PACIENTE_SEXO &lt;chr&gt; | EDAD_BIN &lt;chr&gt; | ANALIZADOR &lt;chr&gt; | CODIGO_PRUEBA &lt;chr&gt; | NOMBRE_PRUEBA.x &lt;chr&gt; | CTRL &lt;int&gt; |\n|---|---|---|---|---|---|---|---|---|---|---|---|---|---|---|---|---|---|---|---|---|---|\n| 1 | 2022-02-28 23:20:02 |   4.200 |  -3.5615786 |  7.256192 | -1.48703841 |         NA |        NA |         NA |        NA | NA | ⋯ |         NA |         NA |       NA | NA | M | Adulto  | DXI800 num 2 | CLC00544 | Creatina quinasa MB (masa) | 0 |\n| 2 | 2022-02-28 22:02:47 |   9.800 |   2.2805652 |  1.332555 | -1.43465727 |         NA |        NA |         NA |        NA | NA | ⋯ |         NA |         NA |       NA | NA | F | Anciano | DXI800 num 2 | CLC00544 | Creatina quinasa MB (masa) | 0 |\n| 3 | 2022-02-28 22:35:48 |   4.300 |   7.0986609 | -4.108060 | -1.39786129 |         NA |        NA |         NA |        NA | NA | ⋯ |         NA |         NA |       NA | NA | M | Adulto  | DXI800 num 2 | CLC00544 | Creatina quinasa MB (masa) | 0 |\n| 4 | 2022-02-28 20:53:57 |   0.042 |   0.8285582 | -1.567219 | -0.09554851 | -12.806090 | -3.136542 | -3.8431761 | 0.1227499 | NA | ⋯ |   3.779275 |   2.740326 | 1.801031 | NA | M | Anciano | DXI800 num 2 | CLC00638 | Procalcitonina             | 0 |\n| 5 | 2022-02-28 08:35:20 |   7.100 |  11.7137247 |  4.220284 | -1.88029062 |  -8.558415 | -3.931813 | -0.8030452 |        NA | NA | ⋯ |  28.145486 |  25.473809 |       NA | NA | M | Adulto  | DXI800 num 1 | CLC00807 | Vitamina D (25 OH)         | 0 |\n| 6 | 2022-02-28 14:19:26 | 237.000 | 118.5453826 | -7.087632 | 81.99015157 |  74.434099 | -5.675594 | 13.3709939 |        NA | NA | ⋯ | 349.937302 | 315.608966 |       NA | NA | F | Anciano | DXI800 num 1 | CLC00805 | Vitamina B12               | 0 |\n\n",
            "text/latex": "A data.frame: 6 × 24\n\\begin{tabular}{r|lllllllllllllllllllll}\n  & TIEMPO\\_MUESTRA & RESULTADO & W1 & W2 & W3 & W4 & W5 & W6 & W7 & W8 & ⋯ & V5 & V6 & V7 & V8 & PACIENTE\\_SEXO & EDAD\\_BIN & ANALIZADOR & CODIGO\\_PRUEBA & NOMBRE\\_PRUEBA.x & CTRL\\\\\n  & <dttm> & <dbl> & <dbl> & <dbl> & <dbl> & <dbl> & <dbl> & <dbl> & <dbl> & <dbl> & ⋯ & <dbl> & <dbl> & <dbl> & <dbl> & <chr> & <chr> & <chr> & <chr> & <chr> & <int>\\\\\n\\hline\n\t1 & 2022-02-28 23:20:02 &   4.200 &  -3.5615786 &  7.256192 & -1.48703841 &         NA &        NA &         NA &        NA & NA & ⋯ &         NA &         NA &       NA & NA & M & Adulto  & DXI800 num 2 & CLC00544 & Creatina quinasa MB (masa) & 0\\\\\n\t2 & 2022-02-28 22:02:47 &   9.800 &   2.2805652 &  1.332555 & -1.43465727 &         NA &        NA &         NA &        NA & NA & ⋯ &         NA &         NA &       NA & NA & F & Anciano & DXI800 num 2 & CLC00544 & Creatina quinasa MB (masa) & 0\\\\\n\t3 & 2022-02-28 22:35:48 &   4.300 &   7.0986609 & -4.108060 & -1.39786129 &         NA &        NA &         NA &        NA & NA & ⋯ &         NA &         NA &       NA & NA & M & Adulto  & DXI800 num 2 & CLC00544 & Creatina quinasa MB (masa) & 0\\\\\n\t4 & 2022-02-28 20:53:57 &   0.042 &   0.8285582 & -1.567219 & -0.09554851 & -12.806090 & -3.136542 & -3.8431761 & 0.1227499 & NA & ⋯ &   3.779275 &   2.740326 & 1.801031 & NA & M & Anciano & DXI800 num 2 & CLC00638 & Procalcitonina             & 0\\\\\n\t5 & 2022-02-28 08:35:20 &   7.100 &  11.7137247 &  4.220284 & -1.88029062 &  -8.558415 & -3.931813 & -0.8030452 &        NA & NA & ⋯ &  28.145486 &  25.473809 &       NA & NA & M & Adulto  & DXI800 num 1 & CLC00807 & Vitamina D (25 OH)         & 0\\\\\n\t6 & 2022-02-28 14:19:26 & 237.000 & 118.5453826 & -7.087632 & 81.99015157 &  74.434099 & -5.675594 & 13.3709939 &        NA & NA & ⋯ & 349.937302 & 315.608966 &       NA & NA & F & Anciano & DXI800 num 1 & CLC00805 & Vitamina B12               & 0\\\\\n\\end{tabular}\n",
            "text/plain": [
              "  TIEMPO_MUESTRA      RESULTADO W1          W2        W3          W4        \n",
              "1 2022-02-28 23:20:02   4.200    -3.5615786  7.256192 -1.48703841         NA\n",
              "2 2022-02-28 22:02:47   9.800     2.2805652  1.332555 -1.43465727         NA\n",
              "3 2022-02-28 22:35:48   4.300     7.0986609 -4.108060 -1.39786129         NA\n",
              "4 2022-02-28 20:53:57   0.042     0.8285582 -1.567219 -0.09554851 -12.806090\n",
              "5 2022-02-28 08:35:20   7.100    11.7137247  4.220284 -1.88029062  -8.558415\n",
              "6 2022-02-28 14:19:26 237.000   118.5453826 -7.087632 81.99015157  74.434099\n",
              "  W5        W6         W7        W8 ⋯ V5         V6         V7       V8\n",
              "1        NA         NA        NA NA ⋯         NA         NA       NA NA\n",
              "2        NA         NA        NA NA ⋯         NA         NA       NA NA\n",
              "3        NA         NA        NA NA ⋯         NA         NA       NA NA\n",
              "4 -3.136542 -3.8431761 0.1227499 NA ⋯   3.779275   2.740326 1.801031 NA\n",
              "5 -3.931813 -0.8030452        NA NA ⋯  28.145486  25.473809       NA NA\n",
              "6 -5.675594 13.3709939        NA NA ⋯ 349.937302 315.608966       NA NA\n",
              "  PACIENTE_SEXO EDAD_BIN ANALIZADOR   CODIGO_PRUEBA NOMBRE_PRUEBA.x           \n",
              "1 M             Adulto   DXI800 num 2 CLC00544      Creatina quinasa MB (masa)\n",
              "2 F             Anciano  DXI800 num 2 CLC00544      Creatina quinasa MB (masa)\n",
              "3 M             Adulto   DXI800 num 2 CLC00544      Creatina quinasa MB (masa)\n",
              "4 M             Anciano  DXI800 num 2 CLC00638      Procalcitonina            \n",
              "5 M             Adulto   DXI800 num 1 CLC00807      Vitamina D (25 OH)        \n",
              "6 F             Anciano  DXI800 num 1 CLC00805      Vitamina B12              \n",
              "  CTRL\n",
              "1 0   \n",
              "2 0   \n",
              "3 0   \n",
              "4 0   \n",
              "5 0   \n",
              "6 0   "
            ]
          },
          "metadata": {}
        }
      ],
      "source": [
        "# Convertir fechas en formato POSIXct:\n",
        "data_sel_tr[,1] %<>% as.POSIXct(tz = \"Europe/Madrid\")\n",
        "head(data_sel_tr)"
      ]
    },
    {
      "cell_type": "markdown",
      "source": [
        "# Definición de funciones para transformación de variables, normalización y secuenciación de series de datos:\n"
      ],
      "metadata": {
        "id": "mMi3X0OGv3k7"
      }
    },
    {
      "cell_type": "markdown",
      "source": [
        "## Función ```sub_sample```\n",
        "\n",
        "Realiza un submuestreo estratificado aleatorio de la clase mayoritaria CTRL = 0, sustituyendo las entradas de esta clase por las seleccionadas aleatoriamente después de agrupar por fecha y código de prueba.\n"
      ],
      "metadata": {
        "id": "6aZiVHQEHW6i"
      }
    },
    {
      "cell_type": "code",
      "source": [
        "sub_sample <- function(ds, prop){\n",
        "  ss0 <- ds %>%\n",
        "  mutate(FECHAS = as.Date(TIEMPO_MUESTRA)) %>%\n",
        "  group_by(FECHAS, CODIGO_PRUEBA, CTRL) %>%\n",
        "  filter(CTRL == 0) %>%\n",
        "  slice_sample(prop = prop) %>%\n",
        "  ungroup() %>%\n",
        "  select(-FECHAS)\n",
        "  \n",
        "  ds_ss <- rbind(ds %>% filter(CTRL == 1), ss0)\n",
        "  ds_ss %<>% arrange(TIEMPO_MUESTRA)\n",
        "  \n",
        "  return(ds_ss)\n",
        "}"
      ],
      "metadata": {
        "id": "F_0twYjzHhUS"
      },
      "execution_count": 6,
      "outputs": []
    },
    {
      "cell_type": "markdown",
      "source": [
        "## Función ```normalize_train```.\n",
        "\n",
        "Para la normalización de las variables continuas del dataset de entrenamiento y sustitución de valores NA en los coeficientes wavelet por un valor numérico arbitrario fácilmente enmascarable. Devuelve también una lista de vectores de medias y de desviaciones estándar que luego se usan como argumentos en para las funciones de normalización de los datasets de validación y test. De esta forma, el escalado y normalización se realiza con la misma media y desviación del set de entrenamiento para los otros dos datasets."
      ],
      "metadata": {
        "id": "szsB5usGooCG"
      }
    },
    {
      "cell_type": "code",
      "source": [
        "normalize_train <- function(data) {\n",
        "   \n",
        "  # Identificar las columnas que empiezan por W y la columna 'RESULTADO'\n",
        "  wavelet_cols <- grep(\"^[WV]\", colnames(data), value = TRUE)\n",
        "  result_col <- \"RESULTADO\"\n",
        "  \n",
        "  # Calcular medias y desviaciones estándar por grupos de pruebas y   analizador:\n",
        "  means <- data %>%\n",
        "    group_by(ANALIZADOR, CODIGO_PRUEBA) %>%\n",
        "    summarise(across(c(result_col, wavelet_cols),\n",
        "                     ~mean(., na.rm = T))) \n",
        "  \n",
        "  std_devs <- data %>% \n",
        "    group_by(ANALIZADOR, CODIGO_PRUEBA) %>% \n",
        "    summarise(across(c(result_col, wavelet_cols),\n",
        "                     ~sd(., na.rm = T)))\n",
        "  \n",
        "  # Normalizar las columnas de resultado y coeficientes wavelet\n",
        "  norm_data <- data %>%\n",
        "    group_by(ANALIZADOR, CODIGO_PRUEBA) %>%\n",
        "    mutate(across(c(result_col, wavelet_cols), scale))%>%\n",
        "    mutate(across(wavelet_cols,\n",
        "                           ~ifelse(is.na(.), -99999, .))) %>%\n",
        "    ungroup()\n",
        "  \n",
        "  # Devolver el dataframe escalado y las medias y desviaciones estándar:\n",
        "  \n",
        "  return(list(scaled_data = as.data.frame(norm_data), \n",
        "              means = means, stdev = std_devs))\n",
        "}"
      ],
      "metadata": {
        "id": "o0ZlcpJTv4M0"
      },
      "execution_count": 7,
      "outputs": []
    },
    {
      "cell_type": "markdown",
      "source": [
        "## Función ```norm_test_val```.\n",
        "\n",
        "Análoga a ```normalize_train```, pero con la diferencia de que usa la media y desviación estándar del dataset de entrenamiento para validar los datasets de validación y test:"
      ],
      "metadata": {
        "id": "WDYhaVREo73A"
      }
    },
    {
      "cell_type": "code",
      "source": [
        "norm_test_val <- function(data, means, stds) {\n",
        "  \n",
        "  # Identificar las columnas numéricas y seleccionarlas\n",
        "  wavelet_cols <- grep(\"^[WV]\", colnames(data), value = TRUE)\n",
        "  result_col <- c(\"RESULTADO\")\n",
        "  test_cols <- \"CODIGO_PRUEBA\"\n",
        "  cols <- c(result_col, wavelet_cols, test_cols)\n",
        "  \n",
        "  # Seleccionar medias y desviaciones de resultados y coeficientes   wavelet:\n",
        "  means_r <- train_n$means\n",
        "  stds_r <- train_n$stdev\n",
        "  means_wl <- train_n$means[wavelet_cols]\n",
        "  stds_wl <- train_n$stdev[wavelet_cols]\n",
        "  \n",
        "  # Normalizar por cada prueba las columnas de resultado y coeficientes wavelet usando las medias y desviaciones estándar de train suministradas:\n",
        "  means <- data %>%\n",
        "    group_by(ANALIZADOR, CODIGO_PRUEBA) %>%\n",
        "    left_join(means_r, by = c(\"ANALIZADOR\", \"CODIGO_PRUEBA\"), \n",
        "              suffix = c(\".val\", \".means\")) %>%\n",
        "     ungroup()\n",
        "   \n",
        "  stds <- data %>%\n",
        "    group_by(ANALIZADOR, CODIGO_PRUEBA) %>%\n",
        "     left_join(stds_r, by = c(\"ANALIZADOR\", \"CODIGO_PRUEBA\"),\n",
        "               suffix = c(\".val\", \".sd\")) %>%\n",
        "    ungroup()\n",
        "     \n",
        "    \n",
        "  norm_data <- data %>%\n",
        "    mutate(., RESULTADO.st =\n",
        "             (.[,result_col]-\n",
        "                select(means,\n",
        "                       starts_with(result_col) &\n",
        "                       ends_with(\".means\"))) /\n",
        "                select(stds,\n",
        "                       starts_with(result_col) &\n",
        "                       ends_with(\".sd\"))\n",
        "           ) %>%\n",
        "    mutate(WAVELETS.st =\n",
        "             across(all_of(wavelet_cols),\n",
        "                    ~ (. - select(means, \n",
        "                                  starts_with(cur_column()) &\n",
        "                                    ends_with(\".means\"))[[1]]) /\n",
        "                      select(stds,\n",
        "                             starts_with(cur_column()) &\n",
        "                               ends_with(\".sd\"))[[1]])\n",
        "           ) %>%\n",
        "    select(-c(result_col, wavelet_cols)) %>%\n",
        "    unnest(c(WAVELETS.st, RESULTADO.st)) %>%\n",
        "    relocate(starts_with(\"RESULTADO\"), .after = 1) %>%\n",
        "    relocate(starts_with(\"W\"), .after = 2) %>%\n",
        "    relocate(starts_with(\"V\"), .before = PACIENTE_SEXO) %>%\n",
        "    mutate(across(wavelet_cols,\n",
        "                           ~ifelse(is.na(.), -99999, .)))\n",
        "    \n",
        "  names(norm_data)[2]<-result_col\n",
        "  \n",
        "  return(as.data.frame(norm_data))\n",
        "}"
      ],
      "metadata": {
        "id": "nLqSx55RwUDM"
      },
      "execution_count": 8,
      "outputs": []
    },
    {
      "cell_type": "markdown",
      "source": [
        "## Función ```code_cat_var```.\n",
        "\n",
        "Convierte las variables categóricas tipo string en vectores numéricos y realiza una codificción one-hot, creando una lista que retiene en un vector la información de los niveles de los factores. "
      ],
      "metadata": {
        "id": "fXPGuMM4pUU6"
      }
    },
    {
      "cell_type": "code",
      "source": [
        "code_cat_var <- function(data) {\n",
        "  # Eliminación de la columna CODIGO_PRUEBA si solo tiene una          categoría:\n",
        "  if(length(unique(data$CODIGO_PRUEBA))==1){\n",
        "    data %<>% select(., -CODIGO_PRUEBA)\n",
        "    }\n",
        "  \n",
        "  # Eliminación de los casos con sexo y/o indeterminadoz, debido a que son   muy minoritarios y crean una variable desequilibrada entre datasets:\n",
        "  \n",
        "  data %<>% filter(PACIENTE_SEXO != \"U\", EDAD_BIN != \"Desconocido\")\n",
        "  \n",
        "  # Detección de strings:\n",
        "  cat_vars <- which(sapply(data, is.character))\n",
        "  # Conversión a factores:\n",
        "  data_cat <- lapply(data[,cat_vars], as.factor)\n",
        "  # Extracción de niveles:\n",
        "  levels <- lapply(data_cat, levels)\n",
        "  \n",
        "  # Codificar one-hot todas las variables factor:\n",
        "  encoded_cols <- lapply(seq_along(data_cat), function(i) {\n",
        "    cols <- model.matrix(~ factor(data_cat[[i]]) - 1)\n",
        "    colnames(cols) <- paste0(names(data)[cat_vars[i]], \"_\",\n",
        "                             levels[[i]])\n",
        "    cols\n",
        "    })\n",
        "  \n",
        "  # Unir columnas codificadas con conjunto de datos original:\n",
        "  if (!\"CODIGO_PRUEBA\" %in% names(data)) {\n",
        "    data_encoded <- bind_cols(data %>% \n",
        "                                select(-all_of(cat_vars)),\n",
        "                                encoded_cols)\n",
        "    } else {\n",
        "      data_encoded <-  bind_cols(data %>%\n",
        "                                   select(c(-all_of(cat_vars),\n",
        "                                            -\"CODIGO_PRUEBA\")),\n",
        "                                 encoded_cols)\n",
        "      }\n",
        "  \n",
        "    # Reordenar columnas:\n",
        "  data_encoded <- data_encoded %>%\n",
        "  relocate(CTRL, .after = everything())\n",
        "  \n",
        "  return(list(data = data_encoded, levels = levels))\n",
        "}\n"
      ],
      "metadata": {
        "id": "OIa4QAmLn5DF"
      },
      "execution_count": 9,
      "outputs": []
    },
    {
      "cell_type": "markdown",
      "source": [
        "## Función ```unique_lab_cases```.\n",
        "\n",
        "Crea un índice de casos únicos de combinaciones de variables categóricas."
      ],
      "metadata": {
        "id": "_H5KdMUPp7T-"
      }
    },
    {
      "cell_type": "code",
      "execution_count": 10,
      "metadata": {
        "id": "Jx8y5h9SSnsg"
      },
      "outputs": [],
      "source": [
        "  unique_lab_cases <- function(df, categorical_vars) {\n",
        "  unique_groups <- unique(df[categorical_vars])\n",
        "  \n",
        "  code <- apply(unique_groups, 1, function(row) {\n",
        "    paste0(ifelse(row == 1, 1, 0), collapse = \"\")\n",
        "  })\n",
        "  unique_groups %<>% mutate(., code)\n",
        "  coded_df <- df %>%\n",
        "    merge(unique_groups, ., by = colnames(unique_groups)\n",
        "          [-length(colnames(unique_groups))])\n",
        "  coded_df <- coded_df[, c(colnames(df), \"code\")]\n",
        "  \n",
        "  return(coded_df)\n",
        "}"
      ]
    },
    {
      "cell_type": "markdown",
      "source": [
        "## Función ```create_lstm_data.1```.\n",
        "\n",
        "Diseñada para la creación de lotes de series temporales de longitud k (lookback). Basada en la función presentada en Chollet François, Deep learning with Python. Shelter Island, NY: Manning Publications Co; 2018. 335 p. Cap. 6.3.2 "
      ],
      "metadata": {
        "id": "oioo6MtdqH_9"
      }
    },
    {
      "cell_type": "code",
      "source": [
        "create_lstm_data.1 <- \n",
        "  function(data, lookback, delay, min_index, max_index,\n",
        "           shuffle = FALSE, batch_size, step = 1,\n",
        "           predseries) {\n",
        "    \n",
        "  if (is.null(max_index)) max_index <- nrow(data) - delay\n",
        "  i <- min_index + lookback\n",
        "  gen <- function() {\n",
        "    if (shuffle) {\n",
        "      rows <- sample(c((min_index+lookback):max_index), \n",
        "                     size = batch_size)\n",
        "    } else {\n",
        "      if (i + batch_size > max_index)\n",
        "        i <<- min_index + lookback\n",
        "      rows <- c(i:min(i+batch_size-1, max_index))\n",
        "      i <<- i + length(rows)\n",
        "    }\n",
        "    samples <- array(0, dim = c(length(rows),\n",
        "                                lookback / step,\n",
        "                                dim(data)[[-1]]-1))\n",
        "    targets <- array(0, dim = c(length(rows)))\n",
        "    for (j in 1:length(rows)) {\n",
        "      indices <- (rows[[j]] - lookback + 1):(rows[[j]])\n",
        "      samples[j,,] <- data[indices, -predseries]\n",
        "      targets[[j]] <- data[rows[[j]] + delay, predseries]\n",
        "    }\n",
        "    list(samples, targets)\n",
        "  }\n",
        "  return(gen)\n",
        "}\n",
        "\n"
      ],
      "metadata": {
        "id": "102JGm8PqJJU"
      },
      "execution_count": 11,
      "outputs": []
    },
    {
      "cell_type": "markdown",
      "source": [
        "# División de datasets:\n",
        "Se divide el dataset en 50% de datos para entrenamiento, 25% para test y 25% para validación. Para evitar fraccionar las unidades temporales diarias usamos percentiles de la secuencia temporal en días: "
      ],
      "metadata": {
        "id": "CgLYbhv9whC2"
      }
    },
    {
      "cell_type": "markdown",
      "source": [
        "### División por percentiles de escala temporal\n"
      ],
      "metadata": {
        "id": "uJtKKyhKf7eB"
      }
    },
    {
      "cell_type": "code",
      "execution_count": 12,
      "metadata": {
        "id": "83NtXb2ht_h3",
        "colab": {
          "base_uri": "https://localhost:8080/",
          "height": 86
        },
        "outputId": "e4e920b1-7715-44b8-8c0f-2487bc25cfdb"
      },
      "outputs": [
        {
          "output_type": "display_data",
          "data": {
            "text/plain": [
              "             50% \n",
              "\"2022-09-06 UTC\" "
            ]
          },
          "metadata": {}
        },
        {
          "output_type": "display_data",
          "data": {
            "text/plain": [
              "             75% \n",
              "\"2022-12-20 UTC\" "
            ]
          },
          "metadata": {}
        }
      ],
      "source": [
        "\n",
        "time_point_50 <- as.POSIXct(as.Date(\n",
        "  quantile(data_sel_tr[,1], 0.5)))\n",
        "\n",
        "time_point_75 <- as.POSIXct(as.Date(\n",
        "  quantile(data_sel_tr[,1], 0.75)))\n",
        "\n",
        "time_point_50\n",
        "time_point_75\n",
        "\n",
        "# Muestra de entrenamiento:\n",
        "train <- data_sel_tr %>%\n",
        "  subset(.[[1]] <= time_point_50)\n",
        "\n",
        "\n",
        "# Muestra de validación:\n",
        "val <- data_sel_tr %>%\n",
        "  subset(\n",
        "    .[[1]] > time_point_50 &\n",
        "    .[[1]] <= time_point_75)\n",
        "  \n",
        "\n",
        "# Muestra de test:\n",
        "test <- data_sel_tr %>%\n",
        "  subset(.[[1]] > time_point_75)"
      ]
    },
    {
      "cell_type": "markdown",
      "source": [
        "## Normalización de los datasets"
      ],
      "metadata": {
        "id": "5BJJspnuG_F6"
      }
    },
    {
      "cell_type": "code",
      "source": [
        "# Set de entrenamiento:\n",
        "train_n <- train %>% normalize_train()\n",
        "\n",
        "# Set de validación:\n",
        "val_n <- val %>% norm_test_val(means = train_n$means,\n",
        "                                  stds = train_n$stdev)\n",
        "# Set de test:\n",
        "\n",
        "test_n <- test %>% norm_test_val(means = train_n$means,\n",
        "                                  stds = train_n$stdev)"
      ],
      "metadata": {
        "colab": {
          "base_uri": "https://localhost:8080/"
        },
        "id": "cFyADqgbG3vJ",
        "outputId": "72d370d8-56ab-44c0-b3c6-6d2d6b242fcf"
      },
      "execution_count": 13,
      "outputs": [
        {
          "output_type": "stream",
          "name": "stderr",
          "text": [
            "Warning message:\n",
            "“\u001b[1m\u001b[22mThere were 2 warnings in `summarise()`.\n",
            "The first warning was:\n",
            "\u001b[1m\u001b[22m\u001b[36mℹ\u001b[39m In argument: `across(c(result_col, wavelet_cols), ~mean(., na.rm = T))`.\n",
            "Caused by warning:\n",
            "\u001b[1m\u001b[22m\u001b[33m!\u001b[39m Using an external vector in selections was deprecated in tidyselect 1.1.0.\n",
            "\u001b[36mℹ\u001b[39m Please use `all_of()` or `any_of()` instead.\n",
            "  # Was:\n",
            "  data %>% select(result_col)\n",
            "\n",
            "  # Now:\n",
            "  data %>% select(all_of(result_col))\n",
            "\n",
            "See <https://tidyselect.r-lib.org/reference/faq-external-vector.html>.\n",
            "\u001b[1m\u001b[22m\u001b[36mℹ\u001b[39m Run `dplyr::last_dplyr_warnings()` to see the 1 remaining warning.”\n",
            "\u001b[1m\u001b[22m`summarise()` has grouped output by 'ANALIZADOR'. You can override using the\n",
            "`.groups` argument.\n",
            "\u001b[1m\u001b[22m`summarise()` has grouped output by 'ANALIZADOR'. You can override using the\n",
            "`.groups` argument.\n"
          ]
        }
      ]
    },
    {
      "cell_type": "markdown",
      "source": [
        "### Downsampling estratificado por técnica.\n",
        "Se emplea la función ```sub_sample``` diseñada para eliminar la proporción deseada de casos pertenecientes a la clase CTRL = 0 por muestreo\n",
        " estratificado aleatorio."
      ],
      "metadata": {
        "id": "yck-95tKGvgo"
      }
    },
    {
      "cell_type": "code",
      "source": [
        "# Pruebas incluídas en los datos:\n",
        "  iqtests <- unique(data.frame(data_sel_tr$NOMBRE_PRUEBA.x,\n",
        "                               data_sel_tr$CODIGO_PRUEBA))\n",
        "  \n",
        "  # Corrección de caracteres incorrectos en NOMBRE_PRUEBA:\n",
        "  iqtests$data_sel_tr.NOMBRE_PRUEBA.x <- \n",
        "    iconv(iqtests$data_sel_tr.NOMBRE_PRUEBA.x, to = \"UTF-8\")\n",
        "  iqtests <- iqtests[complete.cases(iqtests),]\n",
        "  names(iqtests) <- c(\"NOMBRE_PRUEBA\", \"CODIGO_PRUEBA\")\n",
        "\n",
        "  # Sustitución en data de los nombres de prueba incorrectos:\n",
        "  data_sel_tr$NOMBRE_PRUEBA.x <-\n",
        "    iqtests$NOMBRE_PRUEBA[match(data_sel_tr$CODIGO_PRUEBA,\n",
        "                                iqtests$CODIGO_PRUEBA)]\n",
        "\n",
        "\n",
        "\n",
        "\n",
        "## Downsampling de casos con CTRL=0 en el training set.\n",
        "\n",
        "set.seed(123)\n",
        "\n",
        "train_ss <- train_n$scaled_data %>% sub_sample(prop=0.30)\n",
        "\n",
        "table(train_ss$NOMBRE_PRUEBA.x, train_ss$CTRL)\n",
        "\n",
        "clc_dropout <- iqtests$CODIGO_PRUEBA[which(!(iqtests$CODIGO_PRUEBA %in%\n",
        "               unique(train_ss$CODIGO_PRUEBA)))]\n",
        "\n"
      ],
      "metadata": {
        "colab": {
          "base_uri": "https://localhost:8080/",
          "height": 520
        },
        "id": "eAwvtG5QIhMU",
        "outputId": "f8bd8b85-98a1-4c44-ef50-d448a07e5031"
      },
      "execution_count": 46,
      "outputs": [
        {
          "output_type": "display_data",
          "data": {
            "text/plain": [
              "                                  \n",
              "                                      0    1\n",
              "  Ac anti peroxidasa tiroidea #TPO  215   68\n",
              "  Ac anti tiroglobulina               1    0\n",
              "  Ácido fólico                      307   12\n",
              "  Alfa-Fetoproteína                 157    5\n",
              "  Antígeno carcinoembrionario #CEA  300   44\n",
              "  CA 125                            219   35\n",
              "  CA 15.3                           221   29\n",
              "  CA 19.9                           251   21\n",
              "  Coriogonadotropina (beta total)     5    4\n",
              "  Cortisol                            2    0\n",
              "  Creatina quinasa MB (masa)         13   18\n",
              "  Estradiol                         122   14\n",
              "  Folitropina #FSH                  175   42\n",
              "  Lutropina #LH                     177   31\n",
              "  Paratirina (intacta) #PTHI        219   12\n",
              "  Procalcitonina                   1007   70\n",
              "  Progesterona                      145   17\n",
              "  Prolactina                        223   34\n",
              "  PSA                               218    8\n",
              "  PSA (libre)                       112   26\n",
              "  Testosterona                      184    6\n",
              "  Tirotropina #TSH                 1331  315\n",
              "  Tiroxina (libre) #T4L             189   35\n",
              "  Triyodotironina (libre) #T3L      146   16\n",
              "  Troponina I (alta sensibilidad)   725  395\n",
              "  Vitamina B12                      364   46\n",
              "  Vitamina D (25 OH)                270  115"
            ]
          },
          "metadata": {}
        }
      ]
    },
    {
      "cell_type": "code",
      "source": [
        "# Filtrado por código de pruebas que en training no tienen representación en la categoría CTRL = 1, y creación de una lista.\n",
        "\n",
        "clc_sel <- list()\n",
        "\n",
        "clc_sel[[1]] <- train_ss %>%\n",
        "  group_by(CODIGO_PRUEBA) %>%\n",
        "  filter(all(CTRL != 1) | all(CTRL != 0))\n",
        "\n",
        "# Unión de los elementos de la lista y extracción de los CODIGO_PRUEBA que las componen:\n",
        "clc_sel %<>% do.call(rbind, .)\n",
        "clc_other <- c(clc_dropout, unique(clc_sel$CODIGO_PRUEBA))\n",
        "names_other <- iqtests$NOMBRE_PRUEBA[iqtests$CODIGO_PRUEBA %in%\n",
        "                                       clc_other]\n",
        "\n",
        "# Subsetting de los dataframes de train, validation y test eliminando las entradas correspondientes a las pruebas encontradas en el paso anterior:\n",
        "train_sel <- train_ss %>% subset(., !(CODIGO_PRUEBA %in% clc_other))\n",
        "val_sel <- val_n %>% subset(., !(CODIGO_PRUEBA %in% clc_other))\n",
        "test_sel <- test_n %>% subset(., !(CODIGO_PRUEBA %in% clc_other))\n",
        "\n",
        "# Distribución tras la eliminación de estas pruebas\n",
        "\n",
        "table(train_sel$NOMBRE_PRUEBA.x, train_sel$CTRL)\n",
        "table(val_sel$NOMBRE_PRUEBA.x, val_sel$CTRL)\n",
        "table(test_sel$NOMBRE_PRUEBA.x, test_sel$CTRL)\n",
        "\n",
        "cat(\"Técnicas que no pueden entrenarse con estos datasets: \", names_other)"
      ],
      "metadata": {
        "colab": {
          "base_uri": "https://localhost:8080/",
          "height": 1000
        },
        "id": "Mq8uTC_SF5A8",
        "outputId": "6fb4a96e-e5bd-449e-f07d-d1346ab64891"
      },
      "execution_count": 47,
      "outputs": [
        {
          "output_type": "display_data",
          "data": {
            "text/plain": [
              "                                  \n",
              "                                      0    1\n",
              "  Ac anti peroxidasa tiroidea #TPO  215   68\n",
              "  Ácido fólico                      307   12\n",
              "  Alfa-Fetoproteína                 157    5\n",
              "  Antígeno carcinoembrionario #CEA  300   44\n",
              "  CA 125                            219   35\n",
              "  CA 15.3                           221   29\n",
              "  CA 19.9                           251   21\n",
              "  Coriogonadotropina (beta total)     5    4\n",
              "  Creatina quinasa MB (masa)         13   18\n",
              "  Estradiol                         122   14\n",
              "  Folitropina #FSH                  175   42\n",
              "  Lutropina #LH                     177   31\n",
              "  Paratirina (intacta) #PTHI        219   12\n",
              "  Procalcitonina                   1007   70\n",
              "  Progesterona                      145   17\n",
              "  Prolactina                        223   34\n",
              "  PSA                               218    8\n",
              "  PSA (libre)                       112   26\n",
              "  Testosterona                      184    6\n",
              "  Tirotropina #TSH                 1331  315\n",
              "  Tiroxina (libre) #T4L             189   35\n",
              "  Triyodotironina (libre) #T3L      146   16\n",
              "  Troponina I (alta sensibilidad)   725  395\n",
              "  Vitamina B12                      364   46\n",
              "  Vitamina D (25 OH)                270  115"
            ]
          },
          "metadata": {}
        },
        {
          "output_type": "display_data",
          "data": {
            "text/plain": [
              "                                  \n",
              "                                      0    1\n",
              "  Ac anti peroxidasa tiroidea #TPO  417    5\n",
              "  Ácido fólico                      577   10\n",
              "  Alfa-Fetoproteína                 348    0\n",
              "  Antígeno carcinoembrionario #CEA  564   32\n",
              "  CA 125                            413   21\n",
              "  CA 15.3                           379   29\n",
              "  CA 19.9                           406    7\n",
              "  Coriogonadotropina (beta total)    41    0\n",
              "  Creatina quinasa MB (masa)        138   20\n",
              "  Estradiol                         288    6\n",
              "  Folitropina #FSH                  393   24\n",
              "  Lutropina #LH                     427   12\n",
              "  Paratirina (intacta) #PTHI        479    0\n",
              "  Procalcitonina                   1905   36\n",
              "  Progesterona                      325   41\n",
              "  Prolactina                        384   30\n",
              "  PSA                               435    3\n",
              "  PSA (libre)                       300    2\n",
              "  Testosterona                      363    0\n",
              "  Tirotropina #TSH                 2234  100\n",
              "  Tiroxina (libre) #T4L             437   27\n",
              "  Triyodotironina (libre) #T3L      352   13\n",
              "  Troponina I (alta sensibilidad)  1310  149\n",
              "  Vitamina B12                      704   73\n",
              "  Vitamina D (25 OH)                569   43"
            ]
          },
          "metadata": {}
        },
        {
          "output_type": "display_data",
          "data": {
            "text/plain": [
              "                                  \n",
              "                                      0    1\n",
              "  Ac anti peroxidasa tiroidea #TPO  377    7\n",
              "  Ácido fólico                      623   43\n",
              "  Alfa-Fetoproteína                 325   10\n",
              "  Antígeno carcinoembrionario #CEA  487   17\n",
              "  CA 125                            278   13\n",
              "  CA 15.3                           322   33\n",
              "  CA 19.9                           340    0\n",
              "  Coriogonadotropina (beta total)    47    6\n",
              "  Creatina quinasa MB (masa)        103    9\n",
              "  Estradiol                         268    0\n",
              "  Folitropina #FSH                  353   26\n",
              "  Lutropina #LH                     340   26\n",
              "  Paratirina (intacta) #PTHI        545    0\n",
              "  Procalcitonina                   1701   28\n",
              "  Progesterona                      297   19\n",
              "  Prolactina                        367   37\n",
              "  PSA                               411   41\n",
              "  PSA (libre)                       245   17\n",
              "  Testosterona                      301    0\n",
              "  Tirotropina #TSH                 2280  425\n",
              "  Tiroxina (libre) #T4L             438   99\n",
              "  Triyodotironina (libre) #T3L      322    9\n",
              "  Troponina I (alta sensibilidad)  1566   84\n",
              "  Vitamina B12                      771  134\n",
              "  Vitamina D (25 OH)                520  109"
            ]
          },
          "metadata": {}
        },
        {
          "output_type": "stream",
          "name": "stdout",
          "text": [
            "Técnicas que no pueden entrenarse con estos datasets:  Ac anti tiroglobulina Cortisol"
          ]
        }
      ]
    },
    {
      "cell_type": "markdown",
      "source": [
        "## Codificación de variables mediante one-hot."
      ],
      "metadata": {
        "id": "b-onq6EPrBnd"
      }
    },
    {
      "cell_type": "markdown",
      "source": [
        "### Sin wavelets"
      ],
      "metadata": {
        "id": "gKZdSW8AgdZt"
      }
    },
    {
      "cell_type": "code",
      "source": [
        "train_code <- code_cat_var(subset(train_sel,\n",
        "                                  select = -c(3:18, NOMBRE_PRUEBA.x)))\n",
        "\n",
        "val_code <- code_cat_var(subset(val_sel,\n",
        "                                  select = -c(3:18, NOMBRE_PRUEBA.x)))\n",
        "\n",
        "test_code <- code_cat_var(subset(test_sel,\n",
        "                                  select = -c(3:18, NOMBRE_PRUEBA.x)))\n",
        "\n",
        "head(train_code$data)"
      ],
      "metadata": {
        "id": "cEhSgHHdfhrZ",
        "colab": {
          "base_uri": "https://localhost:8080/",
          "height": 427
        },
        "outputId": "143c19f6-e719-40df-b3b7-0bb27249e3d9"
      },
      "execution_count": 48,
      "outputs": [
        {
          "output_type": "display_data",
          "data": {
            "text/html": [
              "<table class=\"dataframe\">\n",
              "<caption>A data.frame: 6 × 36</caption>\n",
              "<thead>\n",
              "\t<tr><th></th><th scope=col>TIEMPO_MUESTRA</th><th scope=col>RESULTADO</th><th scope=col>PACIENTE_SEXO_F</th><th scope=col>PACIENTE_SEXO_M</th><th scope=col>EDAD_BIN_Adulto</th><th scope=col>EDAD_BIN_Anciano</th><th scope=col>EDAD_BIN_Joven</th><th scope=col>EDAD_BIN_Niño</th><th scope=col>ANALIZADOR_DXI800 num 1</th><th scope=col>ANALIZADOR_DXI800 num 2</th><th scope=col>⋯</th><th scope=col>CODIGO_PRUEBA_CLC11007</th><th scope=col>CODIGO_PRUEBA_CLC11015</th><th scope=col>CODIGO_PRUEBA_CLC11768</th><th scope=col>CODIGO_PRUEBA_CLC11775</th><th scope=col>CODIGO_PRUEBA_CLC11797</th><th scope=col>CODIGO_PRUEBA_CLC11816</th><th scope=col>CODIGO_PRUEBA_CLC11837</th><th scope=col>CODIGO_PRUEBA_CLC11846</th><th scope=col>CODIGO_PRUEBA_CLC11854</th><th scope=col>CTRL</th></tr>\n",
              "\t<tr><th></th><th scope=col>&lt;dttm&gt;</th><th scope=col>&lt;dbl[,1]&gt;</th><th scope=col>&lt;dbl&gt;</th><th scope=col>&lt;dbl&gt;</th><th scope=col>&lt;dbl&gt;</th><th scope=col>&lt;dbl&gt;</th><th scope=col>&lt;dbl&gt;</th><th scope=col>&lt;dbl&gt;</th><th scope=col>&lt;dbl&gt;</th><th scope=col>&lt;dbl&gt;</th><th scope=col>⋯</th><th scope=col>&lt;dbl&gt;</th><th scope=col>&lt;dbl&gt;</th><th scope=col>&lt;dbl&gt;</th><th scope=col>&lt;dbl&gt;</th><th scope=col>&lt;dbl&gt;</th><th scope=col>&lt;dbl&gt;</th><th scope=col>&lt;dbl&gt;</th><th scope=col>&lt;dbl&gt;</th><th scope=col>&lt;dbl&gt;</th><th scope=col>&lt;int&gt;</th></tr>\n",
              "</thead>\n",
              "<tbody>\n",
              "\t<tr><th scope=row>1</th><td>2022-02-28 05:00:41</td><td>-0.1453159</td><td>1</td><td>0</td><td>0</td><td>1</td><td>0</td><td>0</td><td>1</td><td>0</td><td>⋯</td><td>0</td><td>0</td><td>0</td><td>0</td><td>0</td><td>0</td><td>0</td><td>0</td><td>0</td><td>0</td></tr>\n",
              "\t<tr><th scope=row>2</th><td>2022-02-28 09:04:27</td><td>-0.1391580</td><td>1</td><td>0</td><td>0</td><td>1</td><td>0</td><td>0</td><td>1</td><td>0</td><td>⋯</td><td>0</td><td>0</td><td>0</td><td>0</td><td>0</td><td>0</td><td>0</td><td>0</td><td>0</td><td>0</td></tr>\n",
              "\t<tr><th scope=row>3</th><td>2022-02-28 09:17:56</td><td>-0.1539202</td><td>0</td><td>1</td><td>1</td><td>0</td><td>0</td><td>0</td><td>1</td><td>0</td><td>⋯</td><td>0</td><td>0</td><td>0</td><td>0</td><td>0</td><td>0</td><td>0</td><td>0</td><td>0</td><td>0</td></tr>\n",
              "\t<tr><th scope=row>4</th><td>2022-02-28 15:06:14</td><td>-0.1706882</td><td>0</td><td>1</td><td>0</td><td>1</td><td>0</td><td>0</td><td>1</td><td>0</td><td>⋯</td><td>0</td><td>0</td><td>0</td><td>0</td><td>0</td><td>0</td><td>0</td><td>0</td><td>0</td><td>1</td></tr>\n",
              "\t<tr><th scope=row>5</th><td>2022-02-28 15:06:14</td><td>-0.1706882</td><td>0</td><td>1</td><td>0</td><td>1</td><td>0</td><td>0</td><td>1</td><td>0</td><td>⋯</td><td>0</td><td>0</td><td>0</td><td>0</td><td>0</td><td>0</td><td>0</td><td>0</td><td>0</td><td>0</td></tr>\n",
              "\t<tr><th scope=row>6</th><td>2022-02-28 15:07:26</td><td> 0.2476431</td><td>1</td><td>0</td><td>0</td><td>1</td><td>0</td><td>0</td><td>1</td><td>0</td><td>⋯</td><td>0</td><td>0</td><td>0</td><td>0</td><td>0</td><td>0</td><td>0</td><td>0</td><td>0</td><td>1</td></tr>\n",
              "</tbody>\n",
              "</table>\n"
            ],
            "text/markdown": "\nA data.frame: 6 × 36\n\n| <!--/--> | TIEMPO_MUESTRA &lt;dttm&gt; | RESULTADO &lt;dbl[,1]&gt; | PACIENTE_SEXO_F &lt;dbl&gt; | PACIENTE_SEXO_M &lt;dbl&gt; | EDAD_BIN_Adulto &lt;dbl&gt; | EDAD_BIN_Anciano &lt;dbl&gt; | EDAD_BIN_Joven &lt;dbl&gt; | EDAD_BIN_Niño &lt;dbl&gt; | ANALIZADOR_DXI800 num 1 &lt;dbl&gt; | ANALIZADOR_DXI800 num 2 &lt;dbl&gt; | ⋯ ⋯ | CODIGO_PRUEBA_CLC11007 &lt;dbl&gt; | CODIGO_PRUEBA_CLC11015 &lt;dbl&gt; | CODIGO_PRUEBA_CLC11768 &lt;dbl&gt; | CODIGO_PRUEBA_CLC11775 &lt;dbl&gt; | CODIGO_PRUEBA_CLC11797 &lt;dbl&gt; | CODIGO_PRUEBA_CLC11816 &lt;dbl&gt; | CODIGO_PRUEBA_CLC11837 &lt;dbl&gt; | CODIGO_PRUEBA_CLC11846 &lt;dbl&gt; | CODIGO_PRUEBA_CLC11854 &lt;dbl&gt; | CTRL &lt;int&gt; |\n|---|---|---|---|---|---|---|---|---|---|---|---|---|---|---|---|---|---|---|---|---|---|\n| 1 | 2022-02-28 05:00:41 | -0.1453159 | 1 | 0 | 0 | 1 | 0 | 0 | 1 | 0 | ⋯ | 0 | 0 | 0 | 0 | 0 | 0 | 0 | 0 | 0 | 0 |\n| 2 | 2022-02-28 09:04:27 | -0.1391580 | 1 | 0 | 0 | 1 | 0 | 0 | 1 | 0 | ⋯ | 0 | 0 | 0 | 0 | 0 | 0 | 0 | 0 | 0 | 0 |\n| 3 | 2022-02-28 09:17:56 | -0.1539202 | 0 | 1 | 1 | 0 | 0 | 0 | 1 | 0 | ⋯ | 0 | 0 | 0 | 0 | 0 | 0 | 0 | 0 | 0 | 0 |\n| 4 | 2022-02-28 15:06:14 | -0.1706882 | 0 | 1 | 0 | 1 | 0 | 0 | 1 | 0 | ⋯ | 0 | 0 | 0 | 0 | 0 | 0 | 0 | 0 | 0 | 1 |\n| 5 | 2022-02-28 15:06:14 | -0.1706882 | 0 | 1 | 0 | 1 | 0 | 0 | 1 | 0 | ⋯ | 0 | 0 | 0 | 0 | 0 | 0 | 0 | 0 | 0 | 0 |\n| 6 | 2022-02-28 15:07:26 |  0.2476431 | 1 | 0 | 0 | 1 | 0 | 0 | 1 | 0 | ⋯ | 0 | 0 | 0 | 0 | 0 | 0 | 0 | 0 | 0 | 1 |\n\n",
            "text/latex": "A data.frame: 6 × 36\n\\begin{tabular}{r|lllllllllllllllllllll}\n  & TIEMPO\\_MUESTRA & RESULTADO & PACIENTE\\_SEXO\\_F & PACIENTE\\_SEXO\\_M & EDAD\\_BIN\\_Adulto & EDAD\\_BIN\\_Anciano & EDAD\\_BIN\\_Joven & EDAD\\_BIN\\_Niño & ANALIZADOR\\_DXI800 num 1 & ANALIZADOR\\_DXI800 num 2 & ⋯ & CODIGO\\_PRUEBA\\_CLC11007 & CODIGO\\_PRUEBA\\_CLC11015 & CODIGO\\_PRUEBA\\_CLC11768 & CODIGO\\_PRUEBA\\_CLC11775 & CODIGO\\_PRUEBA\\_CLC11797 & CODIGO\\_PRUEBA\\_CLC11816 & CODIGO\\_PRUEBA\\_CLC11837 & CODIGO\\_PRUEBA\\_CLC11846 & CODIGO\\_PRUEBA\\_CLC11854 & CTRL\\\\\n  & <dttm> & <dbl{[},1{]}> & <dbl> & <dbl> & <dbl> & <dbl> & <dbl> & <dbl> & <dbl> & <dbl> & ⋯ & <dbl> & <dbl> & <dbl> & <dbl> & <dbl> & <dbl> & <dbl> & <dbl> & <dbl> & <int>\\\\\n\\hline\n\t1 & 2022-02-28 05:00:41 & -0.1453159 & 1 & 0 & 0 & 1 & 0 & 0 & 1 & 0 & ⋯ & 0 & 0 & 0 & 0 & 0 & 0 & 0 & 0 & 0 & 0\\\\\n\t2 & 2022-02-28 09:04:27 & -0.1391580 & 1 & 0 & 0 & 1 & 0 & 0 & 1 & 0 & ⋯ & 0 & 0 & 0 & 0 & 0 & 0 & 0 & 0 & 0 & 0\\\\\n\t3 & 2022-02-28 09:17:56 & -0.1539202 & 0 & 1 & 1 & 0 & 0 & 0 & 1 & 0 & ⋯ & 0 & 0 & 0 & 0 & 0 & 0 & 0 & 0 & 0 & 0\\\\\n\t4 & 2022-02-28 15:06:14 & -0.1706882 & 0 & 1 & 0 & 1 & 0 & 0 & 1 & 0 & ⋯ & 0 & 0 & 0 & 0 & 0 & 0 & 0 & 0 & 0 & 1\\\\\n\t5 & 2022-02-28 15:06:14 & -0.1706882 & 0 & 1 & 0 & 1 & 0 & 0 & 1 & 0 & ⋯ & 0 & 0 & 0 & 0 & 0 & 0 & 0 & 0 & 0 & 0\\\\\n\t6 & 2022-02-28 15:07:26 &  0.2476431 & 1 & 0 & 0 & 1 & 0 & 0 & 1 & 0 & ⋯ & 0 & 0 & 0 & 0 & 0 & 0 & 0 & 0 & 0 & 1\\\\\n\\end{tabular}\n",
            "text/plain": [
              "  TIEMPO_MUESTRA      RESULTADO  PACIENTE_SEXO_F PACIENTE_SEXO_M\n",
              "1 2022-02-28 05:00:41 -0.1453159 1               0              \n",
              "2 2022-02-28 09:04:27 -0.1391580 1               0              \n",
              "3 2022-02-28 09:17:56 -0.1539202 0               1              \n",
              "4 2022-02-28 15:06:14 -0.1706882 0               1              \n",
              "5 2022-02-28 15:06:14 -0.1706882 0               1              \n",
              "6 2022-02-28 15:07:26  0.2476431 1               0              \n",
              "  EDAD_BIN_Adulto EDAD_BIN_Anciano EDAD_BIN_Joven EDAD_BIN_Niño\n",
              "1 0               1                0              0            \n",
              "2 0               1                0              0            \n",
              "3 1               0                0              0            \n",
              "4 0               1                0              0            \n",
              "5 0               1                0              0            \n",
              "6 0               1                0              0            \n",
              "  ANALIZADOR_DXI800 num 1 ANALIZADOR_DXI800 num 2 ⋯ CODIGO_PRUEBA_CLC11007\n",
              "1 1                       0                       ⋯ 0                     \n",
              "2 1                       0                       ⋯ 0                     \n",
              "3 1                       0                       ⋯ 0                     \n",
              "4 1                       0                       ⋯ 0                     \n",
              "5 1                       0                       ⋯ 0                     \n",
              "6 1                       0                       ⋯ 0                     \n",
              "  CODIGO_PRUEBA_CLC11015 CODIGO_PRUEBA_CLC11768 CODIGO_PRUEBA_CLC11775\n",
              "1 0                      0                      0                     \n",
              "2 0                      0                      0                     \n",
              "3 0                      0                      0                     \n",
              "4 0                      0                      0                     \n",
              "5 0                      0                      0                     \n",
              "6 0                      0                      0                     \n",
              "  CODIGO_PRUEBA_CLC11797 CODIGO_PRUEBA_CLC11816 CODIGO_PRUEBA_CLC11837\n",
              "1 0                      0                      0                     \n",
              "2 0                      0                      0                     \n",
              "3 0                      0                      0                     \n",
              "4 0                      0                      0                     \n",
              "5 0                      0                      0                     \n",
              "6 0                      0                      0                     \n",
              "  CODIGO_PRUEBA_CLC11846 CODIGO_PRUEBA_CLC11854 CTRL\n",
              "1 0                      0                      0   \n",
              "2 0                      0                      0   \n",
              "3 0                      0                      0   \n",
              "4 0                      0                      1   \n",
              "5 0                      0                      0   \n",
              "6 0                      0                      1   "
            ]
          },
          "metadata": {}
        }
      ]
    },
    {
      "cell_type": "markdown",
      "source": [
        "### Con wavelets"
      ],
      "metadata": {
        "id": "u3kNNiqog2tW"
      }
    },
    {
      "cell_type": "code",
      "source": [
        "train_code <- code_cat_var(subset(train_sel,\n",
        "                                  select = -NOMBRE_PRUEBA.x))\n",
        "\n",
        "val_code <- code_cat_var(subset(val_sel,\n",
        "                                  select = -NOMBRE_PRUEBA.x))\n",
        "\n",
        "test_code <- code_cat_var(subset(test_sel,\n",
        "                                  select = -NOMBRE_PRUEBA.x))\n",
        "\n",
        "head(train_code$data)"
      ],
      "metadata": {
        "colab": {
          "base_uri": "https://localhost:8080/",
          "height": 410
        },
        "id": "SHekd1hhMPH7",
        "outputId": "7e6aafb3-bcba-4556-d070-fa129dc87217"
      },
      "execution_count": null,
      "outputs": [
        {
          "output_type": "display_data",
          "data": {
            "text/html": [
              "<table class=\"dataframe\">\n",
              "<caption>A data.frame: 6 × 52</caption>\n",
              "<thead>\n",
              "\t<tr><th></th><th scope=col>TIEMPO_MUESTRA</th><th scope=col>RESULTADO</th><th scope=col>W1</th><th scope=col>W2</th><th scope=col>W3</th><th scope=col>W4</th><th scope=col>W5</th><th scope=col>W6</th><th scope=col>W7</th><th scope=col>W8</th><th scope=col>⋯</th><th scope=col>CODIGO_PRUEBA_CLC11007</th><th scope=col>CODIGO_PRUEBA_CLC11015</th><th scope=col>CODIGO_PRUEBA_CLC11768</th><th scope=col>CODIGO_PRUEBA_CLC11775</th><th scope=col>CODIGO_PRUEBA_CLC11797</th><th scope=col>CODIGO_PRUEBA_CLC11816</th><th scope=col>CODIGO_PRUEBA_CLC11837</th><th scope=col>CODIGO_PRUEBA_CLC11846</th><th scope=col>CODIGO_PRUEBA_CLC11854</th><th scope=col>CTRL</th></tr>\n",
              "\t<tr><th></th><th scope=col>&lt;dttm&gt;</th><th scope=col>&lt;dbl[,1]&gt;</th><th scope=col>&lt;dbl[,1]&gt;</th><th scope=col>&lt;dbl[,1]&gt;</th><th scope=col>&lt;dbl[,1]&gt;</th><th scope=col>&lt;dbl[,1]&gt;</th><th scope=col>&lt;dbl[,1]&gt;</th><th scope=col>&lt;dbl[,1]&gt;</th><th scope=col>&lt;dbl[,1]&gt;</th><th scope=col>&lt;dbl[,1]&gt;</th><th scope=col>⋯</th><th scope=col>&lt;dbl&gt;</th><th scope=col>&lt;dbl&gt;</th><th scope=col>&lt;dbl&gt;</th><th scope=col>&lt;dbl&gt;</th><th scope=col>&lt;dbl&gt;</th><th scope=col>&lt;dbl&gt;</th><th scope=col>&lt;dbl&gt;</th><th scope=col>&lt;dbl&gt;</th><th scope=col>&lt;dbl&gt;</th><th scope=col>&lt;int&gt;</th></tr>\n",
              "</thead>\n",
              "<tbody>\n",
              "\t<tr><th scope=row>1</th><td>2022-02-28 00:21:32</td><td> 2.8723699</td><td>-0.002771341</td><td> 0.107174599</td><td> 0.002853283</td><td>0.031044265</td><td>-0.32112735</td><td>-0.16324420</td><td> 4.079377e-02</td><td>-99999</td><td>⋯</td><td>0</td><td>0</td><td>0</td><td>0</td><td>0</td><td>0</td><td>0</td><td>0</td><td>0</td><td>0</td></tr>\n",
              "\t<tr><th scope=row>2</th><td>2022-02-28 05:00:41</td><td>-0.1453159</td><td> 0.159908491</td><td> 0.004134627</td><td>-0.032454303</td><td>0.010211938</td><td>-0.23620441</td><td>-0.23086449</td><td> 3.217151e-01</td><td>-99999</td><td>⋯</td><td>0</td><td>0</td><td>0</td><td>0</td><td>0</td><td>0</td><td>0</td><td>0</td><td>0</td><td>0</td></tr>\n",
              "\t<tr><th scope=row>3</th><td>2022-02-28 07:27:14</td><td>-0.0785065</td><td> 0.006672282</td><td> 1.472640419</td><td>-0.016109558</td><td>0.007517284</td><td>-0.14808031</td><td>-0.01426478</td><td>-2.032753e-01</td><td>-99999</td><td>⋯</td><td>0</td><td>0</td><td>0</td><td>0</td><td>0</td><td>0</td><td>0</td><td>0</td><td>0</td><td>0</td></tr>\n",
              "\t<tr><th scope=row>4</th><td>2022-02-28 09:04:27</td><td>-0.1391580</td><td>-0.002072266</td><td> 1.196861448</td><td>-0.018758348</td><td>0.006328446</td><td>-0.05080433</td><td> 0.05035498</td><td>-2.745915e-01</td><td>-99999</td><td>⋯</td><td>0</td><td>0</td><td>0</td><td>0</td><td>0</td><td>0</td><td>0</td><td>0</td><td>0</td><td>0</td></tr>\n",
              "\t<tr><th scope=row>5</th><td>2022-02-28 09:17:56</td><td>-0.1539202</td><td>-0.027033273</td><td>-0.029946839</td><td> 0.028959525</td><td>0.021382739</td><td>-0.29146218</td><td>-0.21889726</td><td> 2.243953e-01</td><td>-99999</td><td>⋯</td><td>0</td><td>0</td><td>0</td><td>0</td><td>0</td><td>0</td><td>0</td><td>0</td><td>0</td><td>0</td></tr>\n",
              "\t<tr><th scope=row>6</th><td>2022-02-28 12:15:32</td><td> 0.1115946</td><td>-0.783940788</td><td> 0.774370572</td><td> 0.999042602</td><td>1.826255314</td><td>-0.28695508</td><td> 0.50522373</td><td>-9.999900e+04</td><td>-99999</td><td>⋯</td><td>0</td><td>0</td><td>0</td><td>0</td><td>0</td><td>0</td><td>0</td><td>0</td><td>0</td><td>0</td></tr>\n",
              "</tbody>\n",
              "</table>\n"
            ],
            "text/markdown": "\nA data.frame: 6 × 52\n\n| <!--/--> | TIEMPO_MUESTRA &lt;dttm&gt; | RESULTADO &lt;dbl[,1]&gt; | W1 &lt;dbl[,1]&gt; | W2 &lt;dbl[,1]&gt; | W3 &lt;dbl[,1]&gt; | W4 &lt;dbl[,1]&gt; | W5 &lt;dbl[,1]&gt; | W6 &lt;dbl[,1]&gt; | W7 &lt;dbl[,1]&gt; | W8 &lt;dbl[,1]&gt; | ⋯ ⋯ | CODIGO_PRUEBA_CLC11007 &lt;dbl&gt; | CODIGO_PRUEBA_CLC11015 &lt;dbl&gt; | CODIGO_PRUEBA_CLC11768 &lt;dbl&gt; | CODIGO_PRUEBA_CLC11775 &lt;dbl&gt; | CODIGO_PRUEBA_CLC11797 &lt;dbl&gt; | CODIGO_PRUEBA_CLC11816 &lt;dbl&gt; | CODIGO_PRUEBA_CLC11837 &lt;dbl&gt; | CODIGO_PRUEBA_CLC11846 &lt;dbl&gt; | CODIGO_PRUEBA_CLC11854 &lt;dbl&gt; | CTRL &lt;int&gt; |\n|---|---|---|---|---|---|---|---|---|---|---|---|---|---|---|---|---|---|---|---|---|---|\n| 1 | 2022-02-28 00:21:32 |  2.8723699 | -0.002771341 |  0.107174599 |  0.002853283 | 0.031044265 | -0.32112735 | -0.16324420 |  4.079377e-02 | -99999 | ⋯ | 0 | 0 | 0 | 0 | 0 | 0 | 0 | 0 | 0 | 0 |\n| 2 | 2022-02-28 05:00:41 | -0.1453159 |  0.159908491 |  0.004134627 | -0.032454303 | 0.010211938 | -0.23620441 | -0.23086449 |  3.217151e-01 | -99999 | ⋯ | 0 | 0 | 0 | 0 | 0 | 0 | 0 | 0 | 0 | 0 |\n| 3 | 2022-02-28 07:27:14 | -0.0785065 |  0.006672282 |  1.472640419 | -0.016109558 | 0.007517284 | -0.14808031 | -0.01426478 | -2.032753e-01 | -99999 | ⋯ | 0 | 0 | 0 | 0 | 0 | 0 | 0 | 0 | 0 | 0 |\n| 4 | 2022-02-28 09:04:27 | -0.1391580 | -0.002072266 |  1.196861448 | -0.018758348 | 0.006328446 | -0.05080433 |  0.05035498 | -2.745915e-01 | -99999 | ⋯ | 0 | 0 | 0 | 0 | 0 | 0 | 0 | 0 | 0 | 0 |\n| 5 | 2022-02-28 09:17:56 | -0.1539202 | -0.027033273 | -0.029946839 |  0.028959525 | 0.021382739 | -0.29146218 | -0.21889726 |  2.243953e-01 | -99999 | ⋯ | 0 | 0 | 0 | 0 | 0 | 0 | 0 | 0 | 0 | 0 |\n| 6 | 2022-02-28 12:15:32 |  0.1115946 | -0.783940788 |  0.774370572 |  0.999042602 | 1.826255314 | -0.28695508 |  0.50522373 | -9.999900e+04 | -99999 | ⋯ | 0 | 0 | 0 | 0 | 0 | 0 | 0 | 0 | 0 | 0 |\n\n",
            "text/latex": "A data.frame: 6 × 52\n\\begin{tabular}{r|lllllllllllllllllllll}\n  & TIEMPO\\_MUESTRA & RESULTADO & W1 & W2 & W3 & W4 & W5 & W6 & W7 & W8 & ⋯ & CODIGO\\_PRUEBA\\_CLC11007 & CODIGO\\_PRUEBA\\_CLC11015 & CODIGO\\_PRUEBA\\_CLC11768 & CODIGO\\_PRUEBA\\_CLC11775 & CODIGO\\_PRUEBA\\_CLC11797 & CODIGO\\_PRUEBA\\_CLC11816 & CODIGO\\_PRUEBA\\_CLC11837 & CODIGO\\_PRUEBA\\_CLC11846 & CODIGO\\_PRUEBA\\_CLC11854 & CTRL\\\\\n  & <dttm> & <dbl{[},1{]}> & <dbl{[},1{]}> & <dbl{[},1{]}> & <dbl{[},1{]}> & <dbl{[},1{]}> & <dbl{[},1{]}> & <dbl{[},1{]}> & <dbl{[},1{]}> & <dbl{[},1{]}> & ⋯ & <dbl> & <dbl> & <dbl> & <dbl> & <dbl> & <dbl> & <dbl> & <dbl> & <dbl> & <int>\\\\\n\\hline\n\t1 & 2022-02-28 00:21:32 &  2.8723699 & -0.002771341 &  0.107174599 &  0.002853283 & 0.031044265 & -0.32112735 & -0.16324420 &  4.079377e-02 & -99999 & ⋯ & 0 & 0 & 0 & 0 & 0 & 0 & 0 & 0 & 0 & 0\\\\\n\t2 & 2022-02-28 05:00:41 & -0.1453159 &  0.159908491 &  0.004134627 & -0.032454303 & 0.010211938 & -0.23620441 & -0.23086449 &  3.217151e-01 & -99999 & ⋯ & 0 & 0 & 0 & 0 & 0 & 0 & 0 & 0 & 0 & 0\\\\\n\t3 & 2022-02-28 07:27:14 & -0.0785065 &  0.006672282 &  1.472640419 & -0.016109558 & 0.007517284 & -0.14808031 & -0.01426478 & -2.032753e-01 & -99999 & ⋯ & 0 & 0 & 0 & 0 & 0 & 0 & 0 & 0 & 0 & 0\\\\\n\t4 & 2022-02-28 09:04:27 & -0.1391580 & -0.002072266 &  1.196861448 & -0.018758348 & 0.006328446 & -0.05080433 &  0.05035498 & -2.745915e-01 & -99999 & ⋯ & 0 & 0 & 0 & 0 & 0 & 0 & 0 & 0 & 0 & 0\\\\\n\t5 & 2022-02-28 09:17:56 & -0.1539202 & -0.027033273 & -0.029946839 &  0.028959525 & 0.021382739 & -0.29146218 & -0.21889726 &  2.243953e-01 & -99999 & ⋯ & 0 & 0 & 0 & 0 & 0 & 0 & 0 & 0 & 0 & 0\\\\\n\t6 & 2022-02-28 12:15:32 &  0.1115946 & -0.783940788 &  0.774370572 &  0.999042602 & 1.826255314 & -0.28695508 &  0.50522373 & -9.999900e+04 & -99999 & ⋯ & 0 & 0 & 0 & 0 & 0 & 0 & 0 & 0 & 0 & 0\\\\\n\\end{tabular}\n",
            "text/plain": [
              "  TIEMPO_MUESTRA      RESULTADO  W1           W2           W3          \n",
              "1 2022-02-28 00:21:32  2.8723699 -0.002771341  0.107174599  0.002853283\n",
              "2 2022-02-28 05:00:41 -0.1453159  0.159908491  0.004134627 -0.032454303\n",
              "3 2022-02-28 07:27:14 -0.0785065  0.006672282  1.472640419 -0.016109558\n",
              "4 2022-02-28 09:04:27 -0.1391580 -0.002072266  1.196861448 -0.018758348\n",
              "5 2022-02-28 09:17:56 -0.1539202 -0.027033273 -0.029946839  0.028959525\n",
              "6 2022-02-28 12:15:32  0.1115946 -0.783940788  0.774370572  0.999042602\n",
              "  W4          W5          W6          W7            W8     ⋯\n",
              "1 0.031044265 -0.32112735 -0.16324420  4.079377e-02 -99999 ⋯\n",
              "2 0.010211938 -0.23620441 -0.23086449  3.217151e-01 -99999 ⋯\n",
              "3 0.007517284 -0.14808031 -0.01426478 -2.032753e-01 -99999 ⋯\n",
              "4 0.006328446 -0.05080433  0.05035498 -2.745915e-01 -99999 ⋯\n",
              "5 0.021382739 -0.29146218 -0.21889726  2.243953e-01 -99999 ⋯\n",
              "6 1.826255314 -0.28695508  0.50522373 -9.999900e+04 -99999 ⋯\n",
              "  CODIGO_PRUEBA_CLC11007 CODIGO_PRUEBA_CLC11015 CODIGO_PRUEBA_CLC11768\n",
              "1 0                      0                      0                     \n",
              "2 0                      0                      0                     \n",
              "3 0                      0                      0                     \n",
              "4 0                      0                      0                     \n",
              "5 0                      0                      0                     \n",
              "6 0                      0                      0                     \n",
              "  CODIGO_PRUEBA_CLC11775 CODIGO_PRUEBA_CLC11797 CODIGO_PRUEBA_CLC11816\n",
              "1 0                      0                      0                     \n",
              "2 0                      0                      0                     \n",
              "3 0                      0                      0                     \n",
              "4 0                      0                      0                     \n",
              "5 0                      0                      0                     \n",
              "6 0                      0                      0                     \n",
              "  CODIGO_PRUEBA_CLC11837 CODIGO_PRUEBA_CLC11846 CODIGO_PRUEBA_CLC11854 CTRL\n",
              "1 0                      0                      0                      0   \n",
              "2 0                      0                      0                      0   \n",
              "3 0                      0                      0                      0   \n",
              "4 0                      0                      0                      0   \n",
              "5 0                      0                      0                      0   \n",
              "6 0                      0                      0                      0   "
            ]
          },
          "metadata": {}
        }
      ]
    },
    {
      "cell_type": "markdown",
      "source": [
        "## Preparación de series temporales de longitud k agrupadas por categorías en los datasets de training y validación. "
      ],
      "metadata": {
        "id": "jW1LGhzDrKe4"
      }
    },
    {
      "cell_type": "code",
      "source": [
        "names(train_code$data)\n",
        "length(train_code$data)\n"
      ],
      "metadata": {
        "colab": {
          "base_uri": "https://localhost:8080/",
          "height": 173
        },
        "id": "kcnJRBR8EiAG",
        "outputId": "3ff8a697-4e12-4868-c40d-298f2eed49a3"
      },
      "execution_count": 20,
      "outputs": [
        {
          "output_type": "display_data",
          "data": {
            "text/html": [
              "<style>\n",
              ".list-inline {list-style: none; margin:0; padding: 0}\n",
              ".list-inline>li {display: inline-block}\n",
              ".list-inline>li:not(:last-child)::after {content: \"\\00b7\"; padding: 0 .5ex}\n",
              "</style>\n",
              "<ol class=list-inline><li>'TIEMPO_MUESTRA'</li><li>'RESULTADO'</li><li>'PACIENTE_SEXO_F'</li><li>'PACIENTE_SEXO_M'</li><li>'EDAD_BIN_Adulto'</li><li>'EDAD_BIN_Anciano'</li><li>'EDAD_BIN_Joven'</li><li>'EDAD_BIN_Niño'</li><li>'ANALIZADOR_DXI800 num 1'</li><li>'ANALIZADOR_DXI800 num 2'</li><li>'CODIGO_PRUEBA_CLC00033'</li><li>'CODIGO_PRUEBA_CLC00034'</li><li>'CODIGO_PRUEBA_CLC00061'</li><li>'CODIGO_PRUEBA_CLC00638'</li><li>'CODIGO_PRUEBA_CLC00805'</li><li>'CODIGO_PRUEBA_CLC00807'</li><li>'CODIGO_PRUEBA_CLC00811'</li><li>'CODIGO_PRUEBA_CLC00813'</li><li>'CODIGO_PRUEBA_CLC00814'</li><li>'CODIGO_PRUEBA_CLC00815'</li><li>'CODIGO_PRUEBA_CLC00816'</li><li>'CODIGO_PRUEBA_CLC00817'</li><li>'CODIGO_PRUEBA_CLC00820'</li><li>'CODIGO_PRUEBA_CLC00821'</li><li>'CODIGO_PRUEBA_CLC02816'</li><li>'CODIGO_PRUEBA_CLC11007'</li><li>'CODIGO_PRUEBA_CLC11015'</li><li>'CODIGO_PRUEBA_CLC11775'</li><li>'CODIGO_PRUEBA_CLC11797'</li><li>'CODIGO_PRUEBA_CLC11816'</li><li>'CODIGO_PRUEBA_CLC11837'</li><li>'CODIGO_PRUEBA_CLC11846'</li><li>'CODIGO_PRUEBA_CLC11854'</li><li>'CTRL'</li></ol>\n"
            ],
            "text/markdown": "1. 'TIEMPO_MUESTRA'\n2. 'RESULTADO'\n3. 'PACIENTE_SEXO_F'\n4. 'PACIENTE_SEXO_M'\n5. 'EDAD_BIN_Adulto'\n6. 'EDAD_BIN_Anciano'\n7. 'EDAD_BIN_Joven'\n8. 'EDAD_BIN_Niño'\n9. 'ANALIZADOR_DXI800 num 1'\n10. 'ANALIZADOR_DXI800 num 2'\n11. 'CODIGO_PRUEBA_CLC00033'\n12. 'CODIGO_PRUEBA_CLC00034'\n13. 'CODIGO_PRUEBA_CLC00061'\n14. 'CODIGO_PRUEBA_CLC00638'\n15. 'CODIGO_PRUEBA_CLC00805'\n16. 'CODIGO_PRUEBA_CLC00807'\n17. 'CODIGO_PRUEBA_CLC00811'\n18. 'CODIGO_PRUEBA_CLC00813'\n19. 'CODIGO_PRUEBA_CLC00814'\n20. 'CODIGO_PRUEBA_CLC00815'\n21. 'CODIGO_PRUEBA_CLC00816'\n22. 'CODIGO_PRUEBA_CLC00817'\n23. 'CODIGO_PRUEBA_CLC00820'\n24. 'CODIGO_PRUEBA_CLC00821'\n25. 'CODIGO_PRUEBA_CLC02816'\n26. 'CODIGO_PRUEBA_CLC11007'\n27. 'CODIGO_PRUEBA_CLC11015'\n28. 'CODIGO_PRUEBA_CLC11775'\n29. 'CODIGO_PRUEBA_CLC11797'\n30. 'CODIGO_PRUEBA_CLC11816'\n31. 'CODIGO_PRUEBA_CLC11837'\n32. 'CODIGO_PRUEBA_CLC11846'\n33. 'CODIGO_PRUEBA_CLC11854'\n34. 'CTRL'\n\n\n",
            "text/latex": "\\begin{enumerate*}\n\\item 'TIEMPO\\_MUESTRA'\n\\item 'RESULTADO'\n\\item 'PACIENTE\\_SEXO\\_F'\n\\item 'PACIENTE\\_SEXO\\_M'\n\\item 'EDAD\\_BIN\\_Adulto'\n\\item 'EDAD\\_BIN\\_Anciano'\n\\item 'EDAD\\_BIN\\_Joven'\n\\item 'EDAD\\_BIN\\_Niño'\n\\item 'ANALIZADOR\\_DXI800 num 1'\n\\item 'ANALIZADOR\\_DXI800 num 2'\n\\item 'CODIGO\\_PRUEBA\\_CLC00033'\n\\item 'CODIGO\\_PRUEBA\\_CLC00034'\n\\item 'CODIGO\\_PRUEBA\\_CLC00061'\n\\item 'CODIGO\\_PRUEBA\\_CLC00638'\n\\item 'CODIGO\\_PRUEBA\\_CLC00805'\n\\item 'CODIGO\\_PRUEBA\\_CLC00807'\n\\item 'CODIGO\\_PRUEBA\\_CLC00811'\n\\item 'CODIGO\\_PRUEBA\\_CLC00813'\n\\item 'CODIGO\\_PRUEBA\\_CLC00814'\n\\item 'CODIGO\\_PRUEBA\\_CLC00815'\n\\item 'CODIGO\\_PRUEBA\\_CLC00816'\n\\item 'CODIGO\\_PRUEBA\\_CLC00817'\n\\item 'CODIGO\\_PRUEBA\\_CLC00820'\n\\item 'CODIGO\\_PRUEBA\\_CLC00821'\n\\item 'CODIGO\\_PRUEBA\\_CLC02816'\n\\item 'CODIGO\\_PRUEBA\\_CLC11007'\n\\item 'CODIGO\\_PRUEBA\\_CLC11015'\n\\item 'CODIGO\\_PRUEBA\\_CLC11775'\n\\item 'CODIGO\\_PRUEBA\\_CLC11797'\n\\item 'CODIGO\\_PRUEBA\\_CLC11816'\n\\item 'CODIGO\\_PRUEBA\\_CLC11837'\n\\item 'CODIGO\\_PRUEBA\\_CLC11846'\n\\item 'CODIGO\\_PRUEBA\\_CLC11854'\n\\item 'CTRL'\n\\end{enumerate*}\n",
            "text/plain": [
              " [1] \"TIEMPO_MUESTRA\"          \"RESULTADO\"              \n",
              " [3] \"PACIENTE_SEXO_F\"         \"PACIENTE_SEXO_M\"        \n",
              " [5] \"EDAD_BIN_Adulto\"         \"EDAD_BIN_Anciano\"       \n",
              " [7] \"EDAD_BIN_Joven\"          \"EDAD_BIN_Niño\"          \n",
              " [9] \"ANALIZADOR_DXI800 num 1\" \"ANALIZADOR_DXI800 num 2\"\n",
              "[11] \"CODIGO_PRUEBA_CLC00033\"  \"CODIGO_PRUEBA_CLC00034\" \n",
              "[13] \"CODIGO_PRUEBA_CLC00061\"  \"CODIGO_PRUEBA_CLC00638\" \n",
              "[15] \"CODIGO_PRUEBA_CLC00805\"  \"CODIGO_PRUEBA_CLC00807\" \n",
              "[17] \"CODIGO_PRUEBA_CLC00811\"  \"CODIGO_PRUEBA_CLC00813\" \n",
              "[19] \"CODIGO_PRUEBA_CLC00814\"  \"CODIGO_PRUEBA_CLC00815\" \n",
              "[21] \"CODIGO_PRUEBA_CLC00816\"  \"CODIGO_PRUEBA_CLC00817\" \n",
              "[23] \"CODIGO_PRUEBA_CLC00820\"  \"CODIGO_PRUEBA_CLC00821\" \n",
              "[25] \"CODIGO_PRUEBA_CLC02816\"  \"CODIGO_PRUEBA_CLC11007\" \n",
              "[27] \"CODIGO_PRUEBA_CLC11015\"  \"CODIGO_PRUEBA_CLC11775\" \n",
              "[29] \"CODIGO_PRUEBA_CLC11797\"  \"CODIGO_PRUEBA_CLC11816\" \n",
              "[31] \"CODIGO_PRUEBA_CLC11837\"  \"CODIGO_PRUEBA_CLC11846\" \n",
              "[33] \"CODIGO_PRUEBA_CLC11854\"  \"CTRL\"                   "
            ]
          },
          "metadata": {}
        },
        {
          "output_type": "display_data",
          "data": {
            "text/html": [
              "34"
            ],
            "text/markdown": "34",
            "text/latex": "34",
            "text/plain": [
              "[1] 34"
            ]
          },
          "metadata": {}
        }
      ]
    },
    {
      "cell_type": "code",
      "execution_count": 49,
      "metadata": {
        "id": "eAOcJ4F8faIe"
      },
      "outputs": [],
      "source": [
        "train_data <- as.matrix(train_code$data[,-1])\n",
        "lookback <- 15\n",
        "batch_size <- 100\n",
        "delay <- 0\n",
        "min_index <- 0\n",
        "max_index <- nrow(train_data) - delay -1\n",
        "predseries <- ncol(train_data)\n",
        "\n",
        "\n",
        "train_k <-  create_lstm_data.1(\n",
        "    data = train_data,\n",
        "    lookback = lookback,\n",
        "    delay = delay,\n",
        "    batch_size = batch_size,\n",
        "    min_index = min_index,\n",
        "    max_index = max_index,\n",
        "    predseries = predseries)\n",
        "\n",
        "# Cálculo del número de steps de training:\n",
        "train_steps <- round((nrow(train_data)-lookback) / batch_size) "
      ]
    },
    {
      "cell_type": "code",
      "source": [
        "val_data <- as.matrix(val_code$data[,-1])\n",
        "\n",
        "val_k <-  create_lstm_data.1(\n",
        "    data = val_data,\n",
        "    lookback = lookback,\n",
        "    delay = delay,\n",
        "    batch_size = batch_size,\n",
        "    min_index = min_index,\n",
        "    max_index = max_index,\n",
        "    predseries = predseries)\n",
        "\n",
        "# Cálculo del número de steps de training:\n",
        "val_steps <- round((nrow(val_data)-lookback) / batch_size) "
      ],
      "metadata": {
        "id": "RHEp02bAtBn5"
      },
      "execution_count": 50,
      "outputs": []
    },
    {
      "cell_type": "code",
      "source": [
        "test_data <- as.matrix(test_code$data[,-1])\n",
        "\n",
        "test_k <-  create_lstm_data.1(\n",
        "    data = test_data,\n",
        "    lookback = lookback,\n",
        "    delay = delay,\n",
        "    batch_size = batch_size,\n",
        "    min_index = min_index,\n",
        "    max_index = max_index,\n",
        "    predseries = predseries)\n",
        "\n",
        "\n",
        "# Cálculo del número de steps de training:\n",
        "test_steps <- round((nrow(test_data)-lookback) / batch_size) "
      ],
      "metadata": {
        "id": "X0s9w8detI-X"
      },
      "execution_count": 51,
      "outputs": []
    },
    {
      "cell_type": "markdown",
      "source": [
        "# Definición del modelo de Machine Learning. Red Neuronal Recurrente LSTM (Long-short term memory)."
      ],
      "metadata": {
        "id": "LK8IQf2jrmXe"
      }
    },
    {
      "cell_type": "markdown",
      "source": [
        "## Métricas\n"
      ],
      "metadata": {
        "id": "cICQrkDgjNFL"
      }
    },
    {
      "cell_type": "code",
      "source": [
        "# Funciones para calcular precisión, recall y F1 como métricas para los modelos:\n",
        "  \n",
        "  K <- backend()\n",
        "\n",
        "  precision <- function(y_true, y_pred) {\n",
        "    # Verdaderos positivos: \n",
        "    true_positives <- sum(K$round(K$clip(y_true * y_pred, 0, 1)))\n",
        "    \n",
        "    # Posibles positivos: \n",
        "    possible_positives <- sum(K$round(K$clip(y_true, 0, 1)))\n",
        "    \n",
        "    # Positivos predichos:\n",
        "    predicted_positives <- sum(K$round(K$clip(y_pred, 0, 1)))\n",
        "    \n",
        "    # Precisión: \n",
        "    precision <- true_positives / (predicted_positives + K$epsilon())\n",
        "    \n",
        "  return(precision)\n",
        "  }\n",
        "  \n",
        "  recall <- function(y_true, y_pred) {\n",
        "    # Verdaderos positivos: \n",
        "    true_positives <- sum(K$round(K$clip(y_true * y_pred, 0, 1)))\n",
        "    \n",
        "    # Posibles positivos: \n",
        "    possible_positives <- sum(K$round(K$clip(y_true, 0, 1)))\n",
        "    \n",
        "    # Recall:\n",
        "    recall <- true_positives / (possible_positives + K$epsilon())\n",
        "    \n",
        "  return(recall)\n",
        "}\n",
        "\n",
        "  f1_score <- function(y_true, y_pred) {\n",
        "    # Verdaderos positivos: \n",
        "    true_positives <- sum(K$round(K$clip(y_true * y_pred, 0, 1)))\n",
        "    \n",
        "    # Posibles positivos: \n",
        "    possible_positives <- sum(K$round(K$clip(y_true, 0, 1)))\n",
        "    \n",
        "    # Positivos predichos:\n",
        "    predicted_positives <- sum(K$round(K$clip(y_pred, 0, 1)))\n",
        "    \n",
        "    # Precisión: \n",
        "    precision <- true_positives / (predicted_positives + K$epsilon())\n",
        "    \n",
        "    # Recall:\n",
        "    recall <- true_positives / (possible_positives + K$epsilon())\n",
        "    \n",
        "    # F1 score:\n",
        "    f1_score <- 2 * precision * recall / (precision + recall +\n",
        "                                            K$epsilon())\n",
        "  return(f1_score)\n",
        "}\n",
        "\n",
        "# Asignación de los nombres de las funciones como atributos py_function_name:\n",
        "\n",
        "attr(f1_score, \"py_function_name\") <- \"f1_score\"\n",
        "attr(precision, \"py_function_name\") <- \"precision\"\n",
        "attr(recall, \"py_function_name\") <- \"recall\""
      ],
      "metadata": {
        "id": "YX_n-pYdjLjZ"
      },
      "execution_count": 52,
      "outputs": []
    },
    {
      "cell_type": "markdown",
      "source": [
        "## Diseño del modelo"
      ],
      "metadata": {
        "id": "lRw0cxnvruBq"
      }
    },
    {
      "cell_type": "code",
      "source": [
        "set.seed(123)\n",
        "t <- train_k()\n",
        "nkp <- dim(t[[1]])\n",
        "\n",
        "k <- nkp[2]\n",
        "p <- nkp[3]\n",
        "\n",
        "input_shape <- c(NULL, k, p)\n",
        "\n",
        "\n",
        "model_1 <- keras_model_sequential() %>%\n",
        "  \n",
        "  #layer_masking(mask_value = -99999, input_shape = input_shape) %>%\n",
        " \n",
        "  layer_lstm(units = 8,\n",
        "            dropout = 0.2,\n",
        "             recurrent_dropout = 0.8,\n",
        "             return_sequences = T,\n",
        "             kernel_regularizer = regularizer_l2(l = 0.00001),\n",
        "             input_shape = c(NULL, k, p)\n",
        "             ) %>%\n",
        "  #layer_lstm(units = 8,\n",
        "   #          dropout = 0.5,\n",
        "    #         recurrent_dropout = 0.5,\n",
        "     #        return_sequences = T,\n",
        "             #stateful = T,\n",
        "             #kernel_regularizer = regularizer_l2(l = 0.001),\n",
        "             #batch_size = 1,\n",
        "             #input_shape = c(NULL, k, p)\n",
        "      #       ) %>%\n",
        "  # layer_conv_1d(filters = 34,\n",
        "       #         kernel_size = 3,\n",
        "        #        padding = \"same\",\n",
        "         #       activation = \"relu\",\n",
        "          #      input_shape = c(NULL, k, p)\n",
        "           #     ) %>%\n",
        "  layer_lstm(units = 8,\n",
        "             dropout = 0.3,\n",
        "             recurrent_dropout = 0.8,\n",
        "             return_sequences = T,\n",
        "             #stateful = T,\n",
        "             kernel_regularizer = regularizer_l2(l = 0.00001),\n",
        "             #batch_size = 1,\n",
        "             #input_shape = c(NULL, k, p)\n",
        "             ) %>%\n",
        "  #layer_lstm(units = 8,\n",
        "   #          dropout = 0.7,\n",
        "    #         recurrent_dropout = 0.5,\n",
        "     #        return_sequences = T,\n",
        "          #   kernel_regularizer = regularizer_l2(l = 0.0001),\n",
        "      #       input_shape = c(NULL, k, p)\n",
        "      #       ) %>%\n",
        "  #layer_max_pooling_1d(pool_size = 2) %>% \n",
        "  layer_conv_1d(filters = 8,\n",
        "                kernel_size = 3,\n",
        "                padding = \"same\",\n",
        "                activation = \"relu\"\n",
        "                ) %>%\n",
        "  layer_max_pooling_1d(pool_size = 3) %>%\n",
        "  \n",
        "  #layer_dense(units = 4,\n",
        "  #            activation = \"relu\")%>%\n",
        "  layer_flatten()%>%\n",
        "  layer_dense(units = 1, \n",
        "              activation = \"sigmoid\")\n",
        "  \n",
        "summary(model_1)"
      ],
      "metadata": {
        "colab": {
          "base_uri": "https://localhost:8080/"
        },
        "id": "c3xH6Z3SiqcJ",
        "outputId": "f060cbba-ceb5-480a-dd00-f08e08acc64f"
      },
      "execution_count": 98,
      "outputs": [
        {
          "output_type": "stream",
          "name": "stdout",
          "text": [
            "Model: \"sequential_20\"\n",
            "________________________________________________________________________________\n",
            " Layer (type)                       Output Shape                    Param #     \n",
            "================================================================================\n",
            " lstm_44 (LSTM)                     (None, 15, 8)                   1376        \n",
            " lstm_43 (LSTM)                     (None, 15, 8)                   544         \n",
            " conv1d_28 (Conv1D)                 (None, 15, 8)                   200         \n",
            " max_pooling1d_20 (MaxPooling1D)    (None, 5, 8)                    0           \n",
            " flatten_20 (Flatten)               (None, 40)                      0           \n",
            " dense_20 (Dense)                   (None, 1)                       41          \n",
            "================================================================================\n",
            "Total params: 2,161\n",
            "Trainable params: 2,161\n",
            "Non-trainable params: 0\n",
            "________________________________________________________________________________\n"
          ]
        }
      ]
    },
    {
      "cell_type": "markdown",
      "source": [
        "## Compilación y callbacks"
      ],
      "metadata": {
        "id": "Shvy3YRDsX_H"
      }
    },
    {
      "cell_type": "code",
      "source": [
        "model_1 %<>% compile(\n",
        "  optimizer = optimizer_adam(learning_rate = 0.00001),\n",
        "  #loss = \"binary_crossentropy\",\n",
        "  loss = loss_sigmoid_focal_crossentropy(alpha = 0.8, \n",
        "                                         gamma = 6, \n",
        "                                         reduction = tf$keras$losses$Reduction$AUTO),\n",
        "  metrics = list(\"binary_accuracy\",\n",
        "                 precision,\n",
        "                 recall,\n",
        "                 f1_score)\n",
        "  )\n",
        "   \n",
        "callbacks <- list(\n",
        "  callback_tensorboard(log_dir=file.path(resultsdir, \"run_a\"),\n",
        "                       #write_grads = T,\n",
        "                       histogram_freq = 1,\n",
        "                       update_freq = \"batch\",\n",
        "                       #write_images = T)\n",
        "                        ),\n",
        "  callback_model_checkpoint(file.path(resultsdir, \"lstm_1.keras\"),\n",
        "                           monitor= \"f1_score\", \n",
        "                           mode=\"max\",\n",
        "                           verbose=1,\n",
        "                           save_best_only = TRUE),\n",
        "  callback_reduce_lr_on_plateau(monitor = \"val_loss\", factor = 0.1,\n",
        "                                patience = 10, min_lr = 0.0000001),\n",
        "  callback_early_stopping(monitor = \"val_loss\", patience = 50,\n",
        "                          verbose = 1)\n",
        "  )\n",
        "\n"
      ],
      "metadata": {
        "id": "bI_xxLhHi2lx"
      },
      "execution_count": 100,
      "outputs": []
    },
    {
      "cell_type": "markdown",
      "source": [
        "## Entrenamiento"
      ],
      "metadata": {
        "id": "rSQY4mL_sjM-"
      }
    },
    {
      "cell_type": "code",
      "source": [
        "#tensorboard(file.path(resultsdir, \"run_a\"), port=8088)\n",
        "\n",
        "# tensorboard dev upload --logdir ./\n",
        "\n",
        "history_1 <- model_1 %>% fit_generator(\n",
        "  generator = train_k,\n",
        "  steps_per_epoch = train_steps,\n",
        "  epochs = 50,\n",
        "  validation_data = val_k,\n",
        "  validation_steps = val_steps,\n",
        "  callbacks = callbacks,\n",
        "  view_metrics = T\n",
        ")\n"
      ],
      "metadata": {
        "id": "6-j4p2eysjeJ",
        "colab": {
          "base_uri": "https://localhost:8080/"
        },
        "outputId": "e3cae929-40d2-4a4a-aca8-58d29720af61"
      },
      "execution_count": 101,
      "outputs": [
        {
          "output_type": "stream",
          "name": "stderr",
          "text": [
            "Warning message in fit_generator(., generator = train_k, steps_per_epoch = train_steps, :\n",
            "“`fit_generator` is deprecated. Use `fit` instead, it now accept generators.”\n"
          ]
        }
      ]
    },
    {
      "cell_type": "code",
      "source": [
        "plot(history_1)"
      ],
      "metadata": {
        "colab": {
          "base_uri": "https://localhost:8080/",
          "height": 437
        },
        "id": "7g6glA6-poUO",
        "outputId": "2a54af9b-8afb-4dbb-f65d-27e45f171d1d"
      },
      "execution_count": 102,
      "outputs": [
        {
          "output_type": "display_data",
          "data": {
            "text/plain": [
              "plot without title"
            ],
            "image/png": "[encoded data removed]"
          },
          "metadata": {
            "image/png": {
              "width": 420,
              "height": 420
            }
          }
        }
      ]
    },
    {
      "cell_type": "code",
      "source": [
        "dim(train_gen()[[1]])"
      ],
      "metadata": {
        "colab": {
          "base_uri": "https://localhost:8080/",
          "height": 34
        },
        "id": "zQ9ARSuMP1fb",
        "outputId": "8abc3e0e-6138-44e0-94fa-0f982411d832"
      },
      "execution_count": null,
      "outputs": [
        {
          "output_type": "display_data",
          "data": {
            "text/html": [
              "<style>\n",
              ".list-inline {list-style: none; margin:0; padding: 0}\n",
              ".list-inline>li {display: inline-block}\n",
              ".list-inline>li:not(:last-child)::after {content: \"\\00b7\"; padding: 0 .5ex}\n",
              "</style>\n",
              "<ol class=list-inline><li>23</li><li>20</li><li>34</li></ol>\n"
            ],
            "text/markdown": "1. 23\n2. 20\n3. 34\n\n\n",
            "text/latex": "\\begin{enumerate*}\n\\item 23\n\\item 20\n\\item 34\n\\end{enumerate*}\n",
            "text/plain": [
              "[1] 23 20 34"
            ]
          },
          "metadata": {}
        }
      ]
    },
    {
      "cell_type": "markdown",
      "source": [
        "## Evaluación del modelo"
      ],
      "metadata": {
        "id": "F0vpkJbdsp-r"
      }
    },
    {
      "cell_type": "code",
      "source": [
        "set.seed(123)\n",
        "\n",
        "# Evaluación del modelo:\n",
        "path <- file.path(resultsdir, \"lstm_1.keras\")\n",
        "\n",
        "model <- load_model_hdf5(path, \n",
        "                         custom_objects = \n",
        "                           list(\"f1_score\" = f1_score,\n",
        "                                \"precision\" = precision,\n",
        "                                \"recall\" = recall),\n",
        "                                 compile = T) \n",
        "\n",
        "evaluation_result <- evaluate(model, test_k, steps = test_steps)\n",
        "\n",
        "# Obtener el nombre de las métricas\n",
        "metric_names <- names(evaluation_result)\n",
        "\n",
        "# Crear un vector para almacenar los resultados\n",
        "evaluation_results <- length(metric_names)\n",
        "\n",
        "# Almacenar los resultados en el vector\n",
        "for (i in 1:length(metric_names)) {\n",
        "  evaluation_results[i] <- evaluation_result[[i]]\n",
        "}\n"
      ],
      "metadata": {
        "id": "Eax-jblQsqMN"
      },
      "execution_count": 30,
      "outputs": []
    },
    {
      "cell_type": "markdown",
      "source": [
        "## Cálculo de la línea base de sentido común:\n",
        "Calcula la exactitud mínima del modelo, basada en la predicción de todos los casos con el target más frecuente"
      ],
      "metadata": {
        "id": "D-tEFAvQs2Mo"
      }
    },
    {
      "cell_type": "code",
      "source": [
        "# Función para calcular la exactitud mínima del modelo, basada en la predicción de todos los casos con el target más frecuente\n",
        "\n",
        "evaluate_naive_method <- function(data_df, ctrl_colname) { \n",
        "  # Cálculo de la moda de CTRL:\n",
        "  ctrl_mode <- as.numeric(names(sort(table(\n",
        "    data_df[[ctrl_colname]]),\n",
        "    decreasing = TRUE)[1]))\n",
        "\n",
        "  # Cálculo de accuracy:\n",
        "  actual_ctrl <- data_df[[ctrl_colname]]\n",
        "  predicted_ctrl <- rep(ctrl_mode, length(actual_ctrl))\n",
        "  accuracy <- sum(actual_ctrl == predicted_ctrl) /\n",
        "    length(actual_ctrl)\n",
        "\n",
        "  accuracy\n",
        "}\n",
        "\n",
        "# Cálculo de accuracy basado en predecir con la moda:\n",
        "accuracy_train <- evaluate_naive_method(train_n$scaled_data, \"CTRL\")\n",
        "accuracy_val <- evaluate_naive_method(val_n, \"CTRL\")\n",
        "accuracy_test <- evaluate_naive_method(test_n, \"CTRL\")\n",
        "\n",
        "# Comparación con rendimiento obtenido:\n",
        "\n",
        "names(evaluation_results[3]) <- \"f1_score\"\n",
        "\n",
        "# Imprimir los resultados de evaluación:\n",
        "\n",
        "sink(file.path(resultsdir, \"modelgc_1_LSTM_onehot_samples.txt\"))\n",
        "\n",
        "for (i in 1:length(metric_names)) {\n",
        "  metric <- metric_names[i]\n",
        "  value <- evaluation_results[i]\n",
        "  cat(sprintf(\"%s: %f\\n\", metric, value))\n",
        "}\n",
        "\n",
        "sprintf(\"Training naive accuracy: %.2f\", accuracy_train)\n",
        "sprintf(\"Validation naive accuracy: %.2f\", accuracy_val)\n",
        "sprintf(\"Test naive accuracy: %.2f\", accuracy_val)\n",
        "\n",
        "# Cerrar el archivo de salida\n",
        "sink()"
      ],
      "metadata": {
        "id": "ZoIRFPB02Qiw",
        "outputId": "43bc17cb-6bd6-48b8-b9cb-02f4b2787f33",
        "colab": {
          "base_uri": "https://localhost:8080/",
          "height": 156
        }
      },
      "execution_count": 31,
      "outputs": [
        {
          "output_type": "stream",
          "name": "stdout",
          "text": [
            "loss: 0.617958\n",
            "binary_accuracy: 0.767655\n",
            "precision: 0.145645\n",
            "recall: 0.103474\n",
            "f1_score: 0.109635\n"
          ]
        },
        {
          "output_type": "display_data",
          "data": {
            "text/html": [
              "'Training naive accuracy: 0.95'"
            ],
            "text/markdown": "'Training naive accuracy: 0.95'",
            "text/latex": "'Training naive accuracy: 0.95'",
            "text/plain": [
              "[1] \"Training naive accuracy: 0.95\""
            ]
          },
          "metadata": {}
        },
        {
          "output_type": "display_data",
          "data": {
            "text/html": [
              "'Validation naive accuracy: 0.95'"
            ],
            "text/markdown": "'Validation naive accuracy: 0.95'",
            "text/latex": "'Validation naive accuracy: 0.95'",
            "text/plain": [
              "[1] \"Validation naive accuracy: 0.95\""
            ]
          },
          "metadata": {}
        },
        {
          "output_type": "display_data",
          "data": {
            "text/html": [
              "'Test naive accuracy: 0.95'"
            ],
            "text/markdown": "'Test naive accuracy: 0.95'",
            "text/latex": "'Test naive accuracy: 0.95'",
            "text/plain": [
              "[1] \"Test naive accuracy: 0.95\""
            ]
          },
          "metadata": {}
        }
      ]
    },
    {
      "cell_type": "markdown",
      "source": [
        "## Evaluación por técnica"
      ],
      "metadata": {
        "id": "xfPYE5GZBc8R"
      }
    },
    {
      "cell_type": "code",
      "source": [
        "# Función para seleccionar los índices en test_indx que corresponden a una combinación determinada de CODIGO_PRUEBA, Y ANALIZADOR. Usa el argumento n según la estructura de datos en función de si hay wavelets o no:\n",
        "\n",
        "n <- 11 # Sin wavelets ni analizador\n",
        "\n",
        "index_select <- function(n, clc) {\n",
        "  \n",
        "  # Conversión de las variables introducidas en índice:\n",
        "  \n",
        "  col_clc <- which(grepl(clc, names(test_indx)))-n\n",
        "  #col_anal <- which(grepl(anal, names(test_indx)))-n\n",
        "  pos <- list(col_clc)#, col_anal)\n",
        "  \n",
        "  code <- rep(0, length(categorical_vars+2))\n",
        "  \n",
        "  for (i in seq_along(pos)) {\n",
        "    code[pos[[i]]] <- 1 \n",
        "  }\n",
        "  code <- paste0(as.character(code), collapse = \"\")\n",
        "  \n",
        "  index <- code_dictionary$index[match(code,\n",
        "                                       code_dictionary$code)]\n",
        "  print(index)\n",
        "  return(index)\n",
        "  \n",
        "}\n",
        "index_pred <- c(1, 2)\n",
        "#index_pred <- index_select(n)\n",
        "\n",
        "  test_pred <- lapply(index_pred, function(idx) {\n",
        "    create_lstm_data.1(\n",
        "      data = as.matrix(test_indx[test_indx[,\"index\"] == idx,\n",
        "                                 -c(1, length(test_indx))]),\n",
        "      lookback = lookback,\n",
        "      delay = delay,\n",
        "      batch_size = batch_size,\n",
        "      min_index = min_index,\n",
        "      max_index = \n",
        "      nrow(as.matrix(test_indx[test_indx[,\"index\"] == idx,]))-delay-1,\n",
        "      predseries = predseries)\n",
        "  }\n",
        "  )\n"
      ],
      "metadata": {
        "id": "8J-kBAU93TKF",
        "outputId": "ecff0c05-bfce-4e50-de0e-8b8d583ae749",
        "colab": {
          "base_uri": "https://localhost:8080/",
          "height": 356
        }
      },
      "execution_count": 32,
      "outputs": [
        {
          "output_type": "error",
          "ename": "ERROR",
          "evalue": "ignored",
          "traceback": [
            "Error in FUN(X[[i]], ...): object 'test_indx' not found\nTraceback:\n",
            "1. lapply(index_pred, function(idx) {\n .     create_lstm_data.1(data = as.matrix(test_indx[test_indx[, \n .         \"index\"] == idx, -c(1, length(test_indx))]), lookback = lookback, \n .         delay = delay, batch_size = batch_size, min_index = min_index, \n .         max_index = nrow(as.matrix(test_indx[test_indx[, \"index\"] == \n .             idx, ])) - delay - 1, predseries = predseries)\n . })",
            "2. FUN(X[[i]], ...)",
            "3. create_lstm_data.1(data = as.matrix(test_indx[test_indx[, \"index\"] == \n .     idx, -c(1, length(test_indx))]), lookback = lookback, delay = delay, \n .     batch_size = batch_size, min_index = min_index, max_index = nrow(as.matrix(test_indx[test_indx[, \n .         \"index\"] == idx, ])) - delay - 1, predseries = predseries)   # at line 30-39 of file <text>",
            "4. nrow(as.matrix(test_indx[test_indx[, \"index\"] == idx, ]))   # at line 6 of file <text>",
            "5. as.matrix(test_indx[test_indx[, \"index\"] == idx, ])"
          ]
        }
      ]
    },
    {
      "cell_type": "code",
      "source": [
        "# Obtener las series y sus predicciones utilizando la función generadora de tests por categorías y obtener la predicción del modelo:\n",
        "x <- test_pred[[1]]()[[1]]\n",
        "y_pred <- predict(model, x, probability = T)\n",
        "y_true <- test_pred[[1]]()[[2]]\n",
        "\n",
        "preds <- prediction(as.vector(y_pred), as.vector(y_true))\n",
        "perf <- performance(preds, \"tpr\",\"fpr\")\n",
        "\n",
        "roc(as.vector(y_true), as.vector(y_pred), plot = TRUE, \n",
        "    legacy.axes = TRUE,\n",
        "    percent = TRUE, xlab = \"Porcentaje Falsos positivos\",\n",
        "    ylab = \"Porcentaje verdaderos postivios\", col = \"#377eb8\", lwd = 2,\n",
        "    print.auc = TRUE)"
      ],
      "metadata": {
        "id": "1WU_LE295WDD",
        "outputId": "17b3605b-8faf-425e-f39c-c54671b0ba16",
        "colab": {
          "base_uri": "https://localhost:8080/",
          "height": 165
        }
      },
      "execution_count": null,
      "outputs": [
        {
          "output_type": "error",
          "ename": "ERROR",
          "evalue": "ignored",
          "traceback": [
            "Error in prediction(as.vector(y_pred), as.vector(y_true)): Number of classes is not equal to 2.\nROCR currently supports only evaluation of binary classification tasks.\nTraceback:\n",
            "1. prediction(as.vector(y_pred), as.vector(y_true))",
            "2. stop(message)"
          ]
        }
      ]
    },
    {
      "cell_type": "code",
      "source": [
        "p"
      ],
      "metadata": {
        "id": "e1jBmDjwk5uk",
        "outputId": "6f88e3cb-7777-4a56-ac8e-35ed843cb9b0",
        "colab": {
          "base_uri": "https://localhost:8080/",
          "height": 34
        }
      },
      "execution_count": 80,
      "outputs": [
        {
          "output_type": "display_data",
          "data": {
            "text/html": [
              "34"
            ],
            "text/markdown": "34",
            "text/latex": "34",
            "text/plain": [
              "[1] 34"
            ]
          },
          "metadata": {}
        }
      ]
    }
  ],
  "metadata": {
    "colab": {
      "provenance": [],
      "gpuType": "T4",
      "include_colab_link": true
    },
    "gpuClass": "standard",
    "kernelspec": {
      "display_name": "R",
      "name": "ir"
    },
    "language_info": {
      "name": "R"
    },
    "accelerator": "GPU"
  },
  "nbformat": 4,
  "nbformat_minor": 0
}