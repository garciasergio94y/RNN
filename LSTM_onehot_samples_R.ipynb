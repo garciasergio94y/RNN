{
  "cells": [
    {
      "cell_type": "markdown",
      "metadata": {
        "id": "view-in-github",
        "colab_type": "text"
      },
      "source": [
        "<a href=\"https://colab.research.google.com/github/garciasergio94y/TFM/blob/LSTM_onehot_samples/LSTM_onehot_samples_R.ipynb\" target=\"_parent\"><img src=\"https://colab.research.google.com/assets/colab-badge.svg\" alt=\"Open In Colab\"/></a>"
      ]
    },
    {
      "cell_type": "code",
      "execution_count": 1,
      "metadata": {
        "id": "fcKncLefo322",
        "colab": {
          "base_uri": "https://localhost:8080/",
          "height": 1000
        },
        "outputId": "c99395f6-dbb5-47a8-a759-71fba9b09ebd"
      },
      "outputs": [
        {
          "output_type": "stream",
          "name": "stderr",
          "text": [
            "Loading required package: readr\n",
            "\n",
            "Loading required package: readxl\n",
            "\n",
            "Loading required package: purrr\n",
            "\n",
            "Loading required package: dplyr\n",
            "\n",
            "\n",
            "Attaching package: ‘dplyr’\n",
            "\n",
            "\n",
            "The following objects are masked from ‘package:stats’:\n",
            "\n",
            "    filter, lag\n",
            "\n",
            "\n",
            "The following objects are masked from ‘package:base’:\n",
            "\n",
            "    intersect, setdiff, setequal, union\n",
            "\n",
            "\n",
            "Loading required package: filesstrings\n",
            "\n",
            "Warning message in library(package, lib.loc = lib.loc, character.only = TRUE, logical.return = TRUE, :\n",
            "“there is no package called ‘filesstrings’”\n",
            "Installing package into ‘/usr/local/lib/R/site-library’\n",
            "(as ‘lib’ is unspecified)\n",
            "\n",
            "also installing the dependencies ‘checkmate’, ‘strex’\n",
            "\n",
            "\n",
            "Loading required package: stringr\n",
            "\n",
            "Loading required package: tidyr\n",
            "\n",
            "Loading required package: lubridate\n",
            "\n",
            "\n",
            "Attaching package: ‘lubridate’\n",
            "\n",
            "\n",
            "The following objects are masked from ‘package:base’:\n",
            "\n",
            "    date, intersect, setdiff, union\n",
            "\n",
            "\n",
            "Loading required package: ggplot2\n",
            "\n",
            "Loading required package: tictoc\n",
            "\n",
            "Warning message in library(package, lib.loc = lib.loc, character.only = TRUE, logical.return = TRUE, :\n",
            "“there is no package called ‘tictoc’”\n",
            "Installing package into ‘/usr/local/lib/R/site-library’\n",
            "(as ‘lib’ is unspecified)\n",
            "\n",
            "Loading required package: wavelets\n",
            "\n",
            "Warning message in library(package, lib.loc = lib.loc, character.only = TRUE, logical.return = TRUE, :\n",
            "“there is no package called ‘wavelets’”\n",
            "Installing package into ‘/usr/local/lib/R/site-library’\n",
            "(as ‘lib’ is unspecified)\n",
            "\n",
            "Loading required package: reticulate\n",
            "\n",
            "Warning message in library(package, lib.loc = lib.loc, character.only = TRUE, logical.return = TRUE, :\n",
            "“there is no package called ‘reticulate’”\n",
            "Installing package into ‘/usr/local/lib/R/site-library’\n",
            "(as ‘lib’ is unspecified)\n",
            "\n",
            "also installing the dependencies ‘Rcpp’, ‘RcppTOML’, ‘here’, ‘png’\n",
            "\n",
            "\n",
            "Loading required package: abind\n",
            "\n",
            "Warning message in library(package, lib.loc = lib.loc, character.only = TRUE, logical.return = TRUE, :\n",
            "“there is no package called ‘abind’”\n",
            "Installing package into ‘/usr/local/lib/R/site-library’\n",
            "(as ‘lib’ is unspecified)\n",
            "\n",
            "Loading required package: tensorflow\n",
            "\n",
            "Warning message in library(package, lib.loc = lib.loc, character.only = TRUE, logical.return = TRUE, :\n",
            "“there is no package called ‘tensorflow’”\n",
            "Installing package into ‘/usr/local/lib/R/site-library’\n",
            "(as ‘lib’ is unspecified)\n",
            "\n",
            "also installing the dependencies ‘config’, ‘tfruns’, ‘tfautograph’\n",
            "\n",
            "\n",
            "Loading required package: tfdatasets\n",
            "\n",
            "Warning message in library(package, lib.loc = lib.loc, character.only = TRUE, logical.return = TRUE, :\n",
            "“there is no package called ‘tfdatasets’”\n",
            "Installing package into ‘/usr/local/lib/R/site-library’\n",
            "(as ‘lib’ is unspecified)\n",
            "\n",
            "Loading required package: keras\n",
            "\n",
            "Warning message in library(package, lib.loc = lib.loc, character.only = TRUE, logical.return = TRUE, :\n",
            "“there is no package called ‘keras’”\n",
            "Installing package into ‘/usr/local/lib/R/site-library’\n",
            "(as ‘lib’ is unspecified)\n",
            "\n",
            "also installing the dependency ‘zeallot’\n",
            "\n",
            "\n"
          ]
        },
        {
          "output_type": "display_data",
          "data": {
            "text/html": [
              "<ol>\n",
              "\t<li>NULL</li>\n",
              "\t<li>NULL</li>\n",
              "\t<li>NULL</li>\n",
              "\t<li>NULL</li>\n",
              "\t<li>NULL</li>\n",
              "\t<li>NULL</li>\n",
              "\t<li>NULL</li>\n",
              "\t<li>NULL</li>\n",
              "\t<li>NULL</li>\n",
              "\t<li>NULL</li>\n",
              "\t<li>NULL</li>\n",
              "\t<li>NULL</li>\n",
              "\t<li>NULL</li>\n",
              "\t<li>NULL</li>\n",
              "\t<li>NULL</li>\n",
              "\t<li>NULL</li>\n",
              "</ol>\n"
            ],
            "text/markdown": "1. NULL\n2. NULL\n3. NULL\n4. NULL\n5. NULL\n6. NULL\n7. NULL\n8. NULL\n9. NULL\n10. NULL\n11. NULL\n12. NULL\n13. NULL\n14. NULL\n15. NULL\n16. NULL\n\n\n",
            "text/latex": "\\begin{enumerate}\n\\item NULL\n\\item NULL\n\\item NULL\n\\item NULL\n\\item NULL\n\\item NULL\n\\item NULL\n\\item NULL\n\\item NULL\n\\item NULL\n\\item NULL\n\\item NULL\n\\item NULL\n\\item NULL\n\\item NULL\n\\item NULL\n\\end{enumerate}\n",
            "text/plain": [
              "[[1]]\n",
              "NULL\n",
              "\n",
              "[[2]]\n",
              "NULL\n",
              "\n",
              "[[3]]\n",
              "NULL\n",
              "\n",
              "[[4]]\n",
              "NULL\n",
              "\n",
              "[[5]]\n",
              "NULL\n",
              "\n",
              "[[6]]\n",
              "NULL\n",
              "\n",
              "[[7]]\n",
              "NULL\n",
              "\n",
              "[[8]]\n",
              "NULL\n",
              "\n",
              "[[9]]\n",
              "NULL\n",
              "\n",
              "[[10]]\n",
              "NULL\n",
              "\n",
              "[[11]]\n",
              "NULL\n",
              "\n",
              "[[12]]\n",
              "NULL\n",
              "\n",
              "[[13]]\n",
              "NULL\n",
              "\n",
              "[[14]]\n",
              "NULL\n",
              "\n",
              "[[15]]\n",
              "NULL\n",
              "\n",
              "[[16]]\n",
              "NULL\n"
            ]
          },
          "metadata": {}
        },
        {
          "output_type": "stream",
          "name": "stderr",
          "text": [
            "Loading required package: filesstrings\n",
            "\n",
            "\n",
            "Attaching package: ‘filesstrings’\n",
            "\n",
            "\n",
            "The following object is masked from ‘package:dplyr’:\n",
            "\n",
            "    all_equal\n",
            "\n",
            "\n",
            "Loading required package: wavelets\n",
            "\n",
            "Loading required package: tictoc\n",
            "\n",
            "Loading required package: reticulate\n",
            "\n",
            "Loading required package: abind\n",
            "\n",
            "Loading required package: tensorflow\n",
            "\n",
            "Loading required package: tfdatasets\n",
            "\n",
            "Loading required package: keras\n",
            "\n"
          ]
        }
      ],
      "source": [
        "# Instalación y carga de librerías:\n",
        "\n",
        "packages <- c(\"readr\", \"readxl\", \"purrr\", \"dplyr\", \"filesstrings\",\n",
        "              \"stringr\", \"tidyr\", \"lubridate\", \"ggplot2\",\n",
        "              \"tictoc\", \"wavelets\", \"reticulate\", \"abind\",\n",
        "              \"tensorflow\", \"tfdatasets\", \"keras\")\n",
        "\n",
        "# Función para instalar paquetes si no están ya instalados\n",
        "install_packages <- function(package) {\n",
        "  if (!require(package, character.only = TRUE)) {\n",
        "    install.packages(package)\n",
        "    }\n",
        "}\n",
        "\n",
        "# Aplicar la función para cada uno de los paquetes\n",
        "lapply(packages, install_packages)\n",
        "\n",
        "require(readr)\n",
        "require(readxl)\n",
        "require(purrr)\n",
        "require(dplyr)\n",
        "require(filesstrings)\n",
        "require(stringr)\n",
        "require(tidyr)\n",
        "require(lubridate)\n",
        "require(ggplot2)\n",
        "#require(caret)\n",
        "require(wavelets)\n",
        "require(tictoc)\n",
        "require(reticulate)\n",
        "require(abind)\n",
        "require(tensorflow)\n",
        "require(tfdatasets)\n",
        "require(keras)\n"
      ]
    },
    {
      "cell_type": "code",
      "source": [
        "workingdir <- getwd()\n",
        "datadir <- file.path(workingdir, \"Datos/daily_s\")\n",
        "eventdir <- file.path(workingdir, \"Datos/daily_s/Event\")\n",
        "eventdir_old <- file.path(workingdir, \"Datos/daily_s/Event/old\")\n",
        "lotdir <- file.path(workingdir, \"Datos/daily_s/Lot\")\n",
        "lotdir_old <- file.path(workingdir, \"Datos/daily_s/Lot/old\")\n",
        "qcdir <- file.path(workingdir, \"Datos/daily_s/qc\")\n",
        "qcdir_old <- file.path(workingdir, \"Datos/daily_s/qc/old\")\n",
        "resultsdir <- file.path(workingdir, \"Resultados\")\n",
        "figuresdir <- file.path(workingdir, \"Resultados/Figuras\")"
      ],
      "metadata": {
        "id": "CmX65urDjO83"
      },
      "execution_count": 2,
      "outputs": []
    },
    {
      "cell_type": "code",
      "execution_count": null,
      "metadata": {
        "id": "XM3iSvsm8ZNO",
        "colab": {
          "base_uri": "https://localhost:8080/",
          "height": 69
        },
        "outputId": "b9dc829e-841e-4d04-af84-556520379d70"
      },
      "outputs": [
        {
          "output_type": "stream",
          "name": "stdout",
          "text": [
            "TensorFlow built with CUDA:  TRUE \n",
            "GPU device name:  /device:GPU:0"
          ]
        },
        {
          "output_type": "display_data",
          "data": {
            "text/html": [
              "TRUE"
            ],
            "text/markdown": "TRUE",
            "text/latex": "TRUE",
            "text/plain": [
              "[1] TRUE"
            ]
          },
          "metadata": {}
        }
      ],
      "source": [
        "tensorflow::tf_gpu_configured()"
      ]
    },
    {
      "cell_type": "markdown",
      "source": [
        "Lectura de archivos de datos"
      ],
      "metadata": {
        "id": "iGT314P3vtdx"
      }
    },
    {
      "cell_type": "code",
      "execution_count": 5,
      "metadata": {
        "id": "8EhDKsGXewWe",
        "colab": {
          "base_uri": "https://localhost:8080/"
        },
        "outputId": "ea22aeba-1b71-4d1b-af6b-06265259c49a"
      },
      "outputs": [
        {
          "output_type": "stream",
          "name": "stderr",
          "text": [
            "Warning message in write.csv(data_sel_tr, file = \"data_sel_tr\", row.names = F, col.names = F):\n",
            "“attempt to set 'col.names' ignored”\n"
          ]
        }
      ],
      "source": [
        "# Leer archivo dataset desde Github:\n",
        "url <- \"https://raw.githubusercontent.com/garciasergio94y/TFM/LSTM_onehot_samples/Resultados/data_sel_tr?token=GHSAT0AAAAAACDFXH5LBAIBLHCLYSTELJJOZDSEDBQ\"\n",
        "data_sel_tr <- read.csv(url)\n",
        "\n",
        "# Guardar una copia local:\n",
        "write.csv(data_sel_tr, file = \"data_sel_tr\", row.names = F, col.names = F) \n"
      ]
    },
    {
      "cell_type": "code",
      "execution_count": 7,
      "metadata": {
        "id": "ABzL8R-64mKf",
        "colab": {
          "base_uri": "https://localhost:8080/",
          "height": 410
        },
        "outputId": "1c1524fc-2077-4979-f6b6-76faa49369bb"
      },
      "outputs": [
        {
          "output_type": "display_data",
          "data": {
            "text/html": [
              "<table class=\"dataframe\">\n",
              "<caption>A data.frame: 6 × 25</caption>\n",
              "<thead>\n",
              "\t<tr><th></th><th scope=col>TIEMPO_MUESTRA</th><th scope=col>RESULTADO</th><th scope=col>W1</th><th scope=col>W2</th><th scope=col>W3</th><th scope=col>W4</th><th scope=col>W5</th><th scope=col>W6</th><th scope=col>W7</th><th scope=col>W8</th><th scope=col>⋯</th><th scope=col>V5</th><th scope=col>V6</th><th scope=col>V7</th><th scope=col>V8</th><th scope=col>V9</th><th scope=col>PACIENTE_SEXO</th><th scope=col>EDAD_BIN</th><th scope=col>ANALIZADOR</th><th scope=col>CODIGO_PRUEBA</th><th scope=col>CTRL</th></tr>\n",
              "\t<tr><th></th><th scope=col>&lt;dttm&gt;</th><th scope=col>&lt;dbl&gt;</th><th scope=col>&lt;dbl&gt;</th><th scope=col>&lt;dbl&gt;</th><th scope=col>&lt;dbl&gt;</th><th scope=col>&lt;dbl&gt;</th><th scope=col>&lt;dbl&gt;</th><th scope=col>&lt;dbl&gt;</th><th scope=col>&lt;dbl&gt;</th><th scope=col>&lt;dbl&gt;</th><th scope=col>⋯</th><th scope=col>&lt;dbl&gt;</th><th scope=col>&lt;dbl&gt;</th><th scope=col>&lt;dbl&gt;</th><th scope=col>&lt;dbl&gt;</th><th scope=col>&lt;dbl&gt;</th><th scope=col>&lt;chr&gt;</th><th scope=col>&lt;chr&gt;</th><th scope=col>&lt;chr&gt;</th><th scope=col>&lt;chr&gt;</th><th scope=col>&lt;int&gt;</th></tr>\n",
              "</thead>\n",
              "<tbody>\n",
              "\t<tr><th scope=row>1</th><td>2022-07-01 23:43:01</td><td>0.128</td><td> 0.1330702</td><td>-0.48218981</td><td>0.4076077</td><td>-0.085139907</td><td> 2.296534e-01</td><td> 5.265680e-01</td><td>    -1.301906</td><td>     1.159744</td><td>⋯</td><td> 3.164701e-01</td><td>    -2.276030</td><td>     1.524866</td><td>     2.401652</td><td>-99999</td><td>M</td><td>Adulto </td><td>DXI800 num 1</td><td>CLC00638</td><td>0</td></tr>\n",
              "\t<tr><th scope=row>2</th><td>2022-07-01 23:34:01</td><td>0.045</td><td> 0.0398048</td><td>-0.12198745</td><td>0.3524334</td><td>-0.054897129</td><td> 2.381541e-01</td><td> 5.217751e-01</td><td>    -1.355061</td><td>     1.106987</td><td>⋯</td><td> 3.555069e-01</td><td>    -2.270413</td><td>     1.516775</td><td>     2.386019</td><td>-99999</td><td>F</td><td>Anciano</td><td>DXI800 num 1</td><td>CLC00638</td><td>0</td></tr>\n",
              "\t<tr><th scope=row>3</th><td>2022-07-01 02:16:09</td><td>2.400</td><td> 2.3343280</td><td> 0.40777892</td><td>6.3948257</td><td> 0.170757979</td><td>-9.999900e+04</td><td>-9.999900e+04</td><td>-99999.000000</td><td>-99999.000000</td><td>⋯</td><td>-9.999900e+04</td><td>-99999.000000</td><td>-99999.000000</td><td>-99999.000000</td><td>-99999</td><td>M</td><td>Anciano</td><td>DXI800 num 2</td><td>CLC00544</td><td>0</td></tr>\n",
              "\t<tr><th scope=row>4</th><td>2022-07-01 23:43:01</td><td>0.128</td><td> 0.3011685</td><td> 0.08686758</td><td>0.2372284</td><td> 0.003601688</td><td> 2.412237e-01</td><td> 5.199918e-01</td><td>    -1.406706</td><td>     1.053865</td><td>⋯</td><td> 3.967966e-01</td><td>    -2.256904</td><td>     1.508809</td><td>     2.370393</td><td>-99999</td><td>M</td><td>Adulto </td><td>DXI800 num 1</td><td>CLC00638</td><td>0</td></tr>\n",
              "\t<tr><th scope=row>5</th><td>2022-07-01 23:34:01</td><td>0.045</td><td>-0.4250092</td><td> 0.02542740</td><td>0.1287398</td><td> 0.088017741</td><td> 2.374190e-01</td><td> 5.214336e-01</td><td>    -1.456832</td><td>     1.000413</td><td>⋯</td><td> 4.401376e-01</td><td>    -2.235242</td><td>     1.500968</td><td>     2.354775</td><td>-99999</td><td>F</td><td>Anciano</td><td>DXI800 num 1</td><td>CLC00638</td><td>0</td></tr>\n",
              "\t<tr><th scope=row>6</th><td>2022-07-01 02:16:09</td><td>2.400</td><td> 3.3719282</td><td> 0.12079282</td><td>4.3254634</td><td>-0.097094162</td><td>-9.999900e+04</td><td>-9.999900e+04</td><td>-99999.000000</td><td>-99999.000000</td><td>⋯</td><td>-9.999900e+04</td><td>-99999.000000</td><td>-99999.000000</td><td>-99999.000000</td><td>-99999</td><td>M</td><td>Anciano</td><td>DXI800 num 2</td><td>CLC00544</td><td>0</td></tr>\n",
              "</tbody>\n",
              "</table>\n"
            ],
            "text/markdown": "\nA data.frame: 6 × 25\n\n| <!--/--> | TIEMPO_MUESTRA &lt;dttm&gt; | RESULTADO &lt;dbl&gt; | W1 &lt;dbl&gt; | W2 &lt;dbl&gt; | W3 &lt;dbl&gt; | W4 &lt;dbl&gt; | W5 &lt;dbl&gt; | W6 &lt;dbl&gt; | W7 &lt;dbl&gt; | W8 &lt;dbl&gt; | ⋯ ⋯ | V5 &lt;dbl&gt; | V6 &lt;dbl&gt; | V7 &lt;dbl&gt; | V8 &lt;dbl&gt; | V9 &lt;dbl&gt; | PACIENTE_SEXO &lt;chr&gt; | EDAD_BIN &lt;chr&gt; | ANALIZADOR &lt;chr&gt; | CODIGO_PRUEBA &lt;chr&gt; | CTRL &lt;int&gt; |\n|---|---|---|---|---|---|---|---|---|---|---|---|---|---|---|---|---|---|---|---|---|---|\n| 1 | 2022-07-01 23:43:01 | 0.128 |  0.1330702 | -0.48218981 | 0.4076077 | -0.085139907 |  2.296534e-01 |  5.265680e-01 |     -1.301906 |      1.159744 | ⋯ |  3.164701e-01 |     -2.276030 |      1.524866 |      2.401652 | -99999 | M | Adulto  | DXI800 num 1 | CLC00638 | 0 |\n| 2 | 2022-07-01 23:34:01 | 0.045 |  0.0398048 | -0.12198745 | 0.3524334 | -0.054897129 |  2.381541e-01 |  5.217751e-01 |     -1.355061 |      1.106987 | ⋯ |  3.555069e-01 |     -2.270413 |      1.516775 |      2.386019 | -99999 | F | Anciano | DXI800 num 1 | CLC00638 | 0 |\n| 3 | 2022-07-01 02:16:09 | 2.400 |  2.3343280 |  0.40777892 | 6.3948257 |  0.170757979 | -9.999900e+04 | -9.999900e+04 | -99999.000000 | -99999.000000 | ⋯ | -9.999900e+04 | -99999.000000 | -99999.000000 | -99999.000000 | -99999 | M | Anciano | DXI800 num 2 | CLC00544 | 0 |\n| 4 | 2022-07-01 23:43:01 | 0.128 |  0.3011685 |  0.08686758 | 0.2372284 |  0.003601688 |  2.412237e-01 |  5.199918e-01 |     -1.406706 |      1.053865 | ⋯ |  3.967966e-01 |     -2.256904 |      1.508809 |      2.370393 | -99999 | M | Adulto  | DXI800 num 1 | CLC00638 | 0 |\n| 5 | 2022-07-01 23:34:01 | 0.045 | -0.4250092 |  0.02542740 | 0.1287398 |  0.088017741 |  2.374190e-01 |  5.214336e-01 |     -1.456832 |      1.000413 | ⋯ |  4.401376e-01 |     -2.235242 |      1.500968 |      2.354775 | -99999 | F | Anciano | DXI800 num 1 | CLC00638 | 0 |\n| 6 | 2022-07-01 02:16:09 | 2.400 |  3.3719282 |  0.12079282 | 4.3254634 | -0.097094162 | -9.999900e+04 | -9.999900e+04 | -99999.000000 | -99999.000000 | ⋯ | -9.999900e+04 | -99999.000000 | -99999.000000 | -99999.000000 | -99999 | M | Anciano | DXI800 num 2 | CLC00544 | 0 |\n\n",
            "text/latex": "A data.frame: 6 × 25\n\\begin{tabular}{r|lllllllllllllllllllll}\n  & TIEMPO\\_MUESTRA & RESULTADO & W1 & W2 & W3 & W4 & W5 & W6 & W7 & W8 & ⋯ & V5 & V6 & V7 & V8 & V9 & PACIENTE\\_SEXO & EDAD\\_BIN & ANALIZADOR & CODIGO\\_PRUEBA & CTRL\\\\\n  & <dttm> & <dbl> & <dbl> & <dbl> & <dbl> & <dbl> & <dbl> & <dbl> & <dbl> & <dbl> & ⋯ & <dbl> & <dbl> & <dbl> & <dbl> & <dbl> & <chr> & <chr> & <chr> & <chr> & <int>\\\\\n\\hline\n\t1 & 2022-07-01 23:43:01 & 0.128 &  0.1330702 & -0.48218981 & 0.4076077 & -0.085139907 &  2.296534e-01 &  5.265680e-01 &     -1.301906 &      1.159744 & ⋯ &  3.164701e-01 &     -2.276030 &      1.524866 &      2.401652 & -99999 & M & Adulto  & DXI800 num 1 & CLC00638 & 0\\\\\n\t2 & 2022-07-01 23:34:01 & 0.045 &  0.0398048 & -0.12198745 & 0.3524334 & -0.054897129 &  2.381541e-01 &  5.217751e-01 &     -1.355061 &      1.106987 & ⋯ &  3.555069e-01 &     -2.270413 &      1.516775 &      2.386019 & -99999 & F & Anciano & DXI800 num 1 & CLC00638 & 0\\\\\n\t3 & 2022-07-01 02:16:09 & 2.400 &  2.3343280 &  0.40777892 & 6.3948257 &  0.170757979 & -9.999900e+04 & -9.999900e+04 & -99999.000000 & -99999.000000 & ⋯ & -9.999900e+04 & -99999.000000 & -99999.000000 & -99999.000000 & -99999 & M & Anciano & DXI800 num 2 & CLC00544 & 0\\\\\n\t4 & 2022-07-01 23:43:01 & 0.128 &  0.3011685 &  0.08686758 & 0.2372284 &  0.003601688 &  2.412237e-01 &  5.199918e-01 &     -1.406706 &      1.053865 & ⋯ &  3.967966e-01 &     -2.256904 &      1.508809 &      2.370393 & -99999 & M & Adulto  & DXI800 num 1 & CLC00638 & 0\\\\\n\t5 & 2022-07-01 23:34:01 & 0.045 & -0.4250092 &  0.02542740 & 0.1287398 &  0.088017741 &  2.374190e-01 &  5.214336e-01 &     -1.456832 &      1.000413 & ⋯ &  4.401376e-01 &     -2.235242 &      1.500968 &      2.354775 & -99999 & F & Anciano & DXI800 num 1 & CLC00638 & 0\\\\\n\t6 & 2022-07-01 02:16:09 & 2.400 &  3.3719282 &  0.12079282 & 4.3254634 & -0.097094162 & -9.999900e+04 & -9.999900e+04 & -99999.000000 & -99999.000000 & ⋯ & -9.999900e+04 & -99999.000000 & -99999.000000 & -99999.000000 & -99999 & M & Anciano & DXI800 num 2 & CLC00544 & 0\\\\\n\\end{tabular}\n",
            "text/plain": [
              "  TIEMPO_MUESTRA      RESULTADO W1         W2          W3        W4          \n",
              "1 2022-07-01 23:43:01 0.128      0.1330702 -0.48218981 0.4076077 -0.085139907\n",
              "2 2022-07-01 23:34:01 0.045      0.0398048 -0.12198745 0.3524334 -0.054897129\n",
              "3 2022-07-01 02:16:09 2.400      2.3343280  0.40777892 6.3948257  0.170757979\n",
              "4 2022-07-01 23:43:01 0.128      0.3011685  0.08686758 0.2372284  0.003601688\n",
              "5 2022-07-01 23:34:01 0.045     -0.4250092  0.02542740 0.1287398  0.088017741\n",
              "6 2022-07-01 02:16:09 2.400      3.3719282  0.12079282 4.3254634 -0.097094162\n",
              "  W5            W6            W7            W8            ⋯ V5           \n",
              "1  2.296534e-01  5.265680e-01     -1.301906      1.159744 ⋯  3.164701e-01\n",
              "2  2.381541e-01  5.217751e-01     -1.355061      1.106987 ⋯  3.555069e-01\n",
              "3 -9.999900e+04 -9.999900e+04 -99999.000000 -99999.000000 ⋯ -9.999900e+04\n",
              "4  2.412237e-01  5.199918e-01     -1.406706      1.053865 ⋯  3.967966e-01\n",
              "5  2.374190e-01  5.214336e-01     -1.456832      1.000413 ⋯  4.401376e-01\n",
              "6 -9.999900e+04 -9.999900e+04 -99999.000000 -99999.000000 ⋯ -9.999900e+04\n",
              "  V6            V7            V8            V9     PACIENTE_SEXO EDAD_BIN\n",
              "1     -2.276030      1.524866      2.401652 -99999 M             Adulto  \n",
              "2     -2.270413      1.516775      2.386019 -99999 F             Anciano \n",
              "3 -99999.000000 -99999.000000 -99999.000000 -99999 M             Anciano \n",
              "4     -2.256904      1.508809      2.370393 -99999 M             Adulto  \n",
              "5     -2.235242      1.500968      2.354775 -99999 F             Anciano \n",
              "6 -99999.000000 -99999.000000 -99999.000000 -99999 M             Anciano \n",
              "  ANALIZADOR   CODIGO_PRUEBA CTRL\n",
              "1 DXI800 num 1 CLC00638      0   \n",
              "2 DXI800 num 1 CLC00638      0   \n",
              "3 DXI800 num 2 CLC00544      0   \n",
              "4 DXI800 num 1 CLC00638      0   \n",
              "5 DXI800 num 1 CLC00638      0   \n",
              "6 DXI800 num 2 CLC00544      0   "
            ]
          },
          "metadata": {}
        }
      ],
      "source": [
        "# Convertir fechas en formato POSIXct:\n",
        "data_sel_tr[,1] %<>% as.POSIXct(tz = \"Europe/Madrid\")\n",
        "head(data_sel_tr)"
      ]
    },
    {
      "cell_type": "markdown",
      "source": [
        "# Definición de funciones para transformación de variables, normalización y secuenciación de series de datos:\n"
      ],
      "metadata": {
        "id": "mMi3X0OGv3k7"
      }
    },
    {
      "cell_type": "markdown",
      "source": [
        "## Función ```normalize_train```.\n",
        "\n",
        "Para la normalización de las variables continuas del dataset de entrenamiento y sustitución de valores NA en los coeficientes wavelet por un valor numérico arbitrario fácilmente enmascarable. Devuelve también una lista de vectores de medias y de desviaciones estándar que luego se usan como argumentos en para las funciones de normalización de los datasets de validación y test. De esta forma, el escalado y normalización se realiza con la misma media y desviación del set de entrenamiento para los otros dos datasets."
      ],
      "metadata": {
        "id": "szsB5usGooCG"
      }
    },
    {
      "cell_type": "code",
      "source": [
        "normalize_train <- function(data) {\n",
        "   \n",
        "  # Identificar las columnas que empiezan por W y la columna 'RESULTADO'\n",
        "  wavelet_cols <- grep(\"^[WV]\", colnames(data), value = TRUE)\n",
        "  result_col <- \"RESULTADO\"\n",
        "  \n",
        "  # Calcular medias y desviaciones estándar por grupos de pruebas y   analizador:\n",
        "  means <- data %>%\n",
        "    group_by(ANALIZADOR, CODIGO_PRUEBA) %>%\n",
        "    summarise(across(c(result_col, wavelet_cols),\n",
        "                     ~mean(., na.rm = T))) \n",
        "  \n",
        "  std_devs <- data %>% \n",
        "    group_by(ANALIZADOR, CODIGO_PRUEBA) %>% \n",
        "    summarise(across(c(result_col, wavelet_cols),\n",
        "                     ~sd(., na.rm = T)))\n",
        "  \n",
        "  # Normalizar las columnas de resultado y coeficientes wavelet\n",
        "  norm_data <- data %>%\n",
        "    group_by(ANALIZADOR, CODIGO_PRUEBA) %>%\n",
        "    mutate(across(c(result_col, wavelet_cols), scale))%>%\n",
        "    mutate(across(wavelet_cols,\n",
        "                           ~ifelse(is.na(.), -99999, .))) %>%\n",
        "    ungroup()\n",
        "  \n",
        "  # Devolver el dataframe escalado y las medias y desviaciones estándar:\n",
        "  \n",
        "  return(list(scaled_data = as.data.frame(norm_data), \n",
        "              means = means, stdev = std_devs))\n",
        "}"
      ],
      "metadata": {
        "id": "o0ZlcpJTv4M0"
      },
      "execution_count": 8,
      "outputs": []
    },
    {
      "cell_type": "markdown",
      "source": [
        "## Función ```norm_test_val```.\n",
        "\n",
        "Análoga a ```normalize_train```, pero con la diferencia de que usa la media y desviación estándar del dataset de entrenamiento para validar los datasets de validación y test:"
      ],
      "metadata": {
        "id": "WDYhaVREo73A"
      }
    },
    {
      "cell_type": "code",
      "source": [
        "norm_test_val <- function(data, means, stds) {\n",
        "  \n",
        "  # Identificar las columnas numéricas y seleccionarlas\n",
        "  wavelet_cols <- grep(\"^[WV]\", colnames(data), value = TRUE)\n",
        "  result_col <- c(\"RESULTADO\")\n",
        "  test_cols <- \"CODIGO_PRUEBA\"\n",
        "  cols <- c(result_col, wavelet_cols, test_cols)\n",
        "  \n",
        "  # Seleccionar medias y desviaciones de resultados y coeficientes   wavelet:\n",
        "  means_r <- train_n$means\n",
        "  stds_r <- train_n$stdev\n",
        "  means_wl <- train_n$means[wavelet_cols]\n",
        "  stds_wl <- train_n$stdev[wavelet_cols]\n",
        "  \n",
        "  # Normalizar por cada prueba las columnas de resultado y coeficientes wavelet usando las medias y desviaciones estándar de train suministradas:\n",
        "  means <- data %>%\n",
        "    group_by(ANALIZADOR, CODIGO_PRUEBA) %>%\n",
        "    left_join(means_r, by = c(\"ANALIZADOR\", \"CODIGO_PRUEBA\"), \n",
        "              suffix = c(\".val\", \".means\")) %>%\n",
        "     ungroup()\n",
        "   \n",
        "  stds <- data %>%\n",
        "    group_by(ANALIZADOR, CODIGO_PRUEBA) %>%\n",
        "     left_join(stds_r, by = c(\"ANALIZADOR\", \"CODIGO_PRUEBA\"),\n",
        "               suffix = c(\".val\", \".sd\")) %>%\n",
        "    ungroup()\n",
        "     \n",
        "    \n",
        "  norm_data <- data %>%\n",
        "    mutate(., RESULTADO.st =\n",
        "             (.[,result_col]-\n",
        "                select(means,\n",
        "                       starts_with(result_col) &\n",
        "                       ends_with(\".means\"))) /\n",
        "                select(stds,\n",
        "                       starts_with(result_col) &\n",
        "                       ends_with(\".sd\"))\n",
        "           ) %>%\n",
        "    mutate(WAVELETS.st =\n",
        "             across(all_of(wavelet_cols),\n",
        "                    ~ (. - select(means, \n",
        "                                  starts_with(cur_column()) &\n",
        "                                    ends_with(\".means\"))[[1]]) /\n",
        "                      select(stds,\n",
        "                             starts_with(cur_column()) &\n",
        "                               ends_with(\".sd\"))[[1]])\n",
        "           ) %>%\n",
        "    select(-c(result_col, wavelet_cols)) %>%\n",
        "    unnest(c(WAVELETS.st, RESULTADO.st)) %>%\n",
        "    relocate(starts_with(\"RESULTADO\"), .after = 1) %>%\n",
        "    relocate(starts_with(\"W\"), .after = 2) %>%\n",
        "    relocate(starts_with(\"V\"), .before = PACIENTE_SEXO) \n",
        "    \n",
        "  names(norm_data)[2]<-result_col\n",
        "  \n",
        "  return(as.data.frame(norm_data))\n",
        "}"
      ],
      "metadata": {
        "id": "nLqSx55RwUDM"
      },
      "execution_count": 9,
      "outputs": []
    },
    {
      "cell_type": "markdown",
      "source": [
        "## Función ```code_cat_var```.\n",
        "\n",
        "Convierte las variables categóricas tipo string en vectores numéricos y realiza una codificción one-hot, creando una lista que retiene en un vector la información de los niveles de los factores. "
      ],
      "metadata": {
        "id": "fXPGuMM4pUU6"
      }
    },
    {
      "cell_type": "code",
      "source": [
        "code_cat_var <- function(data) {\n",
        "  # Eliminación de la columna CODIGO_PRUEBA si solo tiene una          categoría:\n",
        "  if(length(unique(data$CODIGO_PRUEBA))==1){\n",
        "    data %<>% select(., -CODIGO_PRUEBA)\n",
        "    }\n",
        "  \n",
        "  # Eliminación de los casos con sexo indeterminado, debido a que son   muy minoritarios y crean una variable innecesaria:\n",
        "  \n",
        "  data %<>% filter(PACIENTE_SEXO != \"U\")\n",
        "  \n",
        "  # Detección de strings:\n",
        "  cat_vars <- which(sapply(data, is.character))\n",
        "  # Conversión a factores:\n",
        "  data_cat <- lapply(data[,cat_vars], as.factor)\n",
        "  # Extracción de niveles:\n",
        "  levels <- lapply(data_cat, levels)\n",
        "  \n",
        "  # Codificar one-hot todas las variables factor:\n",
        "  encoded_cols <- lapply(seq_along(data_cat), function(i) {\n",
        "    cols <- model.matrix(~ factor(data_cat[[i]]) - 1)\n",
        "    colnames(cols) <- paste0(names(data)[cat_vars[i]], \"_\",\n",
        "                             levels[[i]])\n",
        "    cols\n",
        "    })\n",
        "  \n",
        "  # Unir columnas codificadas con conjunto de datos original:\n",
        "  if (!\"CODIGO_PRUEBA\" %in% names(data)) {\n",
        "    data_encoded <- bind_cols(data %>% \n",
        "                                select(-all_of(cat_vars)),\n",
        "                                encoded_cols)\n",
        "    } else {\n",
        "      data_encoded <-  bind_cols(data %>%\n",
        "                                   select(c(-all_of(cat_vars),\n",
        "                                            \"CODIGO_PRUEBA\")),\n",
        "                                 encoded_cols)\n",
        "      }\n",
        "  \n",
        "    # Reordenar columnas:\n",
        "  data_encoded <- data_encoded %>%\n",
        "  relocate(CTRL, .after = everything())\n",
        "  \n",
        "  return(list(data = data_encoded, levels = levels))\n",
        "}\n"
      ],
      "metadata": {
        "id": "OIa4QAmLn5DF"
      },
      "execution_count": 10,
      "outputs": []
    },
    {
      "cell_type": "markdown",
      "source": [
        "## Función ```unique_lab_cases```.\n",
        "\n",
        "Crea un índice de casos únicos de combinaciones de variables categóricas."
      ],
      "metadata": {
        "id": "_H5KdMUPp7T-"
      }
    },
    {
      "cell_type": "code",
      "execution_count": 11,
      "metadata": {
        "id": "Jx8y5h9SSnsg"
      },
      "outputs": [],
      "source": [
        "  unique_lab_cases <- function(df, categorical_vars) {\n",
        "  unique_groups <- unique(df[categorical_vars])\n",
        "  \n",
        "  code <- apply(unique_groups, 1, function(row) {\n",
        "    paste0(ifelse(row == 1, 1, 0), collapse = \"\")\n",
        "  })\n",
        "  unique_groups %<>% mutate(., code)\n",
        "  coded_df <- df %>%\n",
        "    merge(unique_groups, ., by = colnames(unique_groups)\n",
        "          [-length(colnames(unique_groups))])\n",
        "  coded_df <- coded_df[, c(colnames(df), \"code\")]\n",
        "  \n",
        "  return(coded_df)\n",
        "}"
      ]
    },
    {
      "cell_type": "markdown",
      "source": [
        "## Función ```create_lstm_data.1```.\n",
        "\n",
        "Diseñada para la creación de lotes de series temporales de longitud k (lookback). Basada en la función presentada en Chollet François, Deep learning with Python. Shelter Island, NY: Manning Publications Co; 2018. 335 p. Cap. 6.3.2 "
      ],
      "metadata": {
        "id": "oioo6MtdqH_9"
      }
    },
    {
      "cell_type": "code",
      "source": [
        "create_lstm_data.1 <- \n",
        "  function(data, lookback, delay, min_index, max_index,\n",
        "           shuffle = FALSE, batch_size, step = 1,\n",
        "           predseries) {\n",
        "    \n",
        "  if (is.null(max_index)) max_index <- nrow(data) - delay -1\n",
        "  i <- min_index + lookback\n",
        "  gen <- function() {\n",
        "    if (shuffle) {\n",
        "      rows <- sample(c((min_index+lookback):max_index), \n",
        "                     size = batch_size)\n",
        "    } else {\n",
        "      if (i + batch_size >= max_index)\n",
        "        i <<- min_index + lookback\n",
        "      rows <- c(i:min(i+batch_size, max_index))\n",
        "      i <<- i + length(rows)\n",
        "    }\n",
        "    samples <- array(0, dim = c(length(rows),\n",
        "                                lookback / step,\n",
        "                                dim(data)[[-1]]))\n",
        "    targets <- array(0, dim = c(length(rows)))\n",
        "    for (j in 1:length(rows)) {\n",
        "      indices <- seq(rows[[j]] - lookback, rows[[j]],\n",
        "                     length.out = dim(samples)[[2]])\n",
        "      samples[j,,] <- data[indices, ]\n",
        "      targets[[j]] <- data[rows[[j]] + delay, predseries]\n",
        "    }\n",
        "    list(samples, targets)\n",
        "  }\n",
        "  return(gen)\n",
        "}"
      ],
      "metadata": {
        "id": "102JGm8PqJJU"
      },
      "execution_count": 12,
      "outputs": []
    },
    {
      "cell_type": "markdown",
      "source": [
        "## Funciones ```train_gen``` y ```val_gen```.\n",
        "\n",
        "Funciones generadoras globales de series para train y validation, Estas funciones generan de manera indefinida series con los datos de entrenamiento y validación, usando de manera consecutiva las funciones generadoras individuales almacenadas junto a los subconjuntos de datos con las posibles combinaciones de variables categóricas. Si se llega a la generación última se repite el proceso desde la primera. Incluyen un TryCatch para evitar la parada del modelo si se encuentran secuencias de datos vacías.  "
      ],
      "metadata": {
        "id": "2AJ4YkqqqSqJ"
      }
    },
    {
      "cell_type": "code",
      "source": [
        "train_gen <- function() {\n",
        "  indices <- sample(length(train_k))\n",
        "  \n",
        "  for (i in indices) {\n",
        "    sequence <- tryCatch(\n",
        "      train_k[[i]](),\n",
        "      error = function(e) {\n",
        "        warning(\"Empty sequence error occurred in the generator. Trying the next one.\")\n",
        "        return(NULL)\n",
        "      }\n",
        "    )\n",
        "    \n",
        "    if (!is.null(sequence)) {\n",
        "      return(sequence)\n",
        "    }\n",
        "  }\n",
        "  \n",
        "  NULL\n",
        "}\n",
        "\n",
        "\n",
        "val_gen <- function() {\n",
        "  indices <- sample(length(val_k))\n",
        "  \n",
        "  for (i in indices) {\n",
        "    sequence <- tryCatch(\n",
        "      val_k[[i]](),\n",
        "      error = function(e) {\n",
        "        warning(\"Empty sequence error occurred in the generator. Trying the next one.\")\n",
        "        return(NULL)\n",
        "      }\n",
        "    )\n",
        "    \n",
        "    if (!is.null(sequence)) {\n",
        "      return(sequence)\n",
        "    }\n",
        "  }\n",
        "  \n",
        "  NULL\n",
        "}"
      ],
      "metadata": {
        "id": "T3enjYCFqSEb"
      },
      "execution_count": 30,
      "outputs": []
    },
    {
      "cell_type": "markdown",
      "source": [
        "# División de datasets:\n",
        "Se divide el dataset en 50% de datos para entrenamiento, 25% para test y 25% para validación. Para evitar fraccionar las unidades temporales diarias usamos percentiles de la secuencia temporal en días: "
      ],
      "metadata": {
        "id": "CgLYbhv9whC2"
      }
    },
    {
      "cell_type": "code",
      "execution_count": 14,
      "metadata": {
        "id": "83NtXb2ht_h3",
        "colab": {
          "base_uri": "https://localhost:8080/",
          "height": 86
        },
        "outputId": "154e27c3-d91e-4742-cfd7-378c08cf0589"
      },
      "outputs": [
        {
          "output_type": "display_data",
          "data": {
            "text/plain": [
              "             50% \n",
              "\"2022-11-08 UTC\" "
            ]
          },
          "metadata": {}
        },
        {
          "output_type": "display_data",
          "data": {
            "text/plain": [
              "             75% \n",
              "\"2022-12-23 UTC\" "
            ]
          },
          "metadata": {}
        }
      ],
      "source": [
        "\n",
        "time_point_50 <- as.POSIXct(as.Date(\n",
        "  quantile(data_sel_tr[,1], 0.5)))\n",
        "\n",
        "time_point_75 <- as.POSIXct(as.Date(\n",
        "  quantile(data_sel_tr[,1], 0.75)))\n",
        "\n",
        "time_point_50\n",
        "time_point_75\n",
        "\n",
        "# Muestra de entrenamiento:\n",
        "train <- data_sel_tr %>%\n",
        "  subset(.[,1] <= time_point_50) \n",
        "\n",
        "# Muestra de validación:\n",
        "val <- data_sel_tr %>%\n",
        "  subset(data_sel_tr[,1] > time_point_75)\n",
        "  \n",
        "\n",
        "# Muestra de test:\n",
        "#test <- data_sel_code$data %>%\n",
        "# subset(.[,1] > time_point_50 &\n",
        "  #         .[,1] <= time_point_75)"
      ]
    },
    {
      "cell_type": "markdown",
      "source": [
        "## Normalización de los datasets."
      ],
      "metadata": {
        "id": "udG11l24qzNe"
      }
    },
    {
      "cell_type": "code",
      "source": [
        "# Set de entrenamiento:\n",
        "train_n <- normalize_train(train)\n",
        "\n",
        "# Set de validación:\n",
        "val_n <- norm_test_val(val, means = train_n$means,\n",
        "                              stds = train_n$stdev)"
      ],
      "metadata": {
        "colab": {
          "base_uri": "https://localhost:8080/"
        },
        "id": "qTFedinkfgJ7",
        "outputId": "8865e54c-5cd1-4d5a-aaa4-f987cf1762f3"
      },
      "execution_count": 15,
      "outputs": [
        {
          "output_type": "stream",
          "name": "stderr",
          "text": [
            "Warning message:\n",
            "“\u001b[1m\u001b[22mThere were 2 warnings in `summarise()`.\n",
            "The first warning was:\n",
            "\u001b[1m\u001b[22m\u001b[36mℹ\u001b[39m In argument: `across(c(result_col, wavelet_cols), ~mean(., na.rm = T))`.\n",
            "Caused by warning:\n",
            "\u001b[1m\u001b[22m\u001b[33m!\u001b[39m Using an external vector in selections was deprecated in tidyselect 1.1.0.\n",
            "\u001b[36mℹ\u001b[39m Please use `all_of()` or `any_of()` instead.\n",
            "  # Was:\n",
            "  data %>% select(result_col)\n",
            "\n",
            "  # Now:\n",
            "  data %>% select(all_of(result_col))\n",
            "\n",
            "See <https://tidyselect.r-lib.org/reference/faq-external-vector.html>.\n",
            "\u001b[1m\u001b[22m\u001b[36mℹ\u001b[39m Run `dplyr::last_dplyr_warnings()` to see the 1 remaining warning.”\n",
            "\u001b[1m\u001b[22m`summarise()` has grouped output by 'ANALIZADOR'. You can override using the\n",
            "`.groups` argument.\n",
            "\u001b[1m\u001b[22m`summarise()` has grouped output by 'ANALIZADOR'. You can override using the\n",
            "`.groups` argument.\n"
          ]
        }
      ]
    },
    {
      "cell_type": "markdown",
      "source": [
        "## Codificación de variables mediante one-hot."
      ],
      "metadata": {
        "id": "b-onq6EPrBnd"
      }
    },
    {
      "cell_type": "code",
      "source": [
        "train_code <- code_cat_var(train_n$scaled_data)\n",
        "\n",
        "val_code <- code_cat_var(val_n)"
      ],
      "metadata": {
        "id": "cEhSgHHdfhrZ"
      },
      "execution_count": 16,
      "outputs": []
    },
    {
      "cell_type": "markdown",
      "source": [
        "## Redistribución temporal de casos y oversampling."
      ],
      "metadata": {
        "id": "xXoqvuTPrHQ_"
      }
    },
    {
      "cell_type": "code",
      "source": [],
      "metadata": {
        "id": "gShxfBPPrKNz"
      },
      "execution_count": null,
      "outputs": []
    },
    {
      "cell_type": "markdown",
      "source": [
        "## Preparación de series temporales de longitud k agrupadas por categorías y por fechas en los datasets de training y validación. "
      ],
      "metadata": {
        "id": "jW1LGhzDrKe4"
      }
    },
    {
      "cell_type": "code",
      "execution_count": 17,
      "metadata": {
        "id": "eAOcJ4F8faIe"
      },
      "outputs": [],
      "source": [
        "# Creación de los códigos identificativos únicos de combinaciones de variables categóricas para el set de training usando la función unique_lab_cases e indicando las posiciones de las variables categóricas en train_code$data que se deseen incluir (en este caso el analizador): \n",
        "\n",
        "train_indx <- unique_lab_cases(train_code$data,\n",
        "                               categorical_vars = c(28:29))\n",
        "\n",
        "# Extraemos los códigos para realizar un diccionario de traducción de códigos únicos a índices numéricos:\n",
        "code_values <- unique(train_indx[,\"code\"])\n",
        "code_dictionary <- data.frame(code = code_values)\n",
        "code_dictionary %<>%  \n",
        "  mutate(., index = as.numeric(factor(code_values, \n",
        "                                      levels = code_values)))\n",
        "\n",
        "# Sustituimos los códigos de train_indx por sus índices numéricos:\n",
        "train_indx$index <- code_dictionary$index[match(train_indx$code, code_dictionary$code)]\n",
        "train_indx$code <- NULL\n",
        "\n",
        "# Creamos todas las posibles combinaciones de códigos y fechas:\n",
        "\n",
        "train_indx$TIEMPO_MUESTRA %<>% as.Date()\n",
        "\n",
        "combinations_train <- expand.grid(code = code_values,\n",
        "                            date = unique(train_indx$TIEMPO_MUESTRA))\n",
        "\n",
        "# Traducimos los códigos a índices:\n",
        "\n",
        "combinations_train$index <-\n",
        "  code_dictionary$index[match(combinations_train$code,\n",
        "                              code_dictionary$code)]\n",
        "\n",
        "# Creación de lista de funciones generadoras de las series temporales de longitud k por categoría de CODIGO_PRUEBA del dataset de entrenamiento. Se generan series para cada día de observación conteniendo los resultados pertenecientes a cada una de las categorías elegidas:\n",
        "\n",
        "# Hiperparámetros para generar las series temporales:\n",
        "lookback <- 10 # Longitud de la secuencia previa al target.\n",
        "delay <- 0 # Se escoge 0 debido a que los targets futuros ya se                 colocaron en la misma fila que la muestra del día                  anterior.\n",
        "batch_size <- 30 # Tamaño de batch.\n",
        "min_index <- 1 # Indice de partida de la serie temporal.\n",
        "predseries <- length(train_indx) - 2 # Posición en el dataset de la variable a predecir (CTRL) una vez eliminados TIEMPO_MUESTRA e index.\n",
        "\n",
        "train_k <- mapply(function(index, date) {\n",
        "  data <- as.matrix(\n",
        "  train_indx[train_indx[,\"TIEMPO_MUESTRA\"] == date &\n",
        "               train_indx[,\"index\"] == index,\n",
        "             - c(1, length(train_indx))])\n",
        "  max_index <- nrow(data)-delay\n",
        "  \n",
        "  create_lstm_data.1(\n",
        "    data = data,\n",
        "    lookback = lookback,\n",
        "    delay = delay,\n",
        "    batch_size = batch_size,\n",
        "    min_index = min_index,\n",
        "    max_index = max_index,\n",
        "    predseries = predseries)\n",
        "},\n",
        "index = combinations_train$index,\n",
        "date = combinations_train$date,\n",
        "SIMPLIFY = T\n",
        ") \n",
        "\n",
        "\n",
        "# Cálculo del número de steps de training:\n",
        "train_steps <- round((nrow(train_code$data) - lookback) / batch_size)"
      ]
    },
    {
      "cell_type": "code",
      "execution_count": 18,
      "metadata": {
        "id": "MaMmjDpDfbzE"
      },
      "outputs": [],
      "source": [
        "# Creación de los índices identificativos de combinaciones de variables categóricas para el set de validación:\n",
        "val_indx <- unique_lab_cases(val_code$data, \n",
        "                             categorical_vars = c(28:29))\n",
        "\n",
        "# Usamos el diccionario de códigos creado anteriormente: \n",
        "val_indx$index <- code_dictionary$index[match(val_indx$code,\n",
        "                                            code_dictionary$code)]\n",
        "val_indx$code <- NULL\n",
        "\n",
        "# Generar todas las combinaciones de index y date para el set de validación:\n",
        "\n",
        "val_indx$TIEMPO_MUESTRA %<>% as.Date()\n",
        "\n",
        "combinations_val <- expand.grid(code = code_values,\n",
        "                            date = unique(val_indx$TIEMPO_MUESTRA))\n",
        "\n",
        "# Traducimos los códigos a índices:\n",
        "\n",
        "combinations_val$index <-\n",
        "  code_dictionary$index[match(combinations_val$code,\n",
        "                              code_dictionary$code)]\n",
        "\n",
        "# Creación de lista de funciones generadoras del dataset de validación:\n",
        "\n",
        "val_k <- mapply(function(index, date) {\n",
        "  data <- as.matrix(\n",
        "  val_indx[val_indx[,\"TIEMPO_MUESTRA\"] == date &\n",
        "               val_indx[,\"index\"] == index,\n",
        "             - c(1, length(val_indx))])\n",
        "  max_index <- nrow(data)-delay\n",
        "  \n",
        "  create_lstm_data.1(\n",
        "    data = data,\n",
        "    lookback = lookback,\n",
        "    delay = delay,\n",
        "    batch_size = batch_size,\n",
        "    min_index = min_index,\n",
        "    max_index = max_index,\n",
        "    predseries = predseries)\n",
        "  },\n",
        "  index = combinations_val$index,\n",
        "  date = combinations_val$date,\n",
        "  SIMPLIFY = T\n",
        ")  \n",
        "\n",
        "# Cálculo del número de steps de validación:\n",
        "val_steps <- round((nrow(val_code$data)-lookback) / batch_size)"
      ]
    },
    {
      "cell_type": "markdown",
      "source": [
        "# Definición del modelo de Machine Learning. Red Neuronal Recurrente LSTM (Long-short term memory)."
      ],
      "metadata": {
        "id": "LK8IQf2jrmXe"
      }
    },
    {
      "cell_type": "markdown",
      "source": [
        "## Diseño del modelo"
      ],
      "metadata": {
        "id": "lRw0cxnvruBq"
      }
    },
    {
      "cell_type": "code",
      "source": [
        "set.seed(123)\n",
        "\n",
        "input_shape <- c(lookback, dim(train_code$data[,-1])[[-1]])\n",
        "\n",
        "model_1 <- keras_model_sequential() %>%\n",
        "  \n",
        "  layer_masking(mask_value = -99999, input_shape = input_shape) %>%\n",
        "  layer_lstm(units = 32, dropout = 0.1, recurrent_dropout = 0.5,\n",
        "             input_shape = c(NULL, lookback,\n",
        "                             dim(train_code$data[,-1])[[-1]])) %>%\n",
        "  layer_dense(units = 1, activation = \"sigmoid\")\n",
        "\n",
        "summary(model_1)"
      ],
      "metadata": {
        "colab": {
          "base_uri": "https://localhost:8080/"
        },
        "id": "c3xH6Z3SiqcJ",
        "outputId": "728c77e2-5fac-4b0d-ff74-c9f4ad84d56c"
      },
      "execution_count": 21,
      "outputs": [
        {
          "output_type": "stream",
          "name": "stdout",
          "text": [
            "Model: \"sequential_1\"\n",
            "________________________________________________________________________________\n",
            " Layer (type)                       Output Shape                    Param #     \n",
            "================================================================================\n",
            " masking_1 (Masking)                (None, 10, 57)                  0           \n",
            " lstm_1 (LSTM)                      (None, 32)                      11520       \n",
            " dense_1 (Dense)                    (None, 1)                       33          \n",
            "================================================================================\n",
            "Total params: 11,553\n",
            "Trainable params: 11,553\n",
            "Non-trainable params: 0\n",
            "________________________________________________________________________________\n"
          ]
        }
      ]
    },
    {
      "cell_type": "markdown",
      "source": [
        "## Métrica F1"
      ],
      "metadata": {
        "id": "hF1ySDkbsJbP"
      }
    },
    {
      "cell_type": "code",
      "source": [
        "# Función para calcular F1 como métrica para el modelo:\n",
        "  f1_score <- function(y_true, y_pred) {\n",
        "  true_positives <- sum(backend()$round(backend()$clip(y_true * y_pred, 0, 1)))\n",
        "  possible_positives <- sum(backend()$round(backend()$clip(y_true, 0, 1)))\n",
        "  predicted_positives <- sum(backend()$round(backend()$clip(y_pred, 0, 1)))\n",
        "  precision <- true_positives / (predicted_positives + backend()$epsilon())\n",
        "  recall <- true_positives / (possible_positives + backend()$epsilon())\n",
        "  f1_score <- 2 * precision * recall / (precision + recall + backend()$epsilon())\n",
        "  return(f1_score)\n",
        "}"
      ],
      "metadata": {
        "id": "cfcPLr_zisli"
      },
      "execution_count": null,
      "outputs": []
    },
    {
      "cell_type": "markdown",
      "source": [
        "## Compilación y callbacks"
      ],
      "metadata": {
        "id": "Shvy3YRDsX_H"
      }
    },
    {
      "cell_type": "code",
      "source": [
        "model_1 %<>% compile(\n",
        "  optimizer = \"adam\",\n",
        "  loss = \"binary_crossentropy\",\n",
        "  metrics = list(\"binary_accuracy\",\n",
        "                 f1_score)\n",
        "  )\n",
        "\n",
        "callbacks <- list(\n",
        "  callback_model_checkpoint(file.path(resultsdir, \"lstm_1.keras\",\n",
        "                                     save_best_only = TRUE)))"
      ],
      "metadata": {
        "id": "bI_xxLhHi2lx"
      },
      "execution_count": 22,
      "outputs": []
    },
    {
      "cell_type": "markdown",
      "source": [
        "## Entrenamiento"
      ],
      "metadata": {
        "id": "rSQY4mL_sjM-"
      }
    },
    {
      "cell_type": "code",
      "source": [
        "history_1 <- model_1 %>% fit_generator(\n",
        "  generator = train_gen,\n",
        "  steps_per_epoch = train_steps,\n",
        "  epochs = 10,\n",
        "  validation_data = val_gen,\n",
        "  validation_steps = val_steps,\n",
        "  callbacks = callbacks\n",
        ")"
      ],
      "metadata": {
        "id": "6-j4p2eysjeJ",
        "colab": {
          "base_uri": "https://localhost:8080/",
          "height": 1000
        },
        "outputId": "bf672404-d462-43f2-99a3-a5f41577ecf1"
      },
      "execution_count": 31,
      "outputs": [
        {
          "output_type": "stream",
          "name": "stderr",
          "text": [
            "Warning message in fit_generator(., generator = train_gen, steps_per_epoch = train_steps, :\n",
            "“`fit_generator` is deprecated. Use `fit` instead, it now accept generators.”\n",
            "Warning message in value[[3L]](cond):\n",
            "“Empty sequence error occurred in the generator.\n",
            "                Trying the next one.”\n"
          ]
        },
        {
          "output_type": "error",
          "ename": "ERROR",
          "evalue": "ignored",
          "traceback": [
            "Error in eval(expr, envir, enclos): tensorflow.python.framework.errors_impl.UnimplementedError: Graph execution error:\n<... omitted ...>ng=training, mask=mask)\n    File \"/usr/local/lib/python3.10/dist-packages/keras/engine/functional.py\", line 512, in call\n      return self._run_internal_graph(inputs, training=training, mask=mask)\n    File \"/usr/local/lib/python3.10/dist-packages/keras/engine/functional.py\", line 651, in _run_internal_graph\n      y = self._conform_to_reference_input(y, ref_input=x)\n    File \"/usr/local/lib/python3.10/dist-packages/keras/engine/functional.py\", line 748, in _conform_to_reference_input\n      tensor = tf.cast(tensor, dtype=ref_input.dtype)\nNode: 'sequential_1/Cast'\n2 root error(s) found.\n  (0) UNIMPLEMENTED:  Cast string to float is not supported\n\t [[{{node sequential_1/Cast}}]]\n  (1) CANCELLED:  Function was cancelled before it was started\n0 successful operations.\n0 derived errors ignored. [Op:__inference_train_function_4627]\nSee `reticulate::py_last_error()` for details\nTraceback:\n",
            "1. model_1 %>% fit_generator(generator = train_gen, steps_per_epoch = train_steps, \n .     epochs = 10, validation_data = val_gen, validation_steps = val_steps, \n .     callbacks = callbacks)",
            "2. fit_generator(., generator = train_gen, steps_per_epoch = train_steps, \n .     epochs = 10, validation_data = val_gen, validation_steps = val_steps, \n .     callbacks = callbacks)",
            "3. do.call(fit, args)",
            "4. (function (object, ...) \n . {\n .     UseMethod(\"fit\")\n . })(object = structure(function (object, ...) \n . {\n .     compose_layer(object, x, ...)\n . }, class = c(\"keras.engine.sequential.Sequential\", \"keras.engine.functional.Functional\", \n . \"keras.engine.training.Model\", \"keras.engine.base_layer.Layer\", \n . \"tensorflow.python.module.module.Module\", \"tensorflow.python.trackable.autotrackable.AutoTrackable\", \n . \"tensorflow.python.trackable.base.Trackable\", \"keras.utils.version_utils.LayerVersionSelector\", \n . \"keras.utils.version_utils.ModelVersionSelector\", \"python.builtin.object\"\n . ), py_object = <environment>), x = function () \n . {\n .     if (index_train > length(train_k)) {\n .         index_train <<- 1\n .     }\n .     sequence <- NULL\n .     counter <- 0\n .     while (is.null(sequence) && counter < length(train_k)) {\n .         sequence <- tryCatch(train_k[[index_train]](), error = function(e) {\n .             warning(\"Empty sequence error occurred in the generator.\\n                Trying the next one.\")\n .             return(NULL)\n .         })\n .         index_train <<- index_train + 1\n .         counter <<- counter + 1\n .     }\n .     return(sequence)\n . }, steps_per_epoch = 1820, epochs = 10, verbose = 1, callbacks = list(\n .     <environment>), validation_data = function () \n . {\n .     if (index_val > length(val_k)) {\n .         index_val <<- 1\n .     }\n .     sequence <- NULL\n .     counter <- 0\n .     while (is.null(sequence) && counter < length(val_k)) {\n .         sequence <- tryCatch(val_k[[index_val]](), error = function(e) {\n .             warning(\"Empty sequence error occurred in the generator.\\n                Trying the next one.\")\n .             return(NULL)\n .         })\n .         index_val <<- index_val + 1\n .         counter <<- counter + 1\n .     }\n .     return(sequence)\n . }, validation_steps = 912, class_weight = NULL, max_queue_size = 10, \n .     workers = 1, initial_epoch = 0)",
            "5. fit.keras.engine.training.Model(object = structure(function (object, \n .     ...) \n . {\n .     compose_layer(object, x, ...)\n . }, class = c(\"keras.engine.sequential.Sequential\", \"keras.engine.functional.Functional\", \n . \"keras.engine.training.Model\", \"keras.engine.base_layer.Layer\", \n . \"tensorflow.python.module.module.Module\", \"tensorflow.python.trackable.autotrackable.AutoTrackable\", \n . \"tensorflow.python.trackable.base.Trackable\", \"keras.utils.version_utils.LayerVersionSelector\", \n . \"keras.utils.version_utils.ModelVersionSelector\", \"python.builtin.object\"\n . ), py_object = <environment>), x = function () \n . {\n .     if (index_train > length(train_k)) {\n .         index_train <<- 1\n .     }\n .     sequence <- NULL\n .     counter <- 0\n .     while (is.null(sequence) && counter < length(train_k)) {\n .         sequence <- tryCatch(train_k[[index_train]](), error = function(e) {\n .             warning(\"Empty sequence error occurred in the generator.\\n                Trying the next one.\")\n .             return(NULL)\n .         })\n .         index_train <<- index_train + 1\n .         counter <<- counter + 1\n .     }\n .     return(sequence)\n . }, steps_per_epoch = 1820, epochs = 10, verbose = 1, callbacks = list(\n .     <environment>), validation_data = function () \n . {\n .     if (index_val > length(val_k)) {\n .         index_val <<- 1\n .     }\n .     sequence <- NULL\n .     counter <- 0\n .     while (is.null(sequence) && counter < length(val_k)) {\n .         sequence <- tryCatch(val_k[[index_val]](), error = function(e) {\n .             warning(\"Empty sequence error occurred in the generator.\\n                Trying the next one.\")\n .             return(NULL)\n .         })\n .         index_val <<- index_val + 1\n .         counter <<- counter + 1\n .     }\n .     return(sequence)\n . }, validation_steps = 912, class_weight = NULL, max_queue_size = 10, \n .     workers = 1, initial_epoch = 0)",
            "6. do.call(object$fit, args)",
            "7. (structure(function (...) \n . {\n .     dots <- py_resolve_dots(list(...))\n .     result <- py_call_impl(callable, dots$args, dots$keywords)\n .     if (convert) \n .         result <- py_to_r(result)\n .     if (is.null(result)) \n .         invisible(result)\n .     else result\n . }, class = c(\"python.builtin.method\", \"python.builtin.object\"\n . ), py_object = <environment>))(batch_size = NULL, epochs = 10L, \n .     verbose = 1L, validation_split = 0, shuffle = TRUE, class_weight = NULL, \n .     sample_weight = NULL, initial_epoch = 0L, x = <environment>, \n .     validation_data = <environment>, steps_per_epoch = 1820L, \n .     validation_steps = 912L, callbacks = list(<environment>, \n .         <environment>, <environment>, <environment>))",
            "8. py_call_impl(callable, dots$args, dots$keywords)"
          ]
        }
      ]
    },
    {
      "cell_type": "code",
      "source": [
        "plot(history_1)"
      ],
      "metadata": {
        "colab": {
          "base_uri": "https://localhost:8080/",
          "height": 437
        },
        "id": "7g6glA6-poUO",
        "outputId": "0a1d0f38-8cab-4ac1-9749-68d86102a68c"
      },
      "execution_count": null,
      "outputs": [
        {
          "output_type": "display_data",
          "data": {
            "text/plain": [
              "plot without title"
            ],
            "image/png": "[encoded data removed]"
          },
          "metadata": {
            "image/png": {
              "width": 420,
              "height": 420
            }
          }
        }
      ]
    },
    {
      "cell_type": "markdown",
      "source": [
        "## Evaluación del modelo"
      ],
      "metadata": {
        "id": "F0vpkJbdsp-r"
      }
    },
    {
      "cell_type": "code",
      "source": [
        "path <- file.path(resultsdir, \"lstm_1.keras\")\n",
        "model <- load_model_tf(path) \n",
        "sprintf(\"Test MAE: %.2f\", evaluate(model, test_ds)[\"mae\"]) "
      ],
      "metadata": {
        "id": "Eax-jblQsqMN"
      },
      "execution_count": null,
      "outputs": []
    },
    {
      "cell_type": "markdown",
      "source": [
        "## Cálculo de la línea base de sentido común:\n",
        "Calcula la exactitud mínima del modelo, basada en la predicción de todos los casos con el target más frecuente"
      ],
      "metadata": {
        "id": "D-tEFAvQs2Mo"
      }
    },
    {
      "cell_type": "code",
      "source": [
        "evaluate_naive_method <- function(data_df, ctrl_colname) { \n",
        "  # Cálculo de la moda de CTRL:\n",
        "  ctrl_mode <- as.numeric(names(sort(table(\n",
        "    data_df[[ctrl_colname]]),\n",
        "    decreasing = TRUE)[1]))\n",
        "\n",
        "  # Cálculo de accuracy:\n",
        "  actual_ctrl <- data_df[[ctrl_colname]]\n",
        "  predicted_ctrl <- rep(ctrl_mode, length(actual_ctrl))\n",
        "  accuracy <- sum(actual_ctrl == predicted_ctrl) /\n",
        "    length(actual_ctrl)\n",
        "\n",
        "  accuracy\n",
        "}\n",
        "\n",
        "# Cálculo de accuracy basado en predecir con la moda:\n",
        "accuracy_train <- evaluate_naive_method(train_n$scaled_data, \"CTRL\")\n",
        "accuracy_val <- evaluate_naive_method(val_n, \"CTRL\")\n",
        "\n",
        "sprintf(\"Training naive accuracy: %.2f\", accuracy_train)\n",
        "sprintf(\"Validation naive accuracy: %.2f\", accuracy_val)"
      ],
      "metadata": {
        "id": "NYP73L4Bs3HJ"
      },
      "execution_count": null,
      "outputs": []
    }
  ],
  "metadata": {
    "colab": {
      "provenance": [],
      "gpuType": "T4",
      "authorship_tag": "ABX9TyN4KjRnkEs013bDGgy5ZLpi",
      "include_colab_link": true
    },
    "gpuClass": "standard",
    "kernelspec": {
      "display_name": "R",
      "name": "ir"
    },
    "language_info": {
      "name": "R"
    },
    "accelerator": "GPU"
  },
  "nbformat": 4,
  "nbformat_minor": 0
}